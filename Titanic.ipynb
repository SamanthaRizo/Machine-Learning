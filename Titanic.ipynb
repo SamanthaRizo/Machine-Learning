{
 "cells": [
  {
   "cell_type": "markdown",
   "metadata": {},
   "source": [
    "# Titanic"
   ]
  },
  {
   "cell_type": "code",
   "execution_count": 209,
   "metadata": {},
   "outputs": [],
   "source": [
    "# data analysis\n",
    "import numpy as np\n",
    "import pandas as pd\n",
    "# visualization\n",
    "import matplotlib.pyplot as plt\n",
    "import seaborn as sns\n",
    "%matplotlib inline"
   ]
  },
  {
   "cell_type": "code",
   "execution_count": 210,
   "metadata": {},
   "outputs": [],
   "source": [
    "data = pd.read_csv('train.csv')\n",
    "test = pd.read_csv('test.csv')"
   ]
  },
  {
   "cell_type": "markdown",
   "metadata": {},
   "source": [
    "To visualize the information we check the first rows of the database"
   ]
  },
  {
   "cell_type": "code",
   "execution_count": 211,
   "metadata": {},
   "outputs": [
    {
     "data": {
      "text/html": [
       "<div>\n",
       "<style scoped>\n",
       "    .dataframe tbody tr th:only-of-type {\n",
       "        vertical-align: middle;\n",
       "    }\n",
       "\n",
       "    .dataframe tbody tr th {\n",
       "        vertical-align: top;\n",
       "    }\n",
       "\n",
       "    .dataframe thead th {\n",
       "        text-align: right;\n",
       "    }\n",
       "</style>\n",
       "<table border=\"1\" class=\"dataframe\">\n",
       "  <thead>\n",
       "    <tr style=\"text-align: right;\">\n",
       "      <th></th>\n",
       "      <th>PassengerId</th>\n",
       "      <th>Survived</th>\n",
       "      <th>Pclass</th>\n",
       "      <th>Name</th>\n",
       "      <th>Sex</th>\n",
       "      <th>Age</th>\n",
       "      <th>SibSp</th>\n",
       "      <th>Parch</th>\n",
       "      <th>Ticket</th>\n",
       "      <th>Fare</th>\n",
       "      <th>Cabin</th>\n",
       "      <th>Embarked</th>\n",
       "    </tr>\n",
       "  </thead>\n",
       "  <tbody>\n",
       "    <tr>\n",
       "      <th>0</th>\n",
       "      <td>1</td>\n",
       "      <td>0</td>\n",
       "      <td>3</td>\n",
       "      <td>Braund, Mr. Owen Harris</td>\n",
       "      <td>male</td>\n",
       "      <td>22.0</td>\n",
       "      <td>1</td>\n",
       "      <td>0</td>\n",
       "      <td>A/5 21171</td>\n",
       "      <td>7.2500</td>\n",
       "      <td>NaN</td>\n",
       "      <td>S</td>\n",
       "    </tr>\n",
       "    <tr>\n",
       "      <th>1</th>\n",
       "      <td>2</td>\n",
       "      <td>1</td>\n",
       "      <td>1</td>\n",
       "      <td>Cumings, Mrs. John Bradley (Florence Briggs Th...</td>\n",
       "      <td>female</td>\n",
       "      <td>38.0</td>\n",
       "      <td>1</td>\n",
       "      <td>0</td>\n",
       "      <td>PC 17599</td>\n",
       "      <td>71.2833</td>\n",
       "      <td>C85</td>\n",
       "      <td>C</td>\n",
       "    </tr>\n",
       "    <tr>\n",
       "      <th>2</th>\n",
       "      <td>3</td>\n",
       "      <td>1</td>\n",
       "      <td>3</td>\n",
       "      <td>Heikkinen, Miss. Laina</td>\n",
       "      <td>female</td>\n",
       "      <td>26.0</td>\n",
       "      <td>0</td>\n",
       "      <td>0</td>\n",
       "      <td>STON/O2. 3101282</td>\n",
       "      <td>7.9250</td>\n",
       "      <td>NaN</td>\n",
       "      <td>S</td>\n",
       "    </tr>\n",
       "    <tr>\n",
       "      <th>3</th>\n",
       "      <td>4</td>\n",
       "      <td>1</td>\n",
       "      <td>1</td>\n",
       "      <td>Futrelle, Mrs. Jacques Heath (Lily May Peel)</td>\n",
       "      <td>female</td>\n",
       "      <td>35.0</td>\n",
       "      <td>1</td>\n",
       "      <td>0</td>\n",
       "      <td>113803</td>\n",
       "      <td>53.1000</td>\n",
       "      <td>C123</td>\n",
       "      <td>S</td>\n",
       "    </tr>\n",
       "    <tr>\n",
       "      <th>4</th>\n",
       "      <td>5</td>\n",
       "      <td>0</td>\n",
       "      <td>3</td>\n",
       "      <td>Allen, Mr. William Henry</td>\n",
       "      <td>male</td>\n",
       "      <td>35.0</td>\n",
       "      <td>0</td>\n",
       "      <td>0</td>\n",
       "      <td>373450</td>\n",
       "      <td>8.0500</td>\n",
       "      <td>NaN</td>\n",
       "      <td>S</td>\n",
       "    </tr>\n",
       "  </tbody>\n",
       "</table>\n",
       "</div>"
      ],
      "text/plain": [
       "   PassengerId  Survived  Pclass  \\\n",
       "0            1         0       3   \n",
       "1            2         1       1   \n",
       "2            3         1       3   \n",
       "3            4         1       1   \n",
       "4            5         0       3   \n",
       "\n",
       "                                                Name     Sex   Age  SibSp  \\\n",
       "0                            Braund, Mr. Owen Harris    male  22.0      1   \n",
       "1  Cumings, Mrs. John Bradley (Florence Briggs Th...  female  38.0      1   \n",
       "2                             Heikkinen, Miss. Laina  female  26.0      0   \n",
       "3       Futrelle, Mrs. Jacques Heath (Lily May Peel)  female  35.0      1   \n",
       "4                           Allen, Mr. William Henry    male  35.0      0   \n",
       "\n",
       "   Parch            Ticket     Fare Cabin Embarked  \n",
       "0      0         A/5 21171   7.2500   NaN        S  \n",
       "1      0          PC 17599  71.2833   C85        C  \n",
       "2      0  STON/O2. 3101282   7.9250   NaN        S  \n",
       "3      0            113803  53.1000  C123        S  \n",
       "4      0            373450   8.0500   NaN        S  "
      ]
     },
     "execution_count": 211,
     "metadata": {},
     "output_type": "execute_result"
    }
   ],
   "source": [
    "data.head()"
   ]
  },
  {
   "cell_type": "markdown",
   "metadata": {},
   "source": [
    "We want to see how all the variables impacted the variable survive."
   ]
  },
  {
   "cell_type": "code",
   "execution_count": 212,
   "metadata": {},
   "outputs": [
    {
     "data": {
      "text/html": [
       "<div>\n",
       "<style scoped>\n",
       "    .dataframe tbody tr th:only-of-type {\n",
       "        vertical-align: middle;\n",
       "    }\n",
       "\n",
       "    .dataframe tbody tr th {\n",
       "        vertical-align: top;\n",
       "    }\n",
       "\n",
       "    .dataframe thead th {\n",
       "        text-align: right;\n",
       "    }\n",
       "</style>\n",
       "<table border=\"1\" class=\"dataframe\">\n",
       "  <thead>\n",
       "    <tr style=\"text-align: right;\">\n",
       "      <th></th>\n",
       "      <th>PassengerId</th>\n",
       "      <th>Survived</th>\n",
       "      <th>Pclass</th>\n",
       "      <th>Age</th>\n",
       "      <th>SibSp</th>\n",
       "      <th>Parch</th>\n",
       "      <th>Fare</th>\n",
       "    </tr>\n",
       "  </thead>\n",
       "  <tbody>\n",
       "    <tr>\n",
       "      <th>count</th>\n",
       "      <td>891.000000</td>\n",
       "      <td>891.000000</td>\n",
       "      <td>891.000000</td>\n",
       "      <td>714.000000</td>\n",
       "      <td>891.000000</td>\n",
       "      <td>891.000000</td>\n",
       "      <td>891.000000</td>\n",
       "    </tr>\n",
       "    <tr>\n",
       "      <th>mean</th>\n",
       "      <td>446.000000</td>\n",
       "      <td>0.383838</td>\n",
       "      <td>2.308642</td>\n",
       "      <td>29.699118</td>\n",
       "      <td>0.523008</td>\n",
       "      <td>0.381594</td>\n",
       "      <td>32.204208</td>\n",
       "    </tr>\n",
       "    <tr>\n",
       "      <th>std</th>\n",
       "      <td>257.353842</td>\n",
       "      <td>0.486592</td>\n",
       "      <td>0.836071</td>\n",
       "      <td>14.526497</td>\n",
       "      <td>1.102743</td>\n",
       "      <td>0.806057</td>\n",
       "      <td>49.693429</td>\n",
       "    </tr>\n",
       "    <tr>\n",
       "      <th>min</th>\n",
       "      <td>1.000000</td>\n",
       "      <td>0.000000</td>\n",
       "      <td>1.000000</td>\n",
       "      <td>0.420000</td>\n",
       "      <td>0.000000</td>\n",
       "      <td>0.000000</td>\n",
       "      <td>0.000000</td>\n",
       "    </tr>\n",
       "    <tr>\n",
       "      <th>25%</th>\n",
       "      <td>223.500000</td>\n",
       "      <td>0.000000</td>\n",
       "      <td>2.000000</td>\n",
       "      <td>20.125000</td>\n",
       "      <td>0.000000</td>\n",
       "      <td>0.000000</td>\n",
       "      <td>7.910400</td>\n",
       "    </tr>\n",
       "    <tr>\n",
       "      <th>50%</th>\n",
       "      <td>446.000000</td>\n",
       "      <td>0.000000</td>\n",
       "      <td>3.000000</td>\n",
       "      <td>28.000000</td>\n",
       "      <td>0.000000</td>\n",
       "      <td>0.000000</td>\n",
       "      <td>14.454200</td>\n",
       "    </tr>\n",
       "    <tr>\n",
       "      <th>75%</th>\n",
       "      <td>668.500000</td>\n",
       "      <td>1.000000</td>\n",
       "      <td>3.000000</td>\n",
       "      <td>38.000000</td>\n",
       "      <td>1.000000</td>\n",
       "      <td>0.000000</td>\n",
       "      <td>31.000000</td>\n",
       "    </tr>\n",
       "    <tr>\n",
       "      <th>max</th>\n",
       "      <td>891.000000</td>\n",
       "      <td>1.000000</td>\n",
       "      <td>3.000000</td>\n",
       "      <td>80.000000</td>\n",
       "      <td>8.000000</td>\n",
       "      <td>6.000000</td>\n",
       "      <td>512.329200</td>\n",
       "    </tr>\n",
       "  </tbody>\n",
       "</table>\n",
       "</div>"
      ],
      "text/plain": [
       "       PassengerId    Survived      Pclass         Age       SibSp  \\\n",
       "count   891.000000  891.000000  891.000000  714.000000  891.000000   \n",
       "mean    446.000000    0.383838    2.308642   29.699118    0.523008   \n",
       "std     257.353842    0.486592    0.836071   14.526497    1.102743   \n",
       "min       1.000000    0.000000    1.000000    0.420000    0.000000   \n",
       "25%     223.500000    0.000000    2.000000   20.125000    0.000000   \n",
       "50%     446.000000    0.000000    3.000000   28.000000    0.000000   \n",
       "75%     668.500000    1.000000    3.000000   38.000000    1.000000   \n",
       "max     891.000000    1.000000    3.000000   80.000000    8.000000   \n",
       "\n",
       "            Parch        Fare  \n",
       "count  891.000000  891.000000  \n",
       "mean     0.381594   32.204208  \n",
       "std      0.806057   49.693429  \n",
       "min      0.000000    0.000000  \n",
       "25%      0.000000    7.910400  \n",
       "50%      0.000000   14.454200  \n",
       "75%      0.000000   31.000000  \n",
       "max      6.000000  512.329200  "
      ]
     },
     "execution_count": 212,
     "metadata": {},
     "output_type": "execute_result"
    }
   ],
   "source": [
    "data.describe()"
   ]
  },
  {
   "cell_type": "markdown",
   "metadata": {},
   "source": [
    "First, let's see how many passengers do we have information available"
   ]
  },
  {
   "cell_type": "code",
   "execution_count": 213,
   "metadata": {},
   "outputs": [
    {
     "data": {
      "text/plain": [
       "891"
      ]
     },
     "execution_count": 213,
     "metadata": {},
     "output_type": "execute_result"
    }
   ],
   "source": [
    "data['PassengerId'].count()"
   ]
  },
  {
   "cell_type": "markdown",
   "metadata": {},
   "source": [
    "We have information of 891 passengers. Now, let's see how many survived:"
   ]
  },
  {
   "cell_type": "code",
   "execution_count": 214,
   "metadata": {},
   "outputs": [
    {
     "data": {
      "text/plain": [
       "0    549\n",
       "1    342\n",
       "Name: Survived, dtype: int64"
      ]
     },
     "execution_count": 214,
     "metadata": {},
     "output_type": "execute_result"
    }
   ],
   "source": [
    "data['Survived'].value_counts()"
   ]
  },
  {
   "cell_type": "code",
   "execution_count": 215,
   "metadata": {},
   "outputs": [
    {
     "data": {
      "image/png": "[encoded data removed]",
      "text/plain": [
       "<Figure size 800x500 with 1 Axes>"
      ]
     },
     "metadata": {},
     "output_type": "display_data"
    }
   ],
   "source": [
    "fig_7 = plt.figure(figsize=(8,5), dpi=100)\n",
    "axes_7 = data['Survived'].value_counts().plot.pie(autopct = '%1.1f%%', explode = [0,0.05], shadow =True)\n",
    "axes_7.set_title('Survivors')\n",
    "axes_7.set_ylabel('')\n",
    "plt.show()"
   ]
  },
  {
   "cell_type": "code",
   "execution_count": 216,
   "metadata": {},
   "outputs": [
    {
     "data": {
      "text/plain": [
       "Sex     Survived\n",
       "female  0            81\n",
       "        1           233\n",
       "male    0           468\n",
       "        1           109\n",
       "Name: Survived, dtype: int64"
      ]
     },
     "execution_count": 216,
     "metadata": {},
     "output_type": "execute_result"
    }
   ],
   "source": [
    "data.groupby(['Sex','Survived'])['Survived'].count()"
   ]
  },
  {
   "cell_type": "code",
   "execution_count": 217,
   "metadata": {},
   "outputs": [
    {
     "name": "stderr",
     "output_type": "stream",
     "text": [
      "C:\\Users\\sammy\\Anaconda3\\lib\\site-packages\\seaborn\\_decorators.py:36: FutureWarning: Pass the following variable as a keyword arg: x. From version 0.12, the only valid positional argument will be `data`, and passing other arguments without an explicit keyword will result in an error or misinterpretation.\n",
      "  warnings.warn(\n"
     ]
    },
    {
     "data": {
      "image/png": "[encoded data removed]",
      "text/plain": [
       "<Figure size 432x288 with 1 Axes>"
      ]
     },
     "metadata": {
      "needs_background": "light"
     },
     "output_type": "display_data"
    }
   ],
   "source": [
    "sns.countplot('Sex', hue='Survived', data =data)\n",
    "plt.show()"
   ]
  },
  {
   "cell_type": "code",
   "execution_count": 218,
   "metadata": {},
   "outputs": [
    {
     "data": {
      "image/png": "[encoded data removed]",
      "text/plain": [
       "<Figure size 432x288 with 1 Axes>"
      ]
     },
     "metadata": {
      "needs_background": "light"
     },
     "output_type": "display_data"
    }
   ],
   "source": [
    "data[['Sex','Survived']].groupby(['Sex']).mean().plot.bar()\n",
    "plt.show()"
   ]
  },
  {
   "cell_type": "code",
   "execution_count": 219,
   "metadata": {},
   "outputs": [
    {
     "data": {
      "image/png": "[encoded data removed]",
      "text/plain": [
       "<Figure size 1296x576 with 2 Axes>"
      ]
     },
     "metadata": {
      "needs_background": "light"
     },
     "output_type": "display_data"
    }
   ],
   "source": [
    "f, ax = plt.subplots(1,2, figsize=(18,8))\n",
    "data[['Sex','PassengerId']].groupby(['Sex']).mean().plot.bar(ax=ax[0])\n",
    "ax[0].set_ylabel('Passengers')\n",
    "\n",
    "data[['Sex','Survived']].groupby(['Sex']).mean().plot.bar(ax=ax[1] )\n",
    "\n",
    "plt.show()"
   ]
  },
  {
   "cell_type": "markdown",
   "metadata": {},
   "source": [
    "From the graphs we can see that although there were more male passengers, more than 70% of the women survived, in contrast less than 20% of the men survived."
   ]
  },
  {
   "cell_type": "code",
   "execution_count": 220,
   "metadata": {},
   "outputs": [],
   "source": [
    "def bar_chart(feature):\n",
    "    survived = data[ data['Survived']==1][feature].value_counts()\n",
    "    dead = data[data['Survived']==0][feature].value_counts()\n",
    "    df =pd.DataFrame([survived,dead])\n",
    "    df.index = ['Survived', 'Dead']\n",
    "    df.plot(kind='bar', stacked=True, figsize=(10,5), grid =True)"
   ]
  },
  {
   "cell_type": "code",
   "execution_count": 221,
   "metadata": {},
   "outputs": [
    {
     "data": {
      "image/png": "[encoded data removed]",
      "text/plain": [
       "<Figure size 720x360 with 1 Axes>"
      ]
     },
     "metadata": {
      "needs_background": "light"
     },
     "output_type": "display_data"
    }
   ],
   "source": [
    "bar_chart('Sex')"
   ]
  },
  {
   "cell_type": "code",
   "execution_count": 222,
   "metadata": {},
   "outputs": [
    {
     "data": {
      "text/html": [
       "<style  type=\"text/css\" >\n",
       "#T_c4bdf05a_93fd_11ec_9477_df7a80e00239row0_col0,#T_c4bdf05a_93fd_11ec_9477_df7a80e00239row1_col1,#T_c4bdf05a_93fd_11ec_9477_df7a80e00239row1_col2{\n",
       "            background-color:  #ffff00;\n",
       "            color:  #000000;\n",
       "        }#T_c4bdf05a_93fd_11ec_9477_df7a80e00239row0_col1{\n",
       "            background-color:  #ffce00;\n",
       "            color:  #000000;\n",
       "        }#T_c4bdf05a_93fd_11ec_9477_df7a80e00239row0_col2{\n",
       "            background-color:  #fff400;\n",
       "            color:  #000000;\n",
       "        }#T_c4bdf05a_93fd_11ec_9477_df7a80e00239row1_col0{\n",
       "            background-color:  #fff600;\n",
       "            color:  #000000;\n",
       "        }#T_c4bdf05a_93fd_11ec_9477_df7a80e00239row2_col0{\n",
       "            background-color:  #ff6000;\n",
       "            color:  #000000;\n",
       "        }#T_c4bdf05a_93fd_11ec_9477_df7a80e00239row2_col1{\n",
       "            background-color:  #ffdf00;\n",
       "            color:  #000000;\n",
       "        }#T_c4bdf05a_93fd_11ec_9477_df7a80e00239row2_col2{\n",
       "            background-color:  #ff9000;\n",
       "            color:  #000000;\n",
       "        }#T_c4bdf05a_93fd_11ec_9477_df7a80e00239row3_col0,#T_c4bdf05a_93fd_11ec_9477_df7a80e00239row3_col1,#T_c4bdf05a_93fd_11ec_9477_df7a80e00239row3_col2{\n",
       "            background-color:  #ff0000;\n",
       "            color:  #f1f1f1;\n",
       "        }</style><table id=\"T_c4bdf05a_93fd_11ec_9477_df7a80e00239\" ><thead>    <tr>        <th class=\"index_name level0\" >Survived</th>        <th class=\"col_heading level0 col0\" >0</th>        <th class=\"col_heading level0 col1\" >1</th>        <th class=\"col_heading level0 col2\" >All</th>    </tr>    <tr>        <th class=\"index_name level0\" >Pclass</th>        <th class=\"blank\" ></th>        <th class=\"blank\" ></th>        <th class=\"blank\" ></th>    </tr></thead><tbody>\n",
       "                <tr>\n",
       "                        <th id=\"T_c4bdf05a_93fd_11ec_9477_df7a80e00239level0_row0\" class=\"row_heading level0 row0\" >1</th>\n",
       "                        <td id=\"T_c4bdf05a_93fd_11ec_9477_df7a80e00239row0_col0\" class=\"data row0 col0\" >80</td>\n",
       "                        <td id=\"T_c4bdf05a_93fd_11ec_9477_df7a80e00239row0_col1\" class=\"data row0 col1\" >136</td>\n",
       "                        <td id=\"T_c4bdf05a_93fd_11ec_9477_df7a80e00239row0_col2\" class=\"data row0 col2\" >216</td>\n",
       "            </tr>\n",
       "            <tr>\n",
       "                        <th id=\"T_c4bdf05a_93fd_11ec_9477_df7a80e00239level0_row1\" class=\"row_heading level0 row1\" >2</th>\n",
       "                        <td id=\"T_c4bdf05a_93fd_11ec_9477_df7a80e00239row1_col0\" class=\"data row1 col0\" >97</td>\n",
       "                        <td id=\"T_c4bdf05a_93fd_11ec_9477_df7a80e00239row1_col1\" class=\"data row1 col1\" >87</td>\n",
       "                        <td id=\"T_c4bdf05a_93fd_11ec_9477_df7a80e00239row1_col2\" class=\"data row1 col2\" >184</td>\n",
       "            </tr>\n",
       "            <tr>\n",
       "                        <th id=\"T_c4bdf05a_93fd_11ec_9477_df7a80e00239level0_row2\" class=\"row_heading level0 row2\" >3</th>\n",
       "                        <td id=\"T_c4bdf05a_93fd_11ec_9477_df7a80e00239row2_col0\" class=\"data row2 col0\" >372</td>\n",
       "                        <td id=\"T_c4bdf05a_93fd_11ec_9477_df7a80e00239row2_col1\" class=\"data row2 col1\" >119</td>\n",
       "                        <td id=\"T_c4bdf05a_93fd_11ec_9477_df7a80e00239row2_col2\" class=\"data row2 col2\" >491</td>\n",
       "            </tr>\n",
       "            <tr>\n",
       "                        <th id=\"T_c4bdf05a_93fd_11ec_9477_df7a80e00239level0_row3\" class=\"row_heading level0 row3\" >All</th>\n",
       "                        <td id=\"T_c4bdf05a_93fd_11ec_9477_df7a80e00239row3_col0\" class=\"data row3 col0\" >549</td>\n",
       "                        <td id=\"T_c4bdf05a_93fd_11ec_9477_df7a80e00239row3_col1\" class=\"data row3 col1\" >342</td>\n",
       "                        <td id=\"T_c4bdf05a_93fd_11ec_9477_df7a80e00239row3_col2\" class=\"data row3 col2\" >891</td>\n",
       "            </tr>\n",
       "    </tbody></table>"
      ],
      "text/plain": [
       "<pandas.io.formats.style.Styler at 0x286cceeb670>"
      ]
     },
     "execution_count": 222,
     "metadata": {},
     "output_type": "execute_result"
    }
   ],
   "source": [
    "pd.crosstab(data['Pclass'], data['Survived'], margins=True).style.background_gradient(cmap = 'autumn_r')"
   ]
  },
  {
   "cell_type": "markdown",
   "metadata": {},
   "source": [
    "Note that in the 3rd class there were fewer survivors and the 1st class had a greater number of survivors"
   ]
  },
  {
   "cell_type": "code",
   "execution_count": 223,
   "metadata": {},
   "outputs": [
    {
     "name": "stderr",
     "output_type": "stream",
     "text": [
      "C:\\Users\\sammy\\Anaconda3\\lib\\site-packages\\seaborn\\_decorators.py:36: FutureWarning: Pass the following variable as a keyword arg: x. From version 0.12, the only valid positional argument will be `data`, and passing other arguments without an explicit keyword will result in an error or misinterpretation.\n",
      "  warnings.warn(\n"
     ]
    },
    {
     "data": {
      "image/png": "[encoded data removed]",
      "text/plain": [
       "<Figure size 1296x576 with 2 Axes>"
      ]
     },
     "metadata": {
      "needs_background": "light"
     },
     "output_type": "display_data"
    }
   ],
   "source": [
    "f, ax = plt.subplots(1,2, figsize=(18,8))\n",
    "data['Pclass'].value_counts().plot.bar(ax=ax[0], color=['b', 'g', 'c'])\n",
    "ax[0].set_title('Passengers per class')\n",
    "ax[0].set_ylabel('Passengers')\n",
    "ax[0].set_xlabel('Class')\n",
    "\n",
    "sns.countplot('Pclass', hue='Survived', data=data, ax=ax[1])\n",
    "ax[1].set_title('survivors vs dead in each class')\n",
    "ax[1].set_xlabel('Class')\n",
    "ax[1].set_ylabel('Passengers')\n",
    "plt.show()"
   ]
  },
  {
   "cell_type": "code",
   "execution_count": 224,
   "metadata": {},
   "outputs": [
    {
     "data": {
      "image/png": "[encoded data removed]",
      "text/plain": [
       "<Figure size 720x360 with 1 Axes>"
      ]
     },
     "metadata": {
      "needs_background": "light"
     },
     "output_type": "display_data"
    }
   ],
   "source": [
    "bar_chart('Pclass')"
   ]
  },
  {
   "cell_type": "markdown",
   "metadata": {},
   "source": [
    "that in the 3rd class there were fewer survivors and the 1st class had a greater number of survivors"
   ]
  },
  {
   "cell_type": "code",
   "execution_count": 225,
   "metadata": {},
   "outputs": [
    {
     "data": {
      "text/html": [
       "<style  type=\"text/css\" >\n",
       "#T_c54f74d5_93fd_11ec_bd26_df7a80e00239row0_col0,#T_c54f74d5_93fd_11ec_bd26_df7a80e00239row0_col1,#T_c54f74d5_93fd_11ec_bd26_df7a80e00239row0_col3,#T_c54f74d5_93fd_11ec_bd26_df7a80e00239row3_col2{\n",
       "            background-color:  #ffff00;\n",
       "            color:  #000000;\n",
       "        }#T_c54f74d5_93fd_11ec_bd26_df7a80e00239row0_col2,#T_c54f74d5_93fd_11ec_bd26_df7a80e00239row1_col2{\n",
       "            background-color:  #fff100;\n",
       "            color:  #000000;\n",
       "        }#T_c54f74d5_93fd_11ec_bd26_df7a80e00239row1_col0{\n",
       "            background-color:  #ff9600;\n",
       "            color:  #000000;\n",
       "        }#T_c54f74d5_93fd_11ec_bd26_df7a80e00239row1_col1{\n",
       "            background-color:  #ffa300;\n",
       "            color:  #000000;\n",
       "        }#T_c54f74d5_93fd_11ec_bd26_df7a80e00239row1_col3{\n",
       "            background-color:  #ffcf00;\n",
       "            color:  #000000;\n",
       "        }#T_c54f74d5_93fd_11ec_bd26_df7a80e00239row2_col0{\n",
       "            background-color:  #ffa700;\n",
       "            color:  #000000;\n",
       "        }#T_c54f74d5_93fd_11ec_bd26_df7a80e00239row2_col1,#T_c54f74d5_93fd_11ec_bd26_df7a80e00239row2_col3{\n",
       "            background-color:  #ff8500;\n",
       "            color:  #000000;\n",
       "        }#T_c54f74d5_93fd_11ec_bd26_df7a80e00239row2_col2{\n",
       "            background-color:  #ff6e00;\n",
       "            color:  #000000;\n",
       "        }#T_c54f74d5_93fd_11ec_bd26_df7a80e00239row3_col0{\n",
       "            background-color:  #ffcd00;\n",
       "            color:  #000000;\n",
       "        }#T_c54f74d5_93fd_11ec_bd26_df7a80e00239row3_col1{\n",
       "            background-color:  #fff000;\n",
       "            color:  #000000;\n",
       "        }#T_c54f74d5_93fd_11ec_bd26_df7a80e00239row3_col3{\n",
       "            background-color:  #fff700;\n",
       "            color:  #000000;\n",
       "        }#T_c54f74d5_93fd_11ec_bd26_df7a80e00239row4_col0,#T_c54f74d5_93fd_11ec_bd26_df7a80e00239row4_col1,#T_c54f74d5_93fd_11ec_bd26_df7a80e00239row4_col2,#T_c54f74d5_93fd_11ec_bd26_df7a80e00239row4_col3{\n",
       "            background-color:  #ff0000;\n",
       "            color:  #f1f1f1;\n",
       "        }</style><table id=\"T_c54f74d5_93fd_11ec_bd26_df7a80e00239\" ><thead>    <tr>        <th class=\"blank\" ></th>        <th class=\"index_name level0\" >Pclass</th>        <th class=\"col_heading level0 col0\" >1</th>        <th class=\"col_heading level0 col1\" >2</th>        <th class=\"col_heading level0 col2\" >3</th>        <th class=\"col_heading level0 col3\" >All</th>    </tr>    <tr>        <th class=\"index_name level0\" >Sex</th>        <th class=\"index_name level1\" >Survived</th>        <th class=\"blank\" ></th>        <th class=\"blank\" ></th>        <th class=\"blank\" ></th>        <th class=\"blank\" ></th>    </tr></thead><tbody>\n",
       "                <tr>\n",
       "                        <th id=\"T_c54f74d5_93fd_11ec_bd26_df7a80e00239level0_row0\" class=\"row_heading level0 row0\" rowspan=2>female</th>\n",
       "                        <th id=\"T_c54f74d5_93fd_11ec_bd26_df7a80e00239level1_row0\" class=\"row_heading level1 row0\" >0</th>\n",
       "                        <td id=\"T_c54f74d5_93fd_11ec_bd26_df7a80e00239row0_col0\" class=\"data row0 col0\" >3</td>\n",
       "                        <td id=\"T_c54f74d5_93fd_11ec_bd26_df7a80e00239row0_col1\" class=\"data row0 col1\" >6</td>\n",
       "                        <td id=\"T_c54f74d5_93fd_11ec_bd26_df7a80e00239row0_col2\" class=\"data row0 col2\" >72</td>\n",
       "                        <td id=\"T_c54f74d5_93fd_11ec_bd26_df7a80e00239row0_col3\" class=\"data row0 col3\" >81</td>\n",
       "            </tr>\n",
       "            <tr>\n",
       "                                <th id=\"T_c54f74d5_93fd_11ec_bd26_df7a80e00239level1_row1\" class=\"row_heading level1 row1\" >1</th>\n",
       "                        <td id=\"T_c54f74d5_93fd_11ec_bd26_df7a80e00239row1_col0\" class=\"data row1 col0\" >91</td>\n",
       "                        <td id=\"T_c54f74d5_93fd_11ec_bd26_df7a80e00239row1_col1\" class=\"data row1 col1\" >70</td>\n",
       "                        <td id=\"T_c54f74d5_93fd_11ec_bd26_df7a80e00239row1_col2\" class=\"data row1 col2\" >72</td>\n",
       "                        <td id=\"T_c54f74d5_93fd_11ec_bd26_df7a80e00239row1_col3\" class=\"data row1 col3\" >233</td>\n",
       "            </tr>\n",
       "            <tr>\n",
       "                        <th id=\"T_c54f74d5_93fd_11ec_bd26_df7a80e00239level0_row2\" class=\"row_heading level0 row2\" rowspan=2>male</th>\n",
       "                        <th id=\"T_c54f74d5_93fd_11ec_bd26_df7a80e00239level1_row2\" class=\"row_heading level1 row2\" >0</th>\n",
       "                        <td id=\"T_c54f74d5_93fd_11ec_bd26_df7a80e00239row2_col0\" class=\"data row2 col0\" >77</td>\n",
       "                        <td id=\"T_c54f74d5_93fd_11ec_bd26_df7a80e00239row2_col1\" class=\"data row2 col1\" >91</td>\n",
       "                        <td id=\"T_c54f74d5_93fd_11ec_bd26_df7a80e00239row2_col2\" class=\"data row2 col2\" >300</td>\n",
       "                        <td id=\"T_c54f74d5_93fd_11ec_bd26_df7a80e00239row2_col3\" class=\"data row2 col3\" >468</td>\n",
       "            </tr>\n",
       "            <tr>\n",
       "                                <th id=\"T_c54f74d5_93fd_11ec_bd26_df7a80e00239level1_row3\" class=\"row_heading level1 row3\" >1</th>\n",
       "                        <td id=\"T_c54f74d5_93fd_11ec_bd26_df7a80e00239row3_col0\" class=\"data row3 col0\" >45</td>\n",
       "                        <td id=\"T_c54f74d5_93fd_11ec_bd26_df7a80e00239row3_col1\" class=\"data row3 col1\" >17</td>\n",
       "                        <td id=\"T_c54f74d5_93fd_11ec_bd26_df7a80e00239row3_col2\" class=\"data row3 col2\" >47</td>\n",
       "                        <td id=\"T_c54f74d5_93fd_11ec_bd26_df7a80e00239row3_col3\" class=\"data row3 col3\" >109</td>\n",
       "            </tr>\n",
       "            <tr>\n",
       "                        <th id=\"T_c54f74d5_93fd_11ec_bd26_df7a80e00239level0_row4\" class=\"row_heading level0 row4\" >All</th>\n",
       "                        <th id=\"T_c54f74d5_93fd_11ec_bd26_df7a80e00239level1_row4\" class=\"row_heading level1 row4\" ></th>\n",
       "                        <td id=\"T_c54f74d5_93fd_11ec_bd26_df7a80e00239row4_col0\" class=\"data row4 col0\" >216</td>\n",
       "                        <td id=\"T_c54f74d5_93fd_11ec_bd26_df7a80e00239row4_col1\" class=\"data row4 col1\" >184</td>\n",
       "                        <td id=\"T_c54f74d5_93fd_11ec_bd26_df7a80e00239row4_col2\" class=\"data row4 col2\" >491</td>\n",
       "                        <td id=\"T_c54f74d5_93fd_11ec_bd26_df7a80e00239row4_col3\" class=\"data row4 col3\" >891</td>\n",
       "            </tr>\n",
       "    </tbody></table>"
      ],
      "text/plain": [
       "<pandas.io.formats.style.Styler at 0x286ce8c9400>"
      ]
     },
     "execution_count": 225,
     "metadata": {},
     "output_type": "execute_result"
    }
   ],
   "source": [
    "pd.crosstab([data['Sex'], data['Survived']], data['Pclass'], margins=True).style.background_gradient(cmap = 'autumn_r')"
   ]
  },
  {
   "cell_type": "code",
   "execution_count": 226,
   "metadata": {},
   "outputs": [
    {
     "name": "stderr",
     "output_type": "stream",
     "text": [
      "C:\\Users\\sammy\\Anaconda3\\lib\\site-packages\\seaborn\\categorical.py:3704: UserWarning: The `factorplot` function has been renamed to `catplot`. The original name will be removed in a future release. Please update your code. Note that the default `kind` in `factorplot` (`'point'`) has changed `'strip'` in `catplot`.\n",
      "  warnings.warn(msg)\n",
      "C:\\Users\\sammy\\Anaconda3\\lib\\site-packages\\seaborn\\_decorators.py:36: FutureWarning: Pass the following variables as keyword args: x, y. From version 0.12, the only valid positional argument will be `data`, and passing other arguments without an explicit keyword will result in an error or misinterpretation.\n",
      "  warnings.warn(\n"
     ]
    },
    {
     "data": {
      "image/png": "[encoded data removed]",
      "text/plain": [
       "<Figure size 430.5x360 with 1 Axes>"
      ]
     },
     "metadata": {
      "needs_background": "light"
     },
     "output_type": "display_data"
    }
   ],
   "source": [
    "plot=sns.factorplot('Pclass', 'Survived', hue='Sex', data=data)\n",
    "plt.show()"
   ]
  },
  {
   "cell_type": "markdown",
   "metadata": {},
   "source": [
    "Note that regardless of class, women survive longer than men.\n",
    "\n",
    "Now, if there someone who rides free like \"Jack\" in the movie?"
   ]
  },
  {
   "cell_type": "code",
   "execution_count": 227,
   "metadata": {
    "scrolled": true
   },
   "outputs": [
    {
     "name": "stdout",
     "output_type": "stream",
     "text": [
      "The most expensive ticket cost: 512.3292 the less expensive ticket cost: 0.0\n"
     ]
    }
   ],
   "source": [
    "print(\"The most expensive ticket cost:\", data['Fare'].max(), \"the less expensive ticket cost:\", data['Fare'].min())"
   ]
  },
  {
   "cell_type": "markdown",
   "metadata": {},
   "source": [
    "We can see that at least one person travels for free"
   ]
  },
  {
   "cell_type": "code",
   "execution_count": 228,
   "metadata": {},
   "outputs": [
    {
     "name": "stderr",
     "output_type": "stream",
     "text": [
      "C:\\Users\\sammy\\Anaconda3\\lib\\site-packages\\seaborn\\distributions.py:2551: FutureWarning: `distplot` is a deprecated function and will be removed in a future version. Please adapt your code to use either `displot` (a figure-level function with similar flexibility) or `histplot` (an axes-level function for histograms).\n",
      "  warnings.warn(msg, FutureWarning)\n",
      "C:\\Users\\sammy\\Anaconda3\\lib\\site-packages\\seaborn\\distributions.py:2551: FutureWarning: `distplot` is a deprecated function and will be removed in a future version. Please adapt your code to use either `displot` (a figure-level function with similar flexibility) or `histplot` (an axes-level function for histograms).\n",
      "  warnings.warn(msg, FutureWarning)\n",
      "C:\\Users\\sammy\\Anaconda3\\lib\\site-packages\\seaborn\\distributions.py:2551: FutureWarning: `distplot` is a deprecated function and will be removed in a future version. Please adapt your code to use either `displot` (a figure-level function with similar flexibility) or `histplot` (an axes-level function for histograms).\n",
      "  warnings.warn(msg, FutureWarning)\n"
     ]
    },
    {
     "data": {
      "text/plain": [
       "Text(0.5, 1.0, 'Ticket third class')"
      ]
     },
     "execution_count": 228,
     "metadata": {},
     "output_type": "execute_result"
    },
    {
     "data": {
      "image/png": "[encoded data removed]",
      "text/plain": [
       "<Figure size 1296x576 with 3 Axes>"
      ]
     },
     "metadata": {
      "needs_background": "light"
     },
     "output_type": "display_data"
    }
   ],
   "source": [
    "f, ax = plt.subplots(1,3, figsize=(18,8))\n",
    "\n",
    "sns.distplot( data[data['Pclass']==1]['Fare'], ax=ax[0])\n",
    "ax[0].set_title('Ticket first class')\n",
    "\n",
    "sns.distplot( data[data['Pclass']==2]['Fare'], ax=ax[1])\n",
    "ax[1].set_title('Ticket second class')\n",
    "\n",
    "sns.distplot( data[data['Pclass']==3]['Fare'], ax=ax[2])\n",
    "ax[2].set_title('Ticket third class') "
   ]
  },
  {
   "cell_type": "code",
   "execution_count": 229,
   "metadata": {},
   "outputs": [
    {
     "name": "stdout",
     "output_type": "stream",
     "text": [
      "The biggest family members were: 8\n"
     ]
    }
   ],
   "source": [
    "print(\"The biggest family members were:\", data['SibSp'].max())"
   ]
  },
  {
   "cell_type": "code",
   "execution_count": 230,
   "metadata": {},
   "outputs": [
    {
     "data": {
      "image/png": "[encoded data removed]",
      "text/plain": [
       "<Figure size 800x500 with 1 Axes>"
      ]
     },
     "metadata": {},
     "output_type": "display_data"
    }
   ],
   "source": [
    "fig_7 = plt.figure(figsize=(8,5), dpi=100)\n",
    "axes_7 = data['SibSp'].value_counts().plot.pie(autopct = '%1.1f%%', shadow =True)\n",
    "axes_7.set_title('SibSp')\n",
    "axes_7.set_ylabel('')\n",
    "plt.show()"
   ]
  },
  {
   "cell_type": "code",
   "execution_count": 231,
   "metadata": {},
   "outputs": [
    {
     "data": {
      "image/png": "[encoded data removed]",
      "text/plain": [
       "<Figure size 720x360 with 1 Axes>"
      ]
     },
     "metadata": {
      "needs_background": "light"
     },
     "output_type": "display_data"
    }
   ],
   "source": [
    "bar_chart('SibSp')"
   ]
  },
  {
   "cell_type": "markdown",
   "metadata": {},
   "source": [
    "We can see that it was a ship of singles, since the majority went alone"
   ]
  },
  {
   "cell_type": "code",
   "execution_count": 232,
   "metadata": {},
   "outputs": [
    {
     "data": {
      "text/html": [
       "<style  type=\"text/css\" >\n",
       "#T_c6e8bba7_93fd_11ec_aa60_df7a80e00239row0_col0,#T_c6e8bba7_93fd_11ec_aa60_df7a80e00239row0_col1,#T_c6e8bba7_93fd_11ec_aa60_df7a80e00239row0_col2,#T_c6e8bba7_93fd_11ec_aa60_df7a80e00239row0_col7,#T_c6e8bba7_93fd_11ec_aa60_df7a80e00239row1_col5,#T_c6e8bba7_93fd_11ec_aa60_df7a80e00239row1_col6,#T_c6e8bba7_93fd_11ec_aa60_df7a80e00239row3_col2,#T_c6e8bba7_93fd_11ec_aa60_df7a80e00239row3_col3,#T_c6e8bba7_93fd_11ec_aa60_df7a80e00239row3_col4,#T_c6e8bba7_93fd_11ec_aa60_df7a80e00239row3_col5,#T_c6e8bba7_93fd_11ec_aa60_df7a80e00239row3_col6{\n",
       "            background-color:  #ffff00;\n",
       "            color:  #000000;\n",
       "        }#T_c6e8bba7_93fd_11ec_aa60_df7a80e00239row0_col3{\n",
       "            background-color:  #ff8f00;\n",
       "            color:  #000000;\n",
       "        }#T_c6e8bba7_93fd_11ec_aa60_df7a80e00239row0_col4{\n",
       "            background-color:  #ffd200;\n",
       "            color:  #000000;\n",
       "        }#T_c6e8bba7_93fd_11ec_aa60_df7a80e00239row0_col5{\n",
       "            background-color:  #ffcc00;\n",
       "            color:  #000000;\n",
       "        }#T_c6e8bba7_93fd_11ec_aa60_df7a80e00239row0_col6{\n",
       "            background-color:  #ff9200;\n",
       "            color:  #000000;\n",
       "        }#T_c6e8bba7_93fd_11ec_aa60_df7a80e00239row1_col0{\n",
       "            background-color:  #ffd300;\n",
       "            color:  #000000;\n",
       "        }#T_c6e8bba7_93fd_11ec_aa60_df7a80e00239row1_col1{\n",
       "            background-color:  #ffb400;\n",
       "            color:  #000000;\n",
       "        }#T_c6e8bba7_93fd_11ec_aa60_df7a80e00239row1_col2{\n",
       "            background-color:  #ffb800;\n",
       "            color:  #000000;\n",
       "        }#T_c6e8bba7_93fd_11ec_aa60_df7a80e00239row1_col3{\n",
       "            background-color:  #ffbf00;\n",
       "            color:  #000000;\n",
       "        }#T_c6e8bba7_93fd_11ec_aa60_df7a80e00239row1_col4{\n",
       "            background-color:  #fff000;\n",
       "            color:  #000000;\n",
       "        }#T_c6e8bba7_93fd_11ec_aa60_df7a80e00239row1_col7{\n",
       "            background-color:  #ffcf00;\n",
       "            color:  #000000;\n",
       "        }#T_c6e8bba7_93fd_11ec_aa60_df7a80e00239row2_col0{\n",
       "            background-color:  #ff6e00;\n",
       "            color:  #000000;\n",
       "        }#T_c6e8bba7_93fd_11ec_aa60_df7a80e00239row2_col1{\n",
       "            background-color:  #ffc100;\n",
       "            color:  #000000;\n",
       "        }#T_c6e8bba7_93fd_11ec_aa60_df7a80e00239row2_col2{\n",
       "            background-color:  #ffa300;\n",
       "            color:  #000000;\n",
       "        }#T_c6e8bba7_93fd_11ec_aa60_df7a80e00239row2_col3{\n",
       "            background-color:  #ffaf00;\n",
       "            color:  #000000;\n",
       "        }#T_c6e8bba7_93fd_11ec_aa60_df7a80e00239row2_col4{\n",
       "            background-color:  #ff6900;\n",
       "            color:  #000000;\n",
       "        }#T_c6e8bba7_93fd_11ec_aa60_df7a80e00239row2_col5{\n",
       "            background-color:  #ff3300;\n",
       "            color:  #f1f1f1;\n",
       "        }#T_c6e8bba7_93fd_11ec_aa60_df7a80e00239row2_col6{\n",
       "            background-color:  #ff6d00;\n",
       "            color:  #000000;\n",
       "        }#T_c6e8bba7_93fd_11ec_aa60_df7a80e00239row2_col7{\n",
       "            background-color:  #ff8500;\n",
       "            color:  #000000;\n",
       "        }#T_c6e8bba7_93fd_11ec_aa60_df7a80e00239row3_col0{\n",
       "            background-color:  #ffef00;\n",
       "            color:  #000000;\n",
       "        }#T_c6e8bba7_93fd_11ec_aa60_df7a80e00239row3_col1,#T_c6e8bba7_93fd_11ec_aa60_df7a80e00239row3_col7{\n",
       "            background-color:  #fff700;\n",
       "            color:  #000000;\n",
       "        }#T_c6e8bba7_93fd_11ec_aa60_df7a80e00239row4_col0,#T_c6e8bba7_93fd_11ec_aa60_df7a80e00239row4_col1,#T_c6e8bba7_93fd_11ec_aa60_df7a80e00239row4_col2,#T_c6e8bba7_93fd_11ec_aa60_df7a80e00239row4_col3,#T_c6e8bba7_93fd_11ec_aa60_df7a80e00239row4_col4,#T_c6e8bba7_93fd_11ec_aa60_df7a80e00239row4_col5,#T_c6e8bba7_93fd_11ec_aa60_df7a80e00239row4_col6,#T_c6e8bba7_93fd_11ec_aa60_df7a80e00239row4_col7{\n",
       "            background-color:  #ff0000;\n",
       "            color:  #f1f1f1;\n",
       "        }</style><table id=\"T_c6e8bba7_93fd_11ec_aa60_df7a80e00239\" ><thead>    <tr>        <th class=\"blank\" ></th>        <th class=\"index_name level0\" >SibSp</th>        <th class=\"col_heading level0 col0\" >0</th>        <th class=\"col_heading level0 col1\" >1</th>        <th class=\"col_heading level0 col2\" >2</th>        <th class=\"col_heading level0 col3\" >3</th>        <th class=\"col_heading level0 col4\" >4</th>        <th class=\"col_heading level0 col5\" >5</th>        <th class=\"col_heading level0 col6\" >8</th>        <th class=\"col_heading level0 col7\" >All</th>    </tr>    <tr>        <th class=\"index_name level0\" >Sex</th>        <th class=\"index_name level1\" >Survived</th>        <th class=\"blank\" ></th>        <th class=\"blank\" ></th>        <th class=\"blank\" ></th>        <th class=\"blank\" ></th>        <th class=\"blank\" ></th>        <th class=\"blank\" ></th>        <th class=\"blank\" ></th>        <th class=\"blank\" ></th>    </tr></thead><tbody>\n",
       "                <tr>\n",
       "                        <th id=\"T_c6e8bba7_93fd_11ec_aa60_df7a80e00239level0_row0\" class=\"row_heading level0 row0\" rowspan=2>female</th>\n",
       "                        <th id=\"T_c6e8bba7_93fd_11ec_aa60_df7a80e00239level1_row0\" class=\"row_heading level1 row0\" >0</th>\n",
       "                        <td id=\"T_c6e8bba7_93fd_11ec_aa60_df7a80e00239row0_col0\" class=\"data row0 col0\" >37</td>\n",
       "                        <td id=\"T_c6e8bba7_93fd_11ec_aa60_df7a80e00239row0_col1\" class=\"data row0 col1\" >26</td>\n",
       "                        <td id=\"T_c6e8bba7_93fd_11ec_aa60_df7a80e00239row0_col2\" class=\"data row0 col2\" >3</td>\n",
       "                        <td id=\"T_c6e8bba7_93fd_11ec_aa60_df7a80e00239row0_col3\" class=\"data row0 col3\" >7</td>\n",
       "                        <td id=\"T_c6e8bba7_93fd_11ec_aa60_df7a80e00239row0_col4\" class=\"data row0 col4\" >4</td>\n",
       "                        <td id=\"T_c6e8bba7_93fd_11ec_aa60_df7a80e00239row0_col5\" class=\"data row0 col5\" >1</td>\n",
       "                        <td id=\"T_c6e8bba7_93fd_11ec_aa60_df7a80e00239row0_col6\" class=\"data row0 col6\" >3</td>\n",
       "                        <td id=\"T_c6e8bba7_93fd_11ec_aa60_df7a80e00239row0_col7\" class=\"data row0 col7\" >81</td>\n",
       "            </tr>\n",
       "            <tr>\n",
       "                                <th id=\"T_c6e8bba7_93fd_11ec_aa60_df7a80e00239level1_row1\" class=\"row_heading level1 row1\" >1</th>\n",
       "                        <td id=\"T_c6e8bba7_93fd_11ec_aa60_df7a80e00239row1_col0\" class=\"data row1 col0\" >137</td>\n",
       "                        <td id=\"T_c6e8bba7_93fd_11ec_aa60_df7a80e00239row1_col1\" class=\"data row1 col1\" >80</td>\n",
       "                        <td id=\"T_c6e8bba7_93fd_11ec_aa60_df7a80e00239row1_col2\" class=\"data row1 col2\" >10</td>\n",
       "                        <td id=\"T_c6e8bba7_93fd_11ec_aa60_df7a80e00239row1_col3\" class=\"data row1 col3\" >4</td>\n",
       "                        <td id=\"T_c6e8bba7_93fd_11ec_aa60_df7a80e00239row1_col4\" class=\"data row1 col4\" >2</td>\n",
       "                        <td id=\"T_c6e8bba7_93fd_11ec_aa60_df7a80e00239row1_col5\" class=\"data row1 col5\" >0</td>\n",
       "                        <td id=\"T_c6e8bba7_93fd_11ec_aa60_df7a80e00239row1_col6\" class=\"data row1 col6\" >0</td>\n",
       "                        <td id=\"T_c6e8bba7_93fd_11ec_aa60_df7a80e00239row1_col7\" class=\"data row1 col7\" >233</td>\n",
       "            </tr>\n",
       "            <tr>\n",
       "                        <th id=\"T_c6e8bba7_93fd_11ec_aa60_df7a80e00239level0_row2\" class=\"row_heading level0 row2\" rowspan=2>male</th>\n",
       "                        <th id=\"T_c6e8bba7_93fd_11ec_aa60_df7a80e00239level1_row2\" class=\"row_heading level1 row2\" >0</th>\n",
       "                        <td id=\"T_c6e8bba7_93fd_11ec_aa60_df7a80e00239row2_col0\" class=\"data row2 col0\" >361</td>\n",
       "                        <td id=\"T_c6e8bba7_93fd_11ec_aa60_df7a80e00239row2_col1\" class=\"data row2 col1\" >71</td>\n",
       "                        <td id=\"T_c6e8bba7_93fd_11ec_aa60_df7a80e00239row2_col2\" class=\"data row2 col2\" >12</td>\n",
       "                        <td id=\"T_c6e8bba7_93fd_11ec_aa60_df7a80e00239row2_col3\" class=\"data row2 col3\" >5</td>\n",
       "                        <td id=\"T_c6e8bba7_93fd_11ec_aa60_df7a80e00239row2_col4\" class=\"data row2 col4\" >11</td>\n",
       "                        <td id=\"T_c6e8bba7_93fd_11ec_aa60_df7a80e00239row2_col5\" class=\"data row2 col5\" >4</td>\n",
       "                        <td id=\"T_c6e8bba7_93fd_11ec_aa60_df7a80e00239row2_col6\" class=\"data row2 col6\" >4</td>\n",
       "                        <td id=\"T_c6e8bba7_93fd_11ec_aa60_df7a80e00239row2_col7\" class=\"data row2 col7\" >468</td>\n",
       "            </tr>\n",
       "            <tr>\n",
       "                                <th id=\"T_c6e8bba7_93fd_11ec_aa60_df7a80e00239level1_row3\" class=\"row_heading level1 row3\" >1</th>\n",
       "                        <td id=\"T_c6e8bba7_93fd_11ec_aa60_df7a80e00239row3_col0\" class=\"data row3 col0\" >73</td>\n",
       "                        <td id=\"T_c6e8bba7_93fd_11ec_aa60_df7a80e00239row3_col1\" class=\"data row3 col1\" >32</td>\n",
       "                        <td id=\"T_c6e8bba7_93fd_11ec_aa60_df7a80e00239row3_col2\" class=\"data row3 col2\" >3</td>\n",
       "                        <td id=\"T_c6e8bba7_93fd_11ec_aa60_df7a80e00239row3_col3\" class=\"data row3 col3\" >0</td>\n",
       "                        <td id=\"T_c6e8bba7_93fd_11ec_aa60_df7a80e00239row3_col4\" class=\"data row3 col4\" >1</td>\n",
       "                        <td id=\"T_c6e8bba7_93fd_11ec_aa60_df7a80e00239row3_col5\" class=\"data row3 col5\" >0</td>\n",
       "                        <td id=\"T_c6e8bba7_93fd_11ec_aa60_df7a80e00239row3_col6\" class=\"data row3 col6\" >0</td>\n",
       "                        <td id=\"T_c6e8bba7_93fd_11ec_aa60_df7a80e00239row3_col7\" class=\"data row3 col7\" >109</td>\n",
       "            </tr>\n",
       "            <tr>\n",
       "                        <th id=\"T_c6e8bba7_93fd_11ec_aa60_df7a80e00239level0_row4\" class=\"row_heading level0 row4\" >All</th>\n",
       "                        <th id=\"T_c6e8bba7_93fd_11ec_aa60_df7a80e00239level1_row4\" class=\"row_heading level1 row4\" ></th>\n",
       "                        <td id=\"T_c6e8bba7_93fd_11ec_aa60_df7a80e00239row4_col0\" class=\"data row4 col0\" >608</td>\n",
       "                        <td id=\"T_c6e8bba7_93fd_11ec_aa60_df7a80e00239row4_col1\" class=\"data row4 col1\" >209</td>\n",
       "                        <td id=\"T_c6e8bba7_93fd_11ec_aa60_df7a80e00239row4_col2\" class=\"data row4 col2\" >28</td>\n",
       "                        <td id=\"T_c6e8bba7_93fd_11ec_aa60_df7a80e00239row4_col3\" class=\"data row4 col3\" >16</td>\n",
       "                        <td id=\"T_c6e8bba7_93fd_11ec_aa60_df7a80e00239row4_col4\" class=\"data row4 col4\" >18</td>\n",
       "                        <td id=\"T_c6e8bba7_93fd_11ec_aa60_df7a80e00239row4_col5\" class=\"data row4 col5\" >5</td>\n",
       "                        <td id=\"T_c6e8bba7_93fd_11ec_aa60_df7a80e00239row4_col6\" class=\"data row4 col6\" >7</td>\n",
       "                        <td id=\"T_c6e8bba7_93fd_11ec_aa60_df7a80e00239row4_col7\" class=\"data row4 col7\" >891</td>\n",
       "            </tr>\n",
       "    </tbody></table>"
      ],
      "text/plain": [
       "<pandas.io.formats.style.Styler at 0x286cee1b970>"
      ]
     },
     "execution_count": 232,
     "metadata": {},
     "output_type": "execute_result"
    }
   ],
   "source": [
    "pd.crosstab([data['Sex'], data['Survived']], data['SibSp'], margins=True).style.background_gradient(cmap = 'autumn_r')"
   ]
  },
  {
   "cell_type": "code",
   "execution_count": 233,
   "metadata": {},
   "outputs": [
    {
     "name": "stderr",
     "output_type": "stream",
     "text": [
      "C:\\Users\\sammy\\Anaconda3\\lib\\site-packages\\seaborn\\categorical.py:3704: UserWarning: The `factorplot` function has been renamed to `catplot`. The original name will be removed in a future release. Please update your code. Note that the default `kind` in `factorplot` (`'point'`) has changed `'strip'` in `catplot`.\n",
      "  warnings.warn(msg)\n",
      "C:\\Users\\sammy\\Anaconda3\\lib\\site-packages\\seaborn\\_decorators.py:36: FutureWarning: Pass the following variables as keyword args: x, y. From version 0.12, the only valid positional argument will be `data`, and passing other arguments without an explicit keyword will result in an error or misinterpretation.\n",
      "  warnings.warn(\n"
     ]
    },
    {
     "data": {
      "image/png": "[encoded data removed]",
      "text/plain": [
       "<Figure size 430.5x360 with 1 Axes>"
      ]
     },
     "metadata": {
      "needs_background": "light"
     },
     "output_type": "display_data"
    }
   ],
   "source": [
    "plot=sns.factorplot('SibSp', 'Survived', hue='Sex', data=data)\n",
    "plt.show()"
   ]
  },
  {
   "cell_type": "markdown",
   "metadata": {},
   "source": [
    "Note that it was more likely to survive if you went with maximum 2 friends"
   ]
  },
  {
   "cell_type": "markdown",
   "metadata": {},
   "source": [
    "## Data Cleaning\n",
    "### Data cleaning by age"
   ]
  },
  {
   "cell_type": "code",
   "execution_count": 234,
   "metadata": {},
   "outputs": [
    {
     "data": {
      "image/png": "[encoded data removed]",
      "text/plain": [
       "<Figure size 915.875x216 with 1 Axes>"
      ]
     },
     "metadata": {
      "needs_background": "light"
     },
     "output_type": "display_data"
    }
   ],
   "source": [
    "facet = sns.FacetGrid(data, hue=\"Survived\",aspect=4)\n",
    "facet.map(sns.kdeplot,'Age',shade= True)\n",
    "facet.set(xlim=(0, data['Age'].max()))\n",
    "facet.add_legend()\n",
    " \n",
    "plt.show() "
   ]
  },
  {
   "cell_type": "code",
   "execution_count": 235,
   "metadata": {},
   "outputs": [],
   "source": [
    "data['Age_range']=0\n",
    "data.loc[data['Age']<= 17, 'Age_range']=0\n",
    "data.loc[(data['Age']>17) & (data['Age']<=35), 'Age_range']=1\n",
    "data.loc[(data['Age']>35) & (data['Age']<=50), 'Age_range']=2\n",
    "data.loc[(data['Age']>50) & (data['Age']<=65), 'Age_range']=3\n",
    "data.loc[data['Age']>65, 'Age_range']=4"
   ]
  },
  {
   "cell_type": "code",
   "execution_count": 236,
   "metadata": {},
   "outputs": [
    {
     "data": {
      "text/html": [
       "<div>\n",
       "<style scoped>\n",
       "    .dataframe tbody tr th:only-of-type {\n",
       "        vertical-align: middle;\n",
       "    }\n",
       "\n",
       "    .dataframe tbody tr th {\n",
       "        vertical-align: top;\n",
       "    }\n",
       "\n",
       "    .dataframe thead th {\n",
       "        text-align: right;\n",
       "    }\n",
       "</style>\n",
       "<table border=\"1\" class=\"dataframe\">\n",
       "  <thead>\n",
       "    <tr style=\"text-align: right;\">\n",
       "      <th></th>\n",
       "      <th>PassengerId</th>\n",
       "      <th>Survived</th>\n",
       "      <th>Pclass</th>\n",
       "      <th>Name</th>\n",
       "      <th>Sex</th>\n",
       "      <th>Age</th>\n",
       "      <th>SibSp</th>\n",
       "      <th>Parch</th>\n",
       "      <th>Ticket</th>\n",
       "      <th>Fare</th>\n",
       "      <th>Cabin</th>\n",
       "      <th>Embarked</th>\n",
       "      <th>Age_range</th>\n",
       "    </tr>\n",
       "  </thead>\n",
       "  <tbody>\n",
       "    <tr>\n",
       "      <th>0</th>\n",
       "      <td>1</td>\n",
       "      <td>0</td>\n",
       "      <td>3</td>\n",
       "      <td>Braund, Mr. Owen Harris</td>\n",
       "      <td>male</td>\n",
       "      <td>22.0</td>\n",
       "      <td>1</td>\n",
       "      <td>0</td>\n",
       "      <td>A/5 21171</td>\n",
       "      <td>7.2500</td>\n",
       "      <td>NaN</td>\n",
       "      <td>S</td>\n",
       "      <td>1</td>\n",
       "    </tr>\n",
       "    <tr>\n",
       "      <th>1</th>\n",
       "      <td>2</td>\n",
       "      <td>1</td>\n",
       "      <td>1</td>\n",
       "      <td>Cumings, Mrs. John Bradley (Florence Briggs Th...</td>\n",
       "      <td>female</td>\n",
       "      <td>38.0</td>\n",
       "      <td>1</td>\n",
       "      <td>0</td>\n",
       "      <td>PC 17599</td>\n",
       "      <td>71.2833</td>\n",
       "      <td>C85</td>\n",
       "      <td>C</td>\n",
       "      <td>2</td>\n",
       "    </tr>\n",
       "    <tr>\n",
       "      <th>2</th>\n",
       "      <td>3</td>\n",
       "      <td>1</td>\n",
       "      <td>3</td>\n",
       "      <td>Heikkinen, Miss. Laina</td>\n",
       "      <td>female</td>\n",
       "      <td>26.0</td>\n",
       "      <td>0</td>\n",
       "      <td>0</td>\n",
       "      <td>STON/O2. 3101282</td>\n",
       "      <td>7.9250</td>\n",
       "      <td>NaN</td>\n",
       "      <td>S</td>\n",
       "      <td>1</td>\n",
       "    </tr>\n",
       "    <tr>\n",
       "      <th>3</th>\n",
       "      <td>4</td>\n",
       "      <td>1</td>\n",
       "      <td>1</td>\n",
       "      <td>Futrelle, Mrs. Jacques Heath (Lily May Peel)</td>\n",
       "      <td>female</td>\n",
       "      <td>35.0</td>\n",
       "      <td>1</td>\n",
       "      <td>0</td>\n",
       "      <td>113803</td>\n",
       "      <td>53.1000</td>\n",
       "      <td>C123</td>\n",
       "      <td>S</td>\n",
       "      <td>1</td>\n",
       "    </tr>\n",
       "    <tr>\n",
       "      <th>4</th>\n",
       "      <td>5</td>\n",
       "      <td>0</td>\n",
       "      <td>3</td>\n",
       "      <td>Allen, Mr. William Henry</td>\n",
       "      <td>male</td>\n",
       "      <td>35.0</td>\n",
       "      <td>0</td>\n",
       "      <td>0</td>\n",
       "      <td>373450</td>\n",
       "      <td>8.0500</td>\n",
       "      <td>NaN</td>\n",
       "      <td>S</td>\n",
       "      <td>1</td>\n",
       "    </tr>\n",
       "  </tbody>\n",
       "</table>\n",
       "</div>"
      ],
      "text/plain": [
       "   PassengerId  Survived  Pclass  \\\n",
       "0            1         0       3   \n",
       "1            2         1       1   \n",
       "2            3         1       3   \n",
       "3            4         1       1   \n",
       "4            5         0       3   \n",
       "\n",
       "                                                Name     Sex   Age  SibSp  \\\n",
       "0                            Braund, Mr. Owen Harris    male  22.0      1   \n",
       "1  Cumings, Mrs. John Bradley (Florence Briggs Th...  female  38.0      1   \n",
       "2                             Heikkinen, Miss. Laina  female  26.0      0   \n",
       "3       Futrelle, Mrs. Jacques Heath (Lily May Peel)  female  35.0      1   \n",
       "4                           Allen, Mr. William Henry    male  35.0      0   \n",
       "\n",
       "   Parch            Ticket     Fare Cabin Embarked  Age_range  \n",
       "0      0         A/5 21171   7.2500   NaN        S          1  \n",
       "1      0          PC 17599  71.2833   C85        C          2  \n",
       "2      0  STON/O2. 3101282   7.9250   NaN        S          1  \n",
       "3      0            113803  53.1000  C123        S          1  \n",
       "4      0            373450   8.0500   NaN        S          1  "
      ]
     },
     "execution_count": 236,
     "metadata": {},
     "output_type": "execute_result"
    }
   ],
   "source": [
    "data.head() #We see the first 5 to check that there is a new column called 'Age_range'"
   ]
  },
  {
   "cell_type": "code",
   "execution_count": 237,
   "metadata": {},
   "outputs": [
    {
     "data": {
      "text/html": [
       "<style  type=\"text/css\" >\n",
       "#T_c90042f8_93fd_11ec_aaf8_df7a80e00239row0_col0{\n",
       "            background-color:  #ff0000;\n",
       "            color:  #f1f1f1;\n",
       "        }#T_c90042f8_93fd_11ec_aaf8_df7a80e00239row1_col0{\n",
       "            background-color:  #ff3f00;\n",
       "            color:  #f1f1f1;\n",
       "        }#T_c90042f8_93fd_11ec_aaf8_df7a80e00239row2_col0{\n",
       "            background-color:  #ff9d00;\n",
       "            color:  #000000;\n",
       "        }#T_c90042f8_93fd_11ec_aaf8_df7a80e00239row3_col0{\n",
       "            background-color:  #ffdf00;\n",
       "            color:  #000000;\n",
       "        }#T_c90042f8_93fd_11ec_aaf8_df7a80e00239row4_col0{\n",
       "            background-color:  #ffff00;\n",
       "            color:  #000000;\n",
       "        }</style><table id=\"T_c90042f8_93fd_11ec_aaf8_df7a80e00239\" ><thead>    <tr>        <th class=\"blank level0\" ></th>        <th class=\"col_heading level0 col0\" >Age_range</th>    </tr></thead><tbody>\n",
       "                <tr>\n",
       "                        <th id=\"T_c90042f8_93fd_11ec_aaf8_df7a80e00239level0_row0\" class=\"row_heading level0 row0\" >1</th>\n",
       "                        <td id=\"T_c90042f8_93fd_11ec_aaf8_df7a80e00239row0_col0\" class=\"data row0 col0\" >384</td>\n",
       "            </tr>\n",
       "            <tr>\n",
       "                        <th id=\"T_c90042f8_93fd_11ec_aaf8_df7a80e00239level0_row1\" class=\"row_heading level0 row1\" >0</th>\n",
       "                        <td id=\"T_c90042f8_93fd_11ec_aaf8_df7a80e00239row1_col0\" class=\"data row1 col0\" >290</td>\n",
       "            </tr>\n",
       "            <tr>\n",
       "                        <th id=\"T_c90042f8_93fd_11ec_aaf8_df7a80e00239level0_row2\" class=\"row_heading level0 row2\" >2</th>\n",
       "                        <td id=\"T_c90042f8_93fd_11ec_aaf8_df7a80e00239row2_col0\" class=\"data row2 col0\" >153</td>\n",
       "            </tr>\n",
       "            <tr>\n",
       "                        <th id=\"T_c90042f8_93fd_11ec_aaf8_df7a80e00239level0_row3\" class=\"row_heading level0 row3\" >3</th>\n",
       "                        <td id=\"T_c90042f8_93fd_11ec_aaf8_df7a80e00239row3_col0\" class=\"data row3 col0\" >56</td>\n",
       "            </tr>\n",
       "            <tr>\n",
       "                        <th id=\"T_c90042f8_93fd_11ec_aaf8_df7a80e00239level0_row4\" class=\"row_heading level0 row4\" >4</th>\n",
       "                        <td id=\"T_c90042f8_93fd_11ec_aaf8_df7a80e00239row4_col0\" class=\"data row4 col0\" >8</td>\n",
       "            </tr>\n",
       "    </tbody></table>"
      ],
      "text/plain": [
       "<pandas.io.formats.style.Styler at 0x286d119fb80>"
      ]
     },
     "execution_count": 237,
     "metadata": {},
     "output_type": "execute_result"
    }
   ],
   "source": [
    "data['Age_range'].value_counts().to_frame().style.background_gradient(cmap='autumn_r')"
   ]
  },
  {
   "cell_type": "code",
   "execution_count": 238,
   "metadata": {},
   "outputs": [
    {
     "data": {
      "image/png": "[encoded data removed]",
      "text/plain": [
       "<Figure size 800x500 with 1 Axes>"
      ]
     },
     "metadata": {},
     "output_type": "display_data"
    }
   ],
   "source": [
    "fig_agerange = plt.figure(figsize=(8,5), dpi=100)\n",
    "axes_agerange = data['Age_range'].value_counts().plot.pie(autopct = '%1.1f%%', shadow =True)\n",
    "axes_agerange.set_title('Age range')\n",
    "axes_agerange.set_ylabel('')\n",
    "plt.show()"
   ]
  },
  {
   "cell_type": "markdown",
   "metadata": {},
   "source": [
    "We can see that it was a youth boat since most were under 35 years old"
   ]
  },
  {
   "cell_type": "code",
   "execution_count": 239,
   "metadata": {},
   "outputs": [
    {
     "name": "stderr",
     "output_type": "stream",
     "text": [
      "C:\\Users\\sammy\\Anaconda3\\lib\\site-packages\\seaborn\\categorical.py:3704: UserWarning: The `factorplot` function has been renamed to `catplot`. The original name will be removed in a future release. Please update your code. Note that the default `kind` in `factorplot` (`'point'`) has changed `'strip'` in `catplot`.\n",
      "  warnings.warn(msg)\n",
      "C:\\Users\\sammy\\Anaconda3\\lib\\site-packages\\seaborn\\_decorators.py:36: FutureWarning: Pass the following variables as keyword args: x, y. From version 0.12, the only valid positional argument will be `data`, and passing other arguments without an explicit keyword will result in an error or misinterpretation.\n",
      "  warnings.warn(\n"
     ]
    },
    {
     "data": {
      "text/plain": [
       "<seaborn.axisgrid.FacetGrid at 0x286d11f1f40>"
      ]
     },
     "execution_count": 239,
     "metadata": {},
     "output_type": "execute_result"
    },
    {
     "data": {
      "image/png": "[encoded data removed]",
      "text/plain": [
       "<Figure size 1080x360 with 3 Axes>"
      ]
     },
     "metadata": {
      "needs_background": "light"
     },
     "output_type": "display_data"
    }
   ],
   "source": [
    "sns.factorplot('Age_range', 'Survived', data=data, col='Pclass')"
   ]
  },
  {
   "cell_type": "markdown",
   "metadata": {},
   "source": [
    "Let us note that in first class the majority of those who survived were between 18 and 35 years old, while in second and third class priority was given to rescuing those under 18 years of age."
   ]
  },
  {
   "cell_type": "code",
   "execution_count": 240,
   "metadata": {},
   "outputs": [
    {
     "name": "stderr",
     "output_type": "stream",
     "text": [
      "C:\\Users\\sammy\\Anaconda3\\lib\\site-packages\\seaborn\\categorical.py:3704: UserWarning: The `factorplot` function has been renamed to `catplot`. The original name will be removed in a future release. Please update your code. Note that the default `kind` in `factorplot` (`'point'`) has changed `'strip'` in `catplot`.\n",
      "  warnings.warn(msg)\n",
      "C:\\Users\\sammy\\Anaconda3\\lib\\site-packages\\seaborn\\_decorators.py:36: FutureWarning: Pass the following variables as keyword args: x, y. From version 0.12, the only valid positional argument will be `data`, and passing other arguments without an explicit keyword will result in an error or misinterpretation.\n",
      "  warnings.warn(\n"
     ]
    },
    {
     "data": {
      "image/png": "[encoded data removed]",
      "text/plain": [
       "<Figure size 402.375x360 with 1 Axes>"
      ]
     },
     "metadata": {
      "needs_background": "light"
     },
     "output_type": "display_data"
    }
   ],
   "source": [
    "plot=sns.factorplot('Age_range', 'Survived', hue='Pclass', data=data)\n",
    "plt.show()"
   ]
  },
  {
   "cell_type": "markdown",
   "metadata": {},
   "source": [
    "### Data cleaning by fare\n",
    "\n",
    "We divide the fare into 4 ranges"
   ]
  },
  {
   "cell_type": "code",
   "execution_count": 241,
   "metadata": {},
   "outputs": [],
   "source": [
    "data['fare_range'] = pd.qcut(data['Fare'],4)"
   ]
  },
  {
   "cell_type": "code",
   "execution_count": 242,
   "metadata": {},
   "outputs": [
    {
     "data": {
      "text/html": [
       "<style  type=\"text/css\" >\n",
       "#T_cc054297_93fd_11ec_a21a_df7a80e00239row0_col0{\n",
       "            background-color:  #ffff00;\n",
       "            color:  #000000;\n",
       "        }#T_cc054297_93fd_11ec_a21a_df7a80e00239row1_col0{\n",
       "            background-color:  #ffb900;\n",
       "            color:  #000000;\n",
       "        }#T_cc054297_93fd_11ec_a21a_df7a80e00239row2_col0{\n",
       "            background-color:  #ff5400;\n",
       "            color:  #000000;\n",
       "        }#T_cc054297_93fd_11ec_a21a_df7a80e00239row3_col0{\n",
       "            background-color:  #ff0000;\n",
       "            color:  #f1f1f1;\n",
       "        }</style><table id=\"T_cc054297_93fd_11ec_a21a_df7a80e00239\" ><thead>    <tr>        <th class=\"blank level0\" ></th>        <th class=\"col_heading level0 col0\" >Survived</th>    </tr>    <tr>        <th class=\"index_name level0\" >fare_range</th>        <th class=\"blank\" ></th>    </tr></thead><tbody>\n",
       "                <tr>\n",
       "                        <th id=\"T_cc054297_93fd_11ec_a21a_df7a80e00239level0_row0\" class=\"row_heading level0 row0\" >(-0.001, 7.91]</th>\n",
       "                        <td id=\"T_cc054297_93fd_11ec_a21a_df7a80e00239row0_col0\" class=\"data row0 col0\" >0.197309</td>\n",
       "            </tr>\n",
       "            <tr>\n",
       "                        <th id=\"T_cc054297_93fd_11ec_a21a_df7a80e00239level0_row1\" class=\"row_heading level0 row1\" >(7.91, 14.454]</th>\n",
       "                        <td id=\"T_cc054297_93fd_11ec_a21a_df7a80e00239row1_col0\" class=\"data row1 col0\" >0.303571</td>\n",
       "            </tr>\n",
       "            <tr>\n",
       "                        <th id=\"T_cc054297_93fd_11ec_a21a_df7a80e00239level0_row2\" class=\"row_heading level0 row2\" >(14.454, 31.0]</th>\n",
       "                        <td id=\"T_cc054297_93fd_11ec_a21a_df7a80e00239row2_col0\" class=\"data row2 col0\" >0.454955</td>\n",
       "            </tr>\n",
       "            <tr>\n",
       "                        <th id=\"T_cc054297_93fd_11ec_a21a_df7a80e00239level0_row3\" class=\"row_heading level0 row3\" >(31.0, 512.329]</th>\n",
       "                        <td id=\"T_cc054297_93fd_11ec_a21a_df7a80e00239row3_col0\" class=\"data row3 col0\" >0.581081</td>\n",
       "            </tr>\n",
       "    </tbody></table>"
      ],
      "text/plain": [
       "<pandas.io.formats.style.Styler at 0x286cf653a90>"
      ]
     },
     "execution_count": 242,
     "metadata": {},
     "output_type": "execute_result"
    }
   ],
   "source": [
    "data.groupby(['fare_range'])['Survived'].mean().to_frame().style.background_gradient(cmap='autumn_r')"
   ]
  },
  {
   "cell_type": "code",
   "execution_count": 243,
   "metadata": {},
   "outputs": [],
   "source": [
    "data['fare_category']=0\n",
    "data.loc[data['Fare']<= 7.91, 'fare_category']=0\n",
    "data.loc[(data['Fare']>7.91) & (data['Fare']<=14.454), 'fare_category']=1\n",
    "data.loc[(data['Fare']>14.454) & (data['Fare']<=31.0), 'fare_category']=2\n",
    "data.loc[(data['Fare']>31.0) & (data['Fare']<=512.329), 'fare_category']=3"
   ]
  },
  {
   "cell_type": "code",
   "execution_count": 244,
   "metadata": {},
   "outputs": [
    {
     "name": "stderr",
     "output_type": "stream",
     "text": [
      "C:\\Users\\sammy\\Anaconda3\\lib\\site-packages\\seaborn\\categorical.py:3704: UserWarning: The `factorplot` function has been renamed to `catplot`. The original name will be removed in a future release. Please update your code. Note that the default `kind` in `factorplot` (`'point'`) has changed `'strip'` in `catplot`.\n",
      "  warnings.warn(msg)\n",
      "C:\\Users\\sammy\\Anaconda3\\lib\\site-packages\\seaborn\\_decorators.py:36: FutureWarning: Pass the following variables as keyword args: x, y. From version 0.12, the only valid positional argument will be `data`, and passing other arguments without an explicit keyword will result in an error or misinterpretation.\n",
      "  warnings.warn(\n"
     ]
    },
    {
     "data": {
      "text/plain": [
       "<seaborn.axisgrid.FacetGrid at 0x286d137a9a0>"
      ]
     },
     "execution_count": 244,
     "metadata": {},
     "output_type": "execute_result"
    },
    {
     "data": {
      "image/png": "[encoded data removed]",
      "text/plain": [
       "<Figure size 430.5x360 with 1 Axes>"
      ]
     },
     "metadata": {
      "needs_background": "light"
     },
     "output_type": "display_data"
    }
   ],
   "source": [
    "sns.factorplot('fare_category', 'Survived', data=data, hue='Sex')"
   ]
  },
  {
   "cell_type": "markdown",
   "metadata": {},
   "source": [
    "The more you paid for the ticket, the more likely you were to survive.\n",
    "## Convert string values to numeric values"
   ]
  },
  {
   "cell_type": "code",
   "execution_count": 245,
   "metadata": {},
   "outputs": [],
   "source": [
    "data['Sex'].replace(['male', 'female'], [0,1], inplace=True)\n",
    "data['Embarked'].replace(['S','C', 'Q'], [0,1,2], inplace=True)"
   ]
  },
  {
   "cell_type": "code",
   "execution_count": 246,
   "metadata": {},
   "outputs": [
    {
     "data": {
      "text/html": [
       "<div>\n",
       "<style scoped>\n",
       "    .dataframe tbody tr th:only-of-type {\n",
       "        vertical-align: middle;\n",
       "    }\n",
       "\n",
       "    .dataframe tbody tr th {\n",
       "        vertical-align: top;\n",
       "    }\n",
       "\n",
       "    .dataframe thead th {\n",
       "        text-align: right;\n",
       "    }\n",
       "</style>\n",
       "<table border=\"1\" class=\"dataframe\">\n",
       "  <thead>\n",
       "    <tr style=\"text-align: right;\">\n",
       "      <th></th>\n",
       "      <th>PassengerId</th>\n",
       "      <th>Survived</th>\n",
       "      <th>Pclass</th>\n",
       "      <th>Name</th>\n",
       "      <th>Sex</th>\n",
       "      <th>Age</th>\n",
       "      <th>SibSp</th>\n",
       "      <th>Parch</th>\n",
       "      <th>Ticket</th>\n",
       "      <th>Fare</th>\n",
       "      <th>Cabin</th>\n",
       "      <th>Embarked</th>\n",
       "      <th>Age_range</th>\n",
       "      <th>fare_range</th>\n",
       "      <th>fare_category</th>\n",
       "    </tr>\n",
       "  </thead>\n",
       "  <tbody>\n",
       "    <tr>\n",
       "      <th>0</th>\n",
       "      <td>1</td>\n",
       "      <td>0</td>\n",
       "      <td>3</td>\n",
       "      <td>Braund, Mr. Owen Harris</td>\n",
       "      <td>0</td>\n",
       "      <td>22.0</td>\n",
       "      <td>1</td>\n",
       "      <td>0</td>\n",
       "      <td>A/5 21171</td>\n",
       "      <td>7.2500</td>\n",
       "      <td>NaN</td>\n",
       "      <td>0.0</td>\n",
       "      <td>1</td>\n",
       "      <td>(-0.001, 7.91]</td>\n",
       "      <td>0</td>\n",
       "    </tr>\n",
       "    <tr>\n",
       "      <th>1</th>\n",
       "      <td>2</td>\n",
       "      <td>1</td>\n",
       "      <td>1</td>\n",
       "      <td>Cumings, Mrs. John Bradley (Florence Briggs Th...</td>\n",
       "      <td>1</td>\n",
       "      <td>38.0</td>\n",
       "      <td>1</td>\n",
       "      <td>0</td>\n",
       "      <td>PC 17599</td>\n",
       "      <td>71.2833</td>\n",
       "      <td>C85</td>\n",
       "      <td>1.0</td>\n",
       "      <td>2</td>\n",
       "      <td>(31.0, 512.329]</td>\n",
       "      <td>3</td>\n",
       "    </tr>\n",
       "    <tr>\n",
       "      <th>2</th>\n",
       "      <td>3</td>\n",
       "      <td>1</td>\n",
       "      <td>3</td>\n",
       "      <td>Heikkinen, Miss. Laina</td>\n",
       "      <td>1</td>\n",
       "      <td>26.0</td>\n",
       "      <td>0</td>\n",
       "      <td>0</td>\n",
       "      <td>STON/O2. 3101282</td>\n",
       "      <td>7.9250</td>\n",
       "      <td>NaN</td>\n",
       "      <td>0.0</td>\n",
       "      <td>1</td>\n",
       "      <td>(7.91, 14.454]</td>\n",
       "      <td>1</td>\n",
       "    </tr>\n",
       "    <tr>\n",
       "      <th>3</th>\n",
       "      <td>4</td>\n",
       "      <td>1</td>\n",
       "      <td>1</td>\n",
       "      <td>Futrelle, Mrs. Jacques Heath (Lily May Peel)</td>\n",
       "      <td>1</td>\n",
       "      <td>35.0</td>\n",
       "      <td>1</td>\n",
       "      <td>0</td>\n",
       "      <td>113803</td>\n",
       "      <td>53.1000</td>\n",
       "      <td>C123</td>\n",
       "      <td>0.0</td>\n",
       "      <td>1</td>\n",
       "      <td>(31.0, 512.329]</td>\n",
       "      <td>3</td>\n",
       "    </tr>\n",
       "    <tr>\n",
       "      <th>4</th>\n",
       "      <td>5</td>\n",
       "      <td>0</td>\n",
       "      <td>3</td>\n",
       "      <td>Allen, Mr. William Henry</td>\n",
       "      <td>0</td>\n",
       "      <td>35.0</td>\n",
       "      <td>0</td>\n",
       "      <td>0</td>\n",
       "      <td>373450</td>\n",
       "      <td>8.0500</td>\n",
       "      <td>NaN</td>\n",
       "      <td>0.0</td>\n",
       "      <td>1</td>\n",
       "      <td>(7.91, 14.454]</td>\n",
       "      <td>1</td>\n",
       "    </tr>\n",
       "  </tbody>\n",
       "</table>\n",
       "</div>"
      ],
      "text/plain": [
       "   PassengerId  Survived  Pclass  \\\n",
       "0            1         0       3   \n",
       "1            2         1       1   \n",
       "2            3         1       3   \n",
       "3            4         1       1   \n",
       "4            5         0       3   \n",
       "\n",
       "                                                Name  Sex   Age  SibSp  Parch  \\\n",
       "0                            Braund, Mr. Owen Harris    0  22.0      1      0   \n",
       "1  Cumings, Mrs. John Bradley (Florence Briggs Th...    1  38.0      1      0   \n",
       "2                             Heikkinen, Miss. Laina    1  26.0      0      0   \n",
       "3       Futrelle, Mrs. Jacques Heath (Lily May Peel)    1  35.0      1      0   \n",
       "4                           Allen, Mr. William Henry    0  35.0      0      0   \n",
       "\n",
       "             Ticket     Fare Cabin  Embarked  Age_range       fare_range  \\\n",
       "0         A/5 21171   7.2500   NaN       0.0          1   (-0.001, 7.91]   \n",
       "1          PC 17599  71.2833   C85       1.0          2  (31.0, 512.329]   \n",
       "2  STON/O2. 3101282   7.9250   NaN       0.0          1   (7.91, 14.454]   \n",
       "3            113803  53.1000  C123       0.0          1  (31.0, 512.329]   \n",
       "4            373450   8.0500   NaN       0.0          1   (7.91, 14.454]   \n",
       "\n",
       "   fare_category  \n",
       "0              0  \n",
       "1              3  \n",
       "2              1  \n",
       "3              3  \n",
       "4              1  "
      ]
     },
     "execution_count": 246,
     "metadata": {},
     "output_type": "execute_result"
    }
   ],
   "source": [
    "data.head()"
   ]
  },
  {
   "cell_type": "markdown",
   "metadata": {},
   "source": [
    "Now, we will eliminate the unnecessary columns since they do not provide us with relevant information"
   ]
  },
  {
   "cell_type": "code",
   "execution_count": 247,
   "metadata": {},
   "outputs": [],
   "source": [
    "train_data= data.copy()"
   ]
  },
  {
   "cell_type": "code",
   "execution_count": 248,
   "metadata": {},
   "outputs": [],
   "source": [
    "train_data.drop(['PassengerId', 'Name', 'Age', 'Fare','Ticket', 'Cabin', 'fare_range'], axis=1, inplace=True)\n",
    "target = data['Survived']"
   ]
  },
  {
   "cell_type": "code",
   "execution_count": 251,
   "metadata": {
    "scrolled": true
   },
   "outputs": [
    {
     "data": {
      "text/html": [
       "<div>\n",
       "<style scoped>\n",
       "    .dataframe tbody tr th:only-of-type {\n",
       "        vertical-align: middle;\n",
       "    }\n",
       "\n",
       "    .dataframe tbody tr th {\n",
       "        vertical-align: top;\n",
       "    }\n",
       "\n",
       "    .dataframe thead th {\n",
       "        text-align: right;\n",
       "    }\n",
       "</style>\n",
       "<table border=\"1\" class=\"dataframe\">\n",
       "  <thead>\n",
       "    <tr style=\"text-align: right;\">\n",
       "      <th></th>\n",
       "      <th>Survived</th>\n",
       "      <th>Pclass</th>\n",
       "      <th>Sex</th>\n",
       "      <th>SibSp</th>\n",
       "      <th>Parch</th>\n",
       "      <th>Embarked</th>\n",
       "      <th>Age_range</th>\n",
       "      <th>fare_category</th>\n",
       "    </tr>\n",
       "  </thead>\n",
       "  <tbody>\n",
       "    <tr>\n",
       "      <th>0</th>\n",
       "      <td>0</td>\n",
       "      <td>3</td>\n",
       "      <td>0</td>\n",
       "      <td>1</td>\n",
       "      <td>0</td>\n",
       "      <td>0.0</td>\n",
       "      <td>1</td>\n",
       "      <td>0</td>\n",
       "    </tr>\n",
       "    <tr>\n",
       "      <th>1</th>\n",
       "      <td>1</td>\n",
       "      <td>1</td>\n",
       "      <td>1</td>\n",
       "      <td>1</td>\n",
       "      <td>0</td>\n",
       "      <td>1.0</td>\n",
       "      <td>2</td>\n",
       "      <td>3</td>\n",
       "    </tr>\n",
       "    <tr>\n",
       "      <th>2</th>\n",
       "      <td>1</td>\n",
       "      <td>3</td>\n",
       "      <td>1</td>\n",
       "      <td>0</td>\n",
       "      <td>0</td>\n",
       "      <td>0.0</td>\n",
       "      <td>1</td>\n",
       "      <td>1</td>\n",
       "    </tr>\n",
       "    <tr>\n",
       "      <th>3</th>\n",
       "      <td>1</td>\n",
       "      <td>1</td>\n",
       "      <td>1</td>\n",
       "      <td>1</td>\n",
       "      <td>0</td>\n",
       "      <td>0.0</td>\n",
       "      <td>1</td>\n",
       "      <td>3</td>\n",
       "    </tr>\n",
       "  </tbody>\n",
       "</table>\n",
       "</div>"
      ],
      "text/plain": [
       "   Survived  Pclass  Sex  SibSp  Parch  Embarked  Age_range  fare_category\n",
       "0         0       3    0      1      0       0.0          1              0\n",
       "1         1       1    1      1      0       1.0          2              3\n",
       "2         1       3    1      0      0       0.0          1              1\n",
       "3         1       1    1      1      0       0.0          1              3"
      ]
     },
     "execution_count": 251,
     "metadata": {},
     "output_type": "execute_result"
    }
   ],
   "source": [
    "train_data.head(4)"
   ]
  },
  {
   "cell_type": "code",
   "execution_count": 252,
   "metadata": {},
   "outputs": [
    {
     "data": {
      "text/plain": [
       "Survived         0\n",
       "Pclass           0\n",
       "Sex              0\n",
       "SibSp            0\n",
       "Parch            0\n",
       "Embarked         2\n",
       "Age_range        0\n",
       "fare_category    0\n",
       "dtype: int64"
      ]
     },
     "execution_count": 252,
     "metadata": {},
     "output_type": "execute_result"
    }
   ],
   "source": [
    "train_data.isnull().sum()"
   ]
  },
  {
   "cell_type": "code",
   "execution_count": 253,
   "metadata": {},
   "outputs": [
    {
     "data": {
      "text/html": [
       "<div>\n",
       "<style scoped>\n",
       "    .dataframe tbody tr th:only-of-type {\n",
       "        vertical-align: middle;\n",
       "    }\n",
       "\n",
       "    .dataframe tbody tr th {\n",
       "        vertical-align: top;\n",
       "    }\n",
       "\n",
       "    .dataframe thead th {\n",
       "        text-align: right;\n",
       "    }\n",
       "</style>\n",
       "<table border=\"1\" class=\"dataframe\">\n",
       "  <thead>\n",
       "    <tr style=\"text-align: right;\">\n",
       "      <th></th>\n",
       "      <th>Survived</th>\n",
       "      <th>Pclass</th>\n",
       "      <th>Sex</th>\n",
       "      <th>SibSp</th>\n",
       "      <th>Parch</th>\n",
       "      <th>Embarked</th>\n",
       "      <th>Age_range</th>\n",
       "      <th>fare_category</th>\n",
       "    </tr>\n",
       "  </thead>\n",
       "  <tbody>\n",
       "    <tr>\n",
       "      <th>61</th>\n",
       "      <td>1</td>\n",
       "      <td>1</td>\n",
       "      <td>1</td>\n",
       "      <td>0</td>\n",
       "      <td>0</td>\n",
       "      <td>NaN</td>\n",
       "      <td>2</td>\n",
       "      <td>3</td>\n",
       "    </tr>\n",
       "    <tr>\n",
       "      <th>829</th>\n",
       "      <td>1</td>\n",
       "      <td>1</td>\n",
       "      <td>1</td>\n",
       "      <td>0</td>\n",
       "      <td>0</td>\n",
       "      <td>NaN</td>\n",
       "      <td>3</td>\n",
       "      <td>3</td>\n",
       "    </tr>\n",
       "  </tbody>\n",
       "</table>\n",
       "</div>"
      ],
      "text/plain": [
       "     Survived  Pclass  Sex  SibSp  Parch  Embarked  Age_range  fare_category\n",
       "61          1       1    1      0      0       NaN          2              3\n",
       "829         1       1    1      0      0       NaN          3              3"
      ]
     },
     "execution_count": 253,
     "metadata": {},
     "output_type": "execute_result"
    }
   ],
   "source": [
    "train_data[ data['Embarked'].isnull()]"
   ]
  },
  {
   "cell_type": "code",
   "execution_count": 254,
   "metadata": {},
   "outputs": [
    {
     "data": {
      "image/png": "[encoded data removed]",
      "text/plain": [
       "<Figure size 720x360 with 1 Axes>"
      ]
     },
     "metadata": {
      "needs_background": "light"
     },
     "output_type": "display_data"
    }
   ],
   "source": [
    "bar_chart('Embarked')"
   ]
  },
  {
   "cell_type": "code",
   "execution_count": 255,
   "metadata": {},
   "outputs": [
    {
     "name": "stderr",
     "output_type": "stream",
     "text": [
      "C:\\Users\\sammy\\Anaconda3\\lib\\site-packages\\seaborn\\_decorators.py:36: FutureWarning: Pass the following variable as a keyword arg: x. From version 0.12, the only valid positional argument will be `data`, and passing other arguments without an explicit keyword will result in an error or misinterpretation.\n",
      "  warnings.warn(\n"
     ]
    },
    {
     "data": {
      "text/plain": [
       "Text(0.5, 1.0, 'Number of passengers who entered through each gate')"
      ]
     },
     "execution_count": 255,
     "metadata": {},
     "output_type": "execute_result"
    },
    {
     "data": {
      "image/png": "[encoded data removed]",
      "text/plain": [
       "<Figure size 360x432 with 1 Axes>"
      ]
     },
     "metadata": {
      "needs_background": "light"
     },
     "output_type": "display_data"
    }
   ],
   "source": [
    "f,ax = plt.subplots(1,1, figsize=(5,6))\n",
    "\n",
    "sns.countplot('Embarked', data=train_data, ax=ax)\n",
    "ax.set_title('Number of passengers who entered through each gate')"
   ]
  },
  {
   "cell_type": "markdown",
   "metadata": {},
   "source": [
    "Since most passengers entered through gate 0 we will assign them gate 0"
   ]
  },
  {
   "cell_type": "code",
   "execution_count": 256,
   "metadata": {},
   "outputs": [],
   "source": [
    "train_data['Embarked'].fillna(0, inplace=True)"
   ]
  },
  {
   "cell_type": "code",
   "execution_count": 257,
   "metadata": {},
   "outputs": [
    {
     "data": {
      "text/plain": [
       "Survived         0\n",
       "Pclass           0\n",
       "Sex              0\n",
       "SibSp            0\n",
       "Parch            0\n",
       "Embarked         0\n",
       "Age_range        0\n",
       "fare_category    0\n",
       "dtype: int64"
      ]
     },
     "execution_count": 257,
     "metadata": {},
     "output_type": "execute_result"
    }
   ],
   "source": [
    "train_data.isnull().sum()"
   ]
  },
  {
   "cell_type": "code",
   "execution_count": null,
   "metadata": {},
   "outputs": [],
   "source": [
    "#data.to_csv(\"clean_titanic.csv\")\n",
    "#data.to_excel(\"clean_titanic.xlsx\")"
   ]
  },
  {
   "cell_type": "markdown",
   "metadata": {},
   "source": [
    "## Modeling"
   ]
  },
  {
   "cell_type": "code",
   "execution_count": 274,
   "metadata": {},
   "outputs": [],
   "source": [
    "from sklearn.neighbors import KNeighborsClassifier\n",
    "from sklearn.tree import DecisionTreeClassifier\n",
    "from sklearn.ensemble import RandomForestClassifier\n",
    "from sklearn.naive_bayes import GaussianNB\n",
    "from sklearn.svm import SVC"
   ]
  },
  {
   "cell_type": "code",
   "execution_count": 275,
   "metadata": {},
   "outputs": [
    {
     "name": "stdout",
     "output_type": "stream",
     "text": [
      "<class 'pandas.core.frame.DataFrame'>\n",
      "RangeIndex: 891 entries, 0 to 890\n",
      "Data columns (total 8 columns):\n",
      " #   Column         Non-Null Count  Dtype  \n",
      "---  ------         --------------  -----  \n",
      " 0   Survived       891 non-null    int64  \n",
      " 1   Pclass         891 non-null    int64  \n",
      " 2   Sex            891 non-null    int64  \n",
      " 3   SibSp          891 non-null    int64  \n",
      " 4   Parch          891 non-null    int64  \n",
      " 5   Embarked       891 non-null    float64\n",
      " 6   Age_range      891 non-null    int64  \n",
      " 7   fare_category  891 non-null    int64  \n",
      "dtypes: float64(1), int64(7)\n",
      "memory usage: 55.8 KB\n"
     ]
    }
   ],
   "source": [
    "train_data.info()"
   ]
  },
  {
   "cell_type": "markdown",
   "metadata": {},
   "source": [
    "### Cross Validation"
   ]
  },
  {
   "cell_type": "code",
   "execution_count": 276,
   "metadata": {},
   "outputs": [],
   "source": [
    "from sklearn.model_selection import KFold\n",
    "from sklearn.model_selection import cross_val_score\n",
    "k_fold = KFold(n_splits=10, shuffle=True, random_state=0)"
   ]
  },
  {
   "cell_type": "markdown",
   "metadata": {},
   "source": [
    "### KNN"
   ]
  },
  {
   "cell_type": "code",
   "execution_count": 277,
   "metadata": {},
   "outputs": [
    {
     "name": "stdout",
     "output_type": "stream",
     "text": [
      "[0.95555556 0.94382022 0.94382022 0.98876404 0.94382022 0.95505618\n",
      " 0.96629213 0.94382022 0.96629213 0.97752809]\n"
     ]
    }
   ],
   "source": [
    "clf = KNeighborsClassifier(n_neighbors = 13)\n",
    "scoring = 'accuracy'\n",
    "score = cross_val_score(clf, train_data, target, cv=k_fold, n_jobs=1, scoring=scoring)\n",
    "print(score)"
   ]
  },
  {
   "cell_type": "code",
   "execution_count": 278,
   "metadata": {},
   "outputs": [
    {
     "data": {
      "text/plain": [
       "95.85"
      ]
     },
     "execution_count": 278,
     "metadata": {},
     "output_type": "execute_result"
    }
   ],
   "source": [
    "# kNN Score\n",
    "round(np.mean(score)*100, 2)"
   ]
  },
  {
   "cell_type": "markdown",
   "metadata": {},
   "source": [
    "## Decision Tree"
   ]
  },
  {
   "cell_type": "code",
   "execution_count": 279,
   "metadata": {},
   "outputs": [
    {
     "name": "stdout",
     "output_type": "stream",
     "text": [
      "[1. 1. 1. 1. 1. 1. 1. 1. 1. 1.]\n"
     ]
    }
   ],
   "source": [
    "clf = DecisionTreeClassifier()\n",
    "scoring = 'accuracy'\n",
    "score = cross_val_score(clf, train_data, target, cv=k_fold, n_jobs=1, scoring=scoring)\n",
    "print(score)"
   ]
  },
  {
   "cell_type": "code",
   "execution_count": 280,
   "metadata": {},
   "outputs": [
    {
     "data": {
      "text/plain": [
       "100.0"
      ]
     },
     "execution_count": 280,
     "metadata": {},
     "output_type": "execute_result"
    }
   ],
   "source": [
    "# decision tree Score\n",
    "round(np.mean(score)*100, 2)"
   ]
  },
  {
   "cell_type": "markdown",
   "metadata": {},
   "source": [
    "## Ramdom Forest"
   ]
  },
  {
   "cell_type": "code",
   "execution_count": 281,
   "metadata": {},
   "outputs": [
    {
     "name": "stdout",
     "output_type": "stream",
     "text": [
      "[1. 1. 1. 1. 1. 1. 1. 1. 1. 1.]\n"
     ]
    }
   ],
   "source": [
    "clf = RandomForestClassifier(n_estimators=13)\n",
    "scoring = 'accuracy'\n",
    "score = cross_val_score(clf, train_data, target, cv=k_fold, n_jobs=1, scoring=scoring)\n",
    "print(score)"
   ]
  },
  {
   "cell_type": "code",
   "execution_count": 282,
   "metadata": {},
   "outputs": [
    {
     "data": {
      "text/plain": [
       "100.0"
      ]
     },
     "execution_count": 282,
     "metadata": {},
     "output_type": "execute_result"
    }
   ],
   "source": [
    "# Random Forest Score\n",
    "round(np.mean(score)*100, 2)"
   ]
  },
  {
   "cell_type": "markdown",
   "metadata": {},
   "source": [
    "## Naive Bayes"
   ]
  },
  {
   "cell_type": "code",
   "execution_count": 283,
   "metadata": {},
   "outputs": [
    {
     "name": "stdout",
     "output_type": "stream",
     "text": [
      "[1. 1. 1. 1. 1. 1. 1. 1. 1. 1.]\n"
     ]
    }
   ],
   "source": [
    "clf = GaussianNB()\n",
    "scoring = 'accuracy'\n",
    "score = cross_val_score(clf, train_data, target, cv=k_fold, n_jobs=1, scoring=scoring)\n",
    "print(score)"
   ]
  },
  {
   "cell_type": "code",
   "execution_count": 284,
   "metadata": {},
   "outputs": [
    {
     "data": {
      "text/plain": [
       "100.0"
      ]
     },
     "execution_count": 284,
     "metadata": {},
     "output_type": "execute_result"
    }
   ],
   "source": [
    "# Naive Bayes Score\n",
    "round(np.mean(score)*100, 2)"
   ]
  },
  {
   "cell_type": "markdown",
   "metadata": {},
   "source": [
    "## SVM"
   ]
  },
  {
   "cell_type": "code",
   "execution_count": 285,
   "metadata": {},
   "outputs": [
    {
     "name": "stdout",
     "output_type": "stream",
     "text": [
      "[1.         1.         0.97752809 1.         1.         1.\n",
      " 1.         0.98876404 1.         1.        ]\n"
     ]
    }
   ],
   "source": [
    "clf = SVC()\n",
    "scoring = 'accuracy'\n",
    "score = cross_val_score(clf, train_data, target, cv=k_fold, n_jobs=1, scoring=scoring)\n",
    "print(score)"
   ]
  },
  {
   "cell_type": "code",
   "execution_count": 286,
   "metadata": {},
   "outputs": [
    {
     "data": {
      "text/plain": [
       "99.66"
      ]
     },
     "execution_count": 286,
     "metadata": {},
     "output_type": "execute_result"
    }
   ],
   "source": [
    "round(np.mean(score)*100,2)"
   ]
  },
  {
   "cell_type": "markdown",
   "metadata": {},
   "source": [
    "# Testing"
   ]
  },
  {
   "cell_type": "code",
   "execution_count": null,
   "metadata": {},
   "outputs": [],
   "source": []
  }
 ],
 "metadata": {
  "kernelspec": {
   "display_name": "Python 3",
   "language": "python",
   "name": "python3"
  },
  "language_info": {
   "codemirror_mode": {
    "name": "ipython",
    "version": 3
   },
   "file_extension": ".py",
   "mimetype": "text/x-python",
   "name": "python",
   "nbconvert_exporter": "python",
   "pygments_lexer": "ipython3",
   "version": "3.8.5"
  }
 },
 "nbformat": 4,
 "nbformat_minor": 4
}
