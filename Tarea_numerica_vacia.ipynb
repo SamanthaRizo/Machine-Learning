{
 "cells": [
  {
   "cell_type": "code",
   "execution_count": 43,
   "metadata": {},
   "outputs": [],
   "source": [
    "import matplotlib.pyplot as plt\n",
    "from scipy import optimize,  interpolate, integrate\n",
    "import seaborn as sn\n",
    "import numpy as np\n",
    "import pandas as pd\n",
    "\n",
    "%matplotlib inline"
   ]
  },
  {
   "cell_type": "code",
   "execution_count": 2,
   "metadata": {},
   "outputs": [],
   "source": [
    "pdf = pd.read_csv('file_f.csv', index_col = 0, encoding='unicode-escape')\n",
    "pdg = pd.read_csv('file_g.csv', index_col = 0, encoding='unicode-escape')"
   ]
  },
  {
   "cell_type": "markdown",
   "metadata": {},
   "source": [
    "## Usar SEABORN para graficar"
   ]
  },
  {
   "cell_type": "code",
   "execution_count": 3,
   "metadata": {},
   "outputs": [],
   "source": [
    "sns.set()"
   ]
  },
  {
   "cell_type": "code",
   "execution_count": null,
   "metadata": {},
   "outputs": [],
   "source": []
  },
  {
   "cell_type": "markdown",
   "metadata": {
    "collapsed": true
   },
   "source": [
    "## Leer archivos con PANDAS y almacenar"
   ]
  },
  {
   "cell_type": "code",
   "execution_count": 4,
   "metadata": {
    "scrolled": true
   },
   "outputs": [
    {
     "data": {
      "text/html": [
       "<div>\n",
       "<style scoped>\n",
       "    .dataframe tbody tr th:only-of-type {\n",
       "        vertical-align: middle;\n",
       "    }\n",
       "\n",
       "    .dataframe tbody tr th {\n",
       "        vertical-align: top;\n",
       "    }\n",
       "\n",
       "    .dataframe thead th {\n",
       "        text-align: right;\n",
       "    }\n",
       "</style>\n",
       "<table border=\"1\" class=\"dataframe\">\n",
       "  <thead>\n",
       "    <tr style=\"text-align: right;\">\n",
       "      <th></th>\n",
       "      <th>Unnamed: 0</th>\n",
       "      <th>x</th>\n",
       "      <th>y</th>\n",
       "    </tr>\n",
       "  </thead>\n",
       "  <tbody>\n",
       "    <tr>\n",
       "      <th>0</th>\n",
       "      <td>0</td>\n",
       "      <td>-2.000000</td>\n",
       "      <td>-10.561835</td>\n",
       "    </tr>\n",
       "    <tr>\n",
       "      <th>1</th>\n",
       "      <td>1</td>\n",
       "      <td>-1.939394</td>\n",
       "      <td>-8.231853</td>\n",
       "    </tr>\n",
       "    <tr>\n",
       "      <th>2</th>\n",
       "      <td>2</td>\n",
       "      <td>-1.878788</td>\n",
       "      <td>-9.534953</td>\n",
       "    </tr>\n",
       "    <tr>\n",
       "      <th>3</th>\n",
       "      <td>3</td>\n",
       "      <td>-1.818182</td>\n",
       "      <td>-9.241336</td>\n",
       "    </tr>\n",
       "    <tr>\n",
       "      <th>4</th>\n",
       "      <td>4</td>\n",
       "      <td>-1.757576</td>\n",
       "      <td>-10.319815</td>\n",
       "    </tr>\n",
       "    <tr>\n",
       "      <th>...</th>\n",
       "      <td>...</td>\n",
       "      <td>...</td>\n",
       "      <td>...</td>\n",
       "    </tr>\n",
       "    <tr>\n",
       "      <th>95</th>\n",
       "      <td>95</td>\n",
       "      <td>3.757576</td>\n",
       "      <td>35.020698</td>\n",
       "    </tr>\n",
       "    <tr>\n",
       "      <th>96</th>\n",
       "      <td>96</td>\n",
       "      <td>3.818182</td>\n",
       "      <td>34.630118</td>\n",
       "    </tr>\n",
       "    <tr>\n",
       "      <th>97</th>\n",
       "      <td>97</td>\n",
       "      <td>3.878788</td>\n",
       "      <td>37.781872</td>\n",
       "    </tr>\n",
       "    <tr>\n",
       "      <th>98</th>\n",
       "      <td>98</td>\n",
       "      <td>3.939394</td>\n",
       "      <td>41.869477</td>\n",
       "    </tr>\n",
       "    <tr>\n",
       "      <th>99</th>\n",
       "      <td>99</td>\n",
       "      <td>4.000000</td>\n",
       "      <td>44.050863</td>\n",
       "    </tr>\n",
       "  </tbody>\n",
       "</table>\n",
       "<p>100 rows × 3 columns</p>\n",
       "</div>"
      ],
      "text/plain": [
       "    Unnamed: 0         x          y\n",
       "0            0 -2.000000 -10.561835\n",
       "1            1 -1.939394  -8.231853\n",
       "2            2 -1.878788  -9.534953\n",
       "3            3 -1.818182  -9.241336\n",
       "4            4 -1.757576 -10.319815\n",
       "..         ...       ...        ...\n",
       "95          95  3.757576  35.020698\n",
       "96          96  3.818182  34.630118\n",
       "97          97  3.878788  37.781872\n",
       "98          98  3.939394  41.869477\n",
       "99          99  4.000000  44.050863\n",
       "\n",
       "[100 rows x 3 columns]"
      ]
     },
     "execution_count": 4,
     "metadata": {},
     "output_type": "execute_result"
    }
   ],
   "source": [
    "pd.read_csv('file_f.csv') #Para leer archivos con Pandas"
   ]
  },
  {
   "cell_type": "code",
   "execution_count": 5,
   "metadata": {},
   "outputs": [
    {
     "data": {
      "text/html": [
       "<div>\n",
       "<style scoped>\n",
       "    .dataframe tbody tr th:only-of-type {\n",
       "        vertical-align: middle;\n",
       "    }\n",
       "\n",
       "    .dataframe tbody tr th {\n",
       "        vertical-align: top;\n",
       "    }\n",
       "\n",
       "    .dataframe thead th {\n",
       "        text-align: right;\n",
       "    }\n",
       "</style>\n",
       "<table border=\"1\" class=\"dataframe\">\n",
       "  <thead>\n",
       "    <tr style=\"text-align: right;\">\n",
       "      <th></th>\n",
       "      <th>x</th>\n",
       "      <th>y</th>\n",
       "    </tr>\n",
       "  </thead>\n",
       "  <tbody>\n",
       "    <tr>\n",
       "      <th>0</th>\n",
       "      <td>-2.000000</td>\n",
       "      <td>-10.561835</td>\n",
       "    </tr>\n",
       "    <tr>\n",
       "      <th>1</th>\n",
       "      <td>-1.939394</td>\n",
       "      <td>-8.231853</td>\n",
       "    </tr>\n",
       "    <tr>\n",
       "      <th>2</th>\n",
       "      <td>-1.878788</td>\n",
       "      <td>-9.534953</td>\n",
       "    </tr>\n",
       "    <tr>\n",
       "      <th>3</th>\n",
       "      <td>-1.818182</td>\n",
       "      <td>-9.241336</td>\n",
       "    </tr>\n",
       "    <tr>\n",
       "      <th>4</th>\n",
       "      <td>-1.757576</td>\n",
       "      <td>-10.319815</td>\n",
       "    </tr>\n",
       "  </tbody>\n",
       "</table>\n",
       "</div>"
      ],
      "text/plain": [
       "          x          y\n",
       "0 -2.000000 -10.561835\n",
       "1 -1.939394  -8.231853\n",
       "2 -1.878788  -9.534953\n",
       "3 -1.818182  -9.241336\n",
       "4 -1.757576 -10.319815"
      ]
     },
     "execution_count": 5,
     "metadata": {},
     "output_type": "execute_result"
    }
   ],
   "source": [
    "pdf.head()"
   ]
  },
  {
   "cell_type": "code",
   "execution_count": 6,
   "metadata": {},
   "outputs": [
    {
     "data": {
      "text/html": [
       "<div>\n",
       "<style scoped>\n",
       "    .dataframe tbody tr th:only-of-type {\n",
       "        vertical-align: middle;\n",
       "    }\n",
       "\n",
       "    .dataframe tbody tr th {\n",
       "        vertical-align: top;\n",
       "    }\n",
       "\n",
       "    .dataframe thead th {\n",
       "        text-align: right;\n",
       "    }\n",
       "</style>\n",
       "<table border=\"1\" class=\"dataframe\">\n",
       "  <thead>\n",
       "    <tr style=\"text-align: right;\">\n",
       "      <th></th>\n",
       "      <th>x</th>\n",
       "      <th>y</th>\n",
       "    </tr>\n",
       "  </thead>\n",
       "  <tbody>\n",
       "    <tr>\n",
       "      <th>0</th>\n",
       "      <td>-2.000000</td>\n",
       "      <td>43.800852</td>\n",
       "    </tr>\n",
       "    <tr>\n",
       "      <th>1</th>\n",
       "      <td>-1.939394</td>\n",
       "      <td>42.049952</td>\n",
       "    </tr>\n",
       "    <tr>\n",
       "      <th>2</th>\n",
       "      <td>-1.878788</td>\n",
       "      <td>38.473135</td>\n",
       "    </tr>\n",
       "    <tr>\n",
       "      <th>3</th>\n",
       "      <td>-1.818182</td>\n",
       "      <td>36.070861</td>\n",
       "    </tr>\n",
       "    <tr>\n",
       "      <th>4</th>\n",
       "      <td>-1.757576</td>\n",
       "      <td>34.152866</td>\n",
       "    </tr>\n",
       "  </tbody>\n",
       "</table>\n",
       "</div>"
      ],
      "text/plain": [
       "          x          y\n",
       "0 -2.000000  43.800852\n",
       "1 -1.939394  42.049952\n",
       "2 -1.878788  38.473135\n",
       "3 -1.818182  36.070861\n",
       "4 -1.757576  34.152866"
      ]
     },
     "execution_count": 6,
     "metadata": {},
     "output_type": "execute_result"
    }
   ],
   "source": [
    "pdg.head()"
   ]
  },
  {
   "cell_type": "code",
   "execution_count": 7,
   "metadata": {},
   "outputs": [],
   "source": [
    "df5 = pd.DataFrame(\n",
    "    {\n",
    "        \"A\": [\"A4\", \"A5\", \"A6\", \"A7\"],\n",
    "        \"B\": [\"B4\", \"B5\", \"B6\", \"B7\"],\n",
    "        \"C\": [\"C4\", \"C5\", \"C6\", \"C7\"],\n",
    "        \"D\": [\"D4\", \"D5\", \"D6\", \"D7\"],\n",
    "    },\n",
    "    index=[4, 5, 6, 7],\n",
    ")"
   ]
  },
  {
   "cell_type": "code",
   "execution_count": 8,
   "metadata": {},
   "outputs": [],
   "source": [
    "df5.to_csv(\"prueba.csv\") #Para almacenar con Pandas"
   ]
  },
  {
   "cell_type": "markdown",
   "metadata": {},
   "source": [
    "## Graficar archivos"
   ]
  },
  {
   "cell_type": "code",
   "execution_count": 9,
   "metadata": {},
   "outputs": [
    {
     "data": {
      "image/png": "[encoded data removed]",
      "text/plain": [
       "<Figure size 400x300 with 1 Axes>"
      ]
     },
     "metadata": {},
     "output_type": "display_data"
    }
   ],
   "source": [
    "fig_1 = plt.figure(figsize=(4,3), dpi=100)\n",
    "axes_1 = fig_1.add_axes([0.1,0.1,0.9,0.9]) #[left, bottom, width, height]\n",
    "axes_1.set_xlabel('x') #This is how you add labels to the axes\n",
    "axes_1.set_ylabel('y')\n",
    "axes_1.scatter(pdf.x,pdf.y, color='r', lw=.05) #To plot the axes, and a label generated\n",
    "axes_1.scatter(pdg.x,pdg.y,marker='+' , color='g', lw=.75) \n",
    "axes_1.grid(True, dashes=(5,2,1,2))"
   ]
  },
  {
   "cell_type": "markdown",
   "metadata": {},
   "source": [
    "## Sumar componentes y's y graficar"
   ]
  },
  {
   "cell_type": "code",
   "execution_count": 10,
   "metadata": {},
   "outputs": [
    {
     "data": {
      "text/plain": [
       "0     33.239017\n",
       "1     33.818099\n",
       "2     28.938182\n",
       "3     26.829525\n",
       "4     23.833050\n",
       "        ...    \n",
       "95    34.389177\n",
       "96    35.173566\n",
       "97    36.163755\n",
       "98    40.640143\n",
       "99    43.080868\n",
       "Name: y, Length: 100, dtype: float64"
      ]
     },
     "execution_count": 10,
     "metadata": {},
     "output_type": "execute_result"
    }
   ],
   "source": [
    "df_suma= pdf.y+pdg.y\n",
    "df_suma"
   ]
  },
  {
   "cell_type": "code",
   "execution_count": 11,
   "metadata": {},
   "outputs": [
    {
     "data": {
      "image/png": "[encoded data removed]",
      "text/plain": [
       "<Figure size 432x288 with 1 Axes>"
      ]
     },
     "metadata": {},
     "output_type": "display_data"
    }
   ],
   "source": [
    "fig_suma = plt.figure(figsize=(6,4))\n",
    "axes_suma = fig_suma.add_axes([0,0,1,1])\n",
    "axes_suma.scatter(pdf.x, df_suma, lw=2) \n",
    "\n",
    "#Add a grid\n",
    "axes_suma.grid(True, color='0.6', dashes=(5,2,1,2))\n",
    "\n",
    "#Change the background color \n",
    "axes_suma.set_facecolor('.9')"
   ]
  },
  {
   "cell_type": "markdown",
   "metadata": {
    "collapsed": true
   },
   "source": [
    "## Ajustar una funcion cuadratica y encontrar coeficientes"
   ]
  },
  {
   "cell_type": "code",
   "execution_count": 12,
   "metadata": {},
   "outputs": [],
   "source": [
    "## Ajustar una funcion quadratica a la suma\n",
    "def f(t, a, b, c):\n",
    "    return a*t**2 + b*t + c #curvefit"
   ]
  },
  {
   "cell_type": "markdown",
   "metadata": {},
   "source": [
    "Para el ajuste de los datos al modelo cuadrático de regresión construímos la siguiente tabla, sin embargo se encontró un método más facil para encontrar los coeficientes, por lo cual ya no se continuo por este método."
   ]
  },
  {
   "cell_type": "code",
   "execution_count": 23,
   "metadata": {},
   "outputs": [
    {
     "data": {
      "text/html": [
       "<div>\n",
       "<style scoped>\n",
       "    .dataframe tbody tr th:only-of-type {\n",
       "        vertical-align: middle;\n",
       "    }\n",
       "\n",
       "    .dataframe tbody tr th {\n",
       "        vertical-align: top;\n",
       "    }\n",
       "\n",
       "    .dataframe thead th {\n",
       "        text-align: right;\n",
       "    }\n",
       "</style>\n",
       "<table border=\"1\" class=\"dataframe\">\n",
       "  <thead>\n",
       "    <tr style=\"text-align: right;\">\n",
       "      <th></th>\n",
       "      <th>x</th>\n",
       "      <th>y</th>\n",
       "      <th>x^2</th>\n",
       "      <th>x^3</th>\n",
       "      <th>x^4</th>\n",
       "      <th>x*y</th>\n",
       "      <th>x^2y</th>\n",
       "      <th>y^2</th>\n",
       "    </tr>\n",
       "  </thead>\n",
       "  <tbody>\n",
       "    <tr>\n",
       "      <th>0</th>\n",
       "      <td>-2.000000</td>\n",
       "      <td>-10.561835</td>\n",
       "      <td>4.000000</td>\n",
       "      <td>-8.000000</td>\n",
       "      <td>16.000000</td>\n",
       "      <td>21.123670</td>\n",
       "      <td>-42.247339</td>\n",
       "      <td>111.552354</td>\n",
       "    </tr>\n",
       "    <tr>\n",
       "      <th>1</th>\n",
       "      <td>-1.939394</td>\n",
       "      <td>-8.231853</td>\n",
       "      <td>3.761249</td>\n",
       "      <td>-7.294543</td>\n",
       "      <td>14.146993</td>\n",
       "      <td>15.964807</td>\n",
       "      <td>-30.962049</td>\n",
       "      <td>67.763412</td>\n",
       "    </tr>\n",
       "    <tr>\n",
       "      <th>2</th>\n",
       "      <td>-1.878788</td>\n",
       "      <td>-9.534953</td>\n",
       "      <td>3.529844</td>\n",
       "      <td>-6.631828</td>\n",
       "      <td>12.459798</td>\n",
       "      <td>17.914154</td>\n",
       "      <td>-33.656895</td>\n",
       "      <td>90.915324</td>\n",
       "    </tr>\n",
       "    <tr>\n",
       "      <th>3</th>\n",
       "      <td>-1.818182</td>\n",
       "      <td>-9.241336</td>\n",
       "      <td>3.305785</td>\n",
       "      <td>-6.010518</td>\n",
       "      <td>10.928215</td>\n",
       "      <td>16.802428</td>\n",
       "      <td>-30.549870</td>\n",
       "      <td>85.402283</td>\n",
       "    </tr>\n",
       "    <tr>\n",
       "      <th>4</th>\n",
       "      <td>-1.757576</td>\n",
       "      <td>-10.319815</td>\n",
       "      <td>3.089073</td>\n",
       "      <td>-5.429279</td>\n",
       "      <td>9.542369</td>\n",
       "      <td>18.137857</td>\n",
       "      <td>-31.878658</td>\n",
       "      <td>106.498586</td>\n",
       "    </tr>\n",
       "    <tr>\n",
       "      <th>...</th>\n",
       "      <td>...</td>\n",
       "      <td>...</td>\n",
       "      <td>...</td>\n",
       "      <td>...</td>\n",
       "      <td>...</td>\n",
       "      <td>...</td>\n",
       "      <td>...</td>\n",
       "      <td>...</td>\n",
       "    </tr>\n",
       "    <tr>\n",
       "      <th>95</th>\n",
       "      <td>3.757576</td>\n",
       "      <td>35.020698</td>\n",
       "      <td>14.119376</td>\n",
       "      <td>53.054623</td>\n",
       "      <td>199.356767</td>\n",
       "      <td>131.592925</td>\n",
       "      <td>494.470384</td>\n",
       "      <td>1226.449269</td>\n",
       "    </tr>\n",
       "    <tr>\n",
       "      <th>96</th>\n",
       "      <td>3.818182</td>\n",
       "      <td>34.630118</td>\n",
       "      <td>14.578512</td>\n",
       "      <td>55.663411</td>\n",
       "      <td>212.533024</td>\n",
       "      <td>132.224086</td>\n",
       "      <td>504.855601</td>\n",
       "      <td>1199.245055</td>\n",
       "    </tr>\n",
       "    <tr>\n",
       "      <th>97</th>\n",
       "      <td>3.878788</td>\n",
       "      <td>37.781872</td>\n",
       "      <td>15.044995</td>\n",
       "      <td>58.356346</td>\n",
       "      <td>226.351887</td>\n",
       "      <td>146.547866</td>\n",
       "      <td>568.428087</td>\n",
       "      <td>1427.469831</td>\n",
       "    </tr>\n",
       "    <tr>\n",
       "      <th>98</th>\n",
       "      <td>3.939394</td>\n",
       "      <td>41.869477</td>\n",
       "      <td>15.518825</td>\n",
       "      <td>61.134764</td>\n",
       "      <td>240.833917</td>\n",
       "      <td>164.940363</td>\n",
       "      <td>649.765067</td>\n",
       "      <td>1753.053089</td>\n",
       "    </tr>\n",
       "    <tr>\n",
       "      <th>99</th>\n",
       "      <td>4.000000</td>\n",
       "      <td>44.050863</td>\n",
       "      <td>16.000000</td>\n",
       "      <td>64.000000</td>\n",
       "      <td>256.000000</td>\n",
       "      <td>176.203454</td>\n",
       "      <td>704.813816</td>\n",
       "      <td>1940.478573</td>\n",
       "    </tr>\n",
       "  </tbody>\n",
       "</table>\n",
       "<p>100 rows × 8 columns</p>\n",
       "</div>"
      ],
      "text/plain": [
       "           x          y        x^2        x^3         x^4         x*y  \\\n",
       "0  -2.000000 -10.561835   4.000000  -8.000000   16.000000   21.123670   \n",
       "1  -1.939394  -8.231853   3.761249  -7.294543   14.146993   15.964807   \n",
       "2  -1.878788  -9.534953   3.529844  -6.631828   12.459798   17.914154   \n",
       "3  -1.818182  -9.241336   3.305785  -6.010518   10.928215   16.802428   \n",
       "4  -1.757576 -10.319815   3.089073  -5.429279    9.542369   18.137857   \n",
       "..       ...        ...        ...        ...         ...         ...   \n",
       "95  3.757576  35.020698  14.119376  53.054623  199.356767  131.592925   \n",
       "96  3.818182  34.630118  14.578512  55.663411  212.533024  132.224086   \n",
       "97  3.878788  37.781872  15.044995  58.356346  226.351887  146.547866   \n",
       "98  3.939394  41.869477  15.518825  61.134764  240.833917  164.940363   \n",
       "99  4.000000  44.050863  16.000000  64.000000  256.000000  176.203454   \n",
       "\n",
       "          x^2y          y^2  \n",
       "0   -42.247339   111.552354  \n",
       "1   -30.962049    67.763412  \n",
       "2   -33.656895    90.915324  \n",
       "3   -30.549870    85.402283  \n",
       "4   -31.878658   106.498586  \n",
       "..         ...          ...  \n",
       "95  494.470384  1226.449269  \n",
       "96  504.855601  1199.245055  \n",
       "97  568.428087  1427.469831  \n",
       "98  649.765067  1753.053089  \n",
       "99  704.813816  1940.478573  \n",
       "\n",
       "[100 rows x 8 columns]"
      ]
     },
     "execution_count": 23,
     "metadata": {},
     "output_type": "execute_result"
    }
   ],
   "source": [
    "df_ajustecuadratico_f = pd.DataFrame({'x': pdf.x, 'y': pdf.y, 'x^2': (pdf.x)**2, 'x^3': (pdf.x)**3, 'x^4': (pdf.x)**4,\n",
    "                                    'x*y': pdf.x*pdf.y, 'x^2y':((pdf.x)**2)*pdf.y,'y^2': (pdf.y)**2})\n",
    "\n",
    "df_ajustecuadratico_f"
   ]
  },
  {
   "cell_type": "code",
   "execution_count": 25,
   "metadata": {},
   "outputs": [
    {
     "data": {
      "text/plain": [
       "array([ 4.55037324, -7.95814614, -4.55137115])"
      ]
     },
     "execution_count": 25,
     "metadata": {},
     "output_type": "execute_result"
    }
   ],
   "source": [
    "from scipy.optimize import curve_fit\n",
    "\n",
    "pars, cov = curve_fit(f=f, xdata=pdf.x, ydata=df_suma)\n",
    "pars"
   ]
  },
  {
   "cell_type": "markdown",
   "metadata": {},
   "source": [
    "## GRaficar promedios y matriz de covarianza"
   ]
  },
  {
   "cell_type": "code",
   "execution_count": 49,
   "metadata": {},
   "outputs": [
    {
     "name": "stdout",
     "output_type": "stream",
     "text": [
      "1.0000000000000002 5.9677558678500535\n"
     ]
    }
   ],
   "source": [
    "#Promedios\n",
    "\n",
    "print(np.mean(pdf.x), np.mean(df_suma))\n"
   ]
  },
  {
   "cell_type": "code",
   "execution_count": 55,
   "metadata": {},
   "outputs": [
    {
     "name": "stdout",
     "output_type": "stream",
     "text": [
      "[[  3.06060606  18.92239326 -15.42534374]\n",
      " [ 18.92239326 175.79638699 -64.25691716]\n",
      " [-15.42534374 -64.25691716 118.2700784 ]]\n"
     ]
    },
    {
     "data": {
      "image/png": "[encoded data removed]",
      "text/plain": [
       "<Figure size 432x288 with 2 Axes>"
      ]
     },
     "metadata": {
      "needs_background": "light"
     },
     "output_type": "display_data"
    }
   ],
   "source": [
    "#Matriz de covarianza\n",
    "\n",
    "data = np.array([pdf.x,pdf.y, pdg.y])\n",
    "covMatrix = np.cov(data,bias=True)\n",
    "print (covMatrix)\n",
    "#heatmap\n",
    "\n",
    "sn.heatmap(covMatrix, annot=True, fmt='g')\n",
    "plt.show()"
   ]
  },
  {
   "cell_type": "code",
   "execution_count": 62,
   "metadata": {},
   "outputs": [
    {
     "name": "stdout",
     "output_type": "stream",
     "text": [
      "[[  3.06060606   3.49704952]\n",
      " [  3.49704952 165.55263107]]\n"
     ]
    },
    {
     "data": {
      "image/png": "[encoded data removed]",
      "text/plain": [
       "<Figure size 432x288 with 2 Axes>"
      ]
     },
     "metadata": {
      "needs_background": "light"
     },
     "output_type": "display_data"
    }
   ],
   "source": [
    "#Matriz de covarianza\n",
    "\n",
    "data = np.array([pdf.x,df_suma])\n",
    "covMatrix = np.cov(data,bias=True)\n",
    "print (covMatrix)\n",
    "#heatmap\n",
    "\n",
    "sn.heatmap(covMatrix, annot=True, fmt='g')\n",
    "plt.show()"
   ]
  },
  {
   "cell_type": "markdown",
   "metadata": {},
   "source": [
    "## Graficar mejor ajuste de la cuadratica\n",
    "\n",
    "Se puede graficar por polinomios de distintos grados"
   ]
  },
  {
   "cell_type": "code",
   "execution_count": 16,
   "metadata": {},
   "outputs": [
    {
     "data": {
      "image/png": "[encoded data removed]",
      "text/plain": [
       "<Figure size 432x288 with 1 Axes>"
      ]
     },
     "metadata": {},
     "output_type": "display_data"
    }
   ],
   "source": [
    "#fit polynomial models up to degree 5\n",
    "model1 = np.poly1d(np.polyfit(pdf.x, df_suma, 1))\n",
    "model2 = np.poly1d(np.polyfit(pdf.x, df_suma, 2))\n",
    "model3 = np.poly1d(np.polyfit(pdf.x, df_suma, 3))\n",
    "model4 = np.poly1d(np.polyfit(pdf.x, df_suma, 4))\n",
    "model5 = np.poly1d(np.polyfit(pdf.x, df_suma, 5))\n",
    "\n",
    "#create scatterplot\n",
    "polyline = np.linspace(-2.5, 4.5)\n",
    "plt.scatter(pdf.x, df_suma)\n",
    "\n",
    "#add fitted polynomial lines to scatterplot \n",
    "plt.plot(polyline, model1(polyline), color='green')\n",
    "plt.plot(polyline, model2(polyline), color='red')\n",
    "plt.plot(polyline, model3(polyline), color='purple')\n",
    "plt.plot(polyline, model4(polyline), color='blue')\n",
    "plt.plot(polyline, model5(polyline), color='orange')\n",
    "plt.show()"
   ]
  },
  {
   "cell_type": "markdown",
   "metadata": {},
   "source": [
    "Pero e mejor ajuste es con la función **fit_curve**, con la cual habíamos encontrado los coeficientes"
   ]
  },
  {
   "cell_type": "code",
   "execution_count": 39,
   "metadata": {},
   "outputs": [
    {
     "data": {
      "text/plain": [
       "(-15.0, 40.0)"
      ]
     },
     "execution_count": 39,
     "metadata": {},
     "output_type": "execute_result"
    },
    {
     "data": {
      "image/png": "[encoded data removed]",
      "text/plain": [
       "<Figure size 360x288 with 1 Axes>"
      ]
     },
     "metadata": {},
     "output_type": "display_data"
    }
   ],
   "source": [
    "fig_ajuste = plt.figure(figsize=(5,4))\n",
    "axes_ajuste = fig_ajuste.add_axes([0,0,1,1])\n",
    "\n",
    "axes_ajuste.plot(pdf.x, f(pdf.x, *pars), linestyle='--', linewidth=2, color='black')\n",
    "axes_ajuste.scatter(pdf.x, df_suma, color='r')\n",
    "\n",
    "#Axis limits\n",
    "axes_ajuste.set_ylim([-15,40])"
   ]
  },
  {
   "cell_type": "markdown",
   "metadata": {},
   "source": [
    "O simplemente sustituímos  los coeficientes encontrados"
   ]
  },
  {
   "cell_type": "code",
   "execution_count": 35,
   "metadata": {},
   "outputs": [
    {
     "data": {
      "text/plain": [
       "(-15.0, 40.0)"
      ]
     },
     "execution_count": 35,
     "metadata": {},
     "output_type": "execute_result"
    },
    {
     "data": {
      "image/png": "[encoded data removed]",
      "text/plain": [
       "<Figure size 360x288 with 1 Axes>"
      ]
     },
     "metadata": {},
     "output_type": "display_data"
    }
   ],
   "source": [
    "fig_ajuste = plt.figure(figsize=(5,4))\n",
    "axes_ajuste = fig_ajuste.add_axes([0,0,1,1])\n",
    "\n",
    "t= np.arange(-5,5,0.1)\n",
    "\n",
    "axes_ajuste.plot(t,f(t,4.55037324, -7.95814614, -4.55137115), color='orange')\n",
    "axes_ajuste.scatter(pdf.x, df_suma, color='r')\n",
    "\n",
    "#Axis limits\n",
    "axes_ajuste.set_ylim([-15,40])"
   ]
  },
  {
   "cell_type": "markdown",
   "metadata": {
    "collapsed": true
   },
   "source": [
    "## El mejor ajuste convertir a una funcion"
   ]
  },
  {
   "cell_type": "markdown",
   "metadata": {},
   "source": [
    "## Encontrar raices"
   ]
  },
  {
   "cell_type": "code",
   "execution_count": null,
   "metadata": {},
   "outputs": [],
   "source": [
    "\n"
   ]
  },
  {
   "cell_type": "code",
   "execution_count": null,
   "metadata": {},
   "outputs": [],
   "source": []
  },
  {
   "cell_type": "markdown",
   "metadata": {},
   "source": [
    "## Encontrar minimo"
   ]
  },
  {
   "cell_type": "code",
   "execution_count": null,
   "metadata": {},
   "outputs": [],
   "source": []
  },
  {
   "cell_type": "markdown",
   "metadata": {},
   "source": [
    "## Calcular derivadas en raices"
   ]
  },
  {
   "cell_type": "code",
   "execution_count": null,
   "metadata": {},
   "outputs": [],
   "source": []
  },
  {
   "cell_type": "markdown",
   "metadata": {},
   "source": [
    "## Graficar tangentes a raices y funcion "
   ]
  },
  {
   "cell_type": "code",
   "execution_count": null,
   "metadata": {},
   "outputs": [],
   "source": []
  },
  {
   "cell_type": "markdown",
   "metadata": {},
   "source": [
    "## Graficar area entre parabola y tangentes"
   ]
  },
  {
   "cell_type": "code",
   "execution_count": null,
   "metadata": {},
   "outputs": [],
   "source": []
  },
  {
   "cell_type": "markdown",
   "metadata": {},
   "source": [
    "## Encotrar area total "
   ]
  },
  {
   "cell_type": "code",
   "execution_count": null,
   "metadata": {},
   "outputs": [],
   "source": [
    "\n",
    "area_total "
   ]
  },
  {
   "cell_type": "code",
   "execution_count": null,
   "metadata": {},
   "outputs": [],
   "source": []
  }
 ],
 "metadata": {
  "kernelspec": {
   "display_name": "Python 3",
   "language": "python",
   "name": "python3"
  },
  "language_info": {
   "codemirror_mode": {
    "name": "ipython",
    "version": 3
   },
   "file_extension": ".py",
   "mimetype": "text/x-python",
   "name": "python",
   "nbconvert_exporter": "python",
   "pygments_lexer": "ipython3",
   "version": "3.8.5"
  }
 },
 "nbformat": 4,
 "nbformat_minor": 1
}
