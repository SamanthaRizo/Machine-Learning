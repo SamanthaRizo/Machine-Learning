{
 "cells": [
  {
   "cell_type": "markdown",
   "metadata": {},
   "source": [
    "*IMPORTANT: In this compendium, we will assume that you have knowledge of basic python programming and physics at the Bachelor level.*\n",
    "# Numpy\n",
    "NumPy (Numerical Python), is the foundational package for scientific computting in Python. It has a lot of uses beyond the fast array-processing capabilities that NumPy adds to Python. Such as:\n",
    "<img src=https://miro.medium.com/max/724/1*6uZdO0mDuK5lDXZGgoVtLQ.jpeg>\n",
    "\n",
    "## Index\n",
    "* [Installation](#installation)\n",
    "* [Import](#import)\n",
    "* [Basic](#basic)\n",
    "    * [Create arrays](#create)\n",
    "    * [Slicing & indexes](#sli)\n",
    "    * [Reshaping Array](#resha)\n",
    "* [Mathematical operations](#mat)\n",
    "    * [Arithmetic operations](#arit)\n",
    "    * [Trigonometric functions](#tri)\n",
    "    * [Hyperbolic functions](#hyp)\n",
    "    * [Statistical operations](#stat)\n",
    "    * [Other functions](#other)\n",
    "* [Bitwise operators](#bit)\n",
    "* [Copying & viewing arrays](#copy)\n",
    "* [Stacking](#stack)\n",
    "* [Matrix operations](#matrix)\n",
    "* [Linear algebra](#linear)\n",
    "* [Getting data in/out](#get)\n"
   ]
  },
  {
   "cell_type": "markdown",
   "metadata": {},
   "source": [
    "## Installing <a class=\"anchor\" id=\"installation\"></a>\n",
    "If you already have Python, you can install it with: **conda install numpy** or **pip install numpy**."
   ]
  },
  {
   "cell_type": "markdown",
   "metadata": {},
   "source": [
    "## Import <a class=\"import\" id=\"import\"></a>\n",
    "You have to import Numpy in your Python code, to access NumPy and its functions."
   ]
  },
  {
   "cell_type": "code",
   "execution_count": 109,
   "metadata": {},
   "outputs": [],
   "source": [
    "import numpy as np"
   ]
  },
  {
   "cell_type": "code",
   "execution_count": 110,
   "metadata": {},
   "outputs": [],
   "source": [
    "import matplotlib.pylab as plt\n",
    "from numpy import random"
   ]
  },
  {
   "cell_type": "markdown",
   "metadata": {},
   "source": [
    "# 1 - Basic <a class=\"basic\" id=\"bssic\"></a>\n",
    "## 1.01 Create arrays <a class=\"create\" id=\"create\"></a>\n",
    "You can build 3 types of arrays: 1D arrays, 2D arrays, ndarrays.\n",
    "### The basic for 1D arrays\n",
    "It need at least two inputs, start and stop.\n",
    "\n",
    "***np.arange*** will create arrays with regularly incrementing values."
   ]
  },
  {
   "cell_type": "code",
   "execution_count": 9,
   "metadata": {},
   "outputs": [
    {
     "data": {
      "text/plain": [
       "array([0, 1, 2, 3, 4])"
      ]
     },
     "execution_count": 9,
     "metadata": {},
     "output_type": "execute_result"
    }
   ],
   "source": [
    "np.arange(5)"
   ]
  },
  {
   "cell_type": "code",
   "execution_count": 8,
   "metadata": {},
   "outputs": [
    {
     "data": {
      "text/plain": [
       "array([10. , 10.5, 11. , 11.5, 12. , 12.5, 13. , 13.5, 14. , 14.5])"
      ]
     },
     "execution_count": 8,
     "metadata": {},
     "output_type": "execute_result"
    }
   ],
   "source": [
    "np.arange(10,15,0.5)#np.arange(start,stop,step)"
   ]
  },
  {
   "cell_type": "markdown",
   "metadata": {},
   "source": [
    "***np.linspace*** will create arrays with a specified number of elements, and spaced equally between the specified beginning and end values."
   ]
  },
  {
   "cell_type": "code",
   "execution_count": 12,
   "metadata": {},
   "outputs": [
    {
     "data": {
      "text/plain": [
       "array([1.  , 1.25, 1.5 , 1.75, 2.  ])"
      ]
     },
     "execution_count": 12,
     "metadata": {},
     "output_type": "execute_result"
    }
   ],
   "source": [
    "np.linspace(1,2,5) #np.linspace(start,end,how many)"
   ]
  },
  {
   "cell_type": "markdown",
   "metadata": {},
   "source": [
    "#### The basic for nD arrays\n",
    "***np.eye(n, m)*** defines a identity matrix. The elements where i=j (row index and column index are equal) are 1 and the rest are 0, as such:"
   ]
  },
  {
   "cell_type": "code",
   "execution_count": 16,
   "metadata": {},
   "outputs": [
    {
     "data": {
      "text/plain": [
       "array([[1., 0., 0., 0., 0.],\n",
       "       [0., 1., 0., 0., 0.],\n",
       "       [0., 0., 1., 0., 0.],\n",
       "       [0., 0., 0., 1., 0.]])"
      ]
     },
     "execution_count": 16,
     "metadata": {},
     "output_type": "execute_result"
    }
   ],
   "source": [
    "np.eye(4,5)"
   ]
  },
  {
   "cell_type": "markdown",
   "metadata": {},
   "source": [
    "***np.diag*** define an array with given values along the diagonal or if given a 2D array returns a 1D array that is only the diagonal elements."
   ]
  },
  {
   "cell_type": "code",
   "execution_count": 17,
   "metadata": {},
   "outputs": [
    {
     "data": {
      "text/plain": [
       "array([[2, 0, 0],\n",
       "       [0, 4, 0],\n",
       "       [0, 0, 6]])"
      ]
     },
     "execution_count": 17,
     "metadata": {},
     "output_type": "execute_result"
    }
   ],
   "source": [
    "np.diag([2,4,6])"
   ]
  },
  {
   "cell_type": "markdown",
   "metadata": {},
   "source": [
    "***np.zeros*** will return a new array of given shape and type, filled with zeros"
   ]
  },
  {
   "cell_type": "code",
   "execution_count": 17,
   "metadata": {},
   "outputs": [
    {
     "data": {
      "text/plain": [
       "array([[0., 0., 0.],\n",
       "       [0., 0., 0.],\n",
       "       [0., 0., 0.]])"
      ]
     },
     "execution_count": 17,
     "metadata": {},
     "output_type": "execute_result"
    }
   ],
   "source": [
    "np.zeros((3,3)) #numpy.zeros(shape, dtype=float, order='C', *, like=None)"
   ]
  },
  {
   "cell_type": "markdown",
   "metadata": {},
   "source": [
    "***np.ones*** will create an array filled with 1 values."
   ]
  },
  {
   "cell_type": "code",
   "execution_count": 10,
   "metadata": {},
   "outputs": [
    {
     "data": {
      "text/plain": [
       "array([[1., 1., 1.],\n",
       "       [1., 1., 1.]])"
      ]
     },
     "execution_count": 10,
     "metadata": {},
     "output_type": "execute_result"
    }
   ],
   "source": [
    "np.ones((2,3))"
   ]
  },
  {
   "cell_type": "markdown",
   "metadata": {},
   "source": [
    "Yo can also create a multidimensional list and then make a numpy array with this one."
   ]
  },
  {
   "cell_type": "code",
   "execution_count": 5,
   "metadata": {},
   "outputs": [],
   "source": [
    "m_list=[[1,2,3],[4,5,6],[7,8,9]]"
   ]
  },
  {
   "cell_type": "code",
   "execution_count": 6,
   "metadata": {},
   "outputs": [
    {
     "data": {
      "text/plain": [
       "[[1, 2, 3], [4, 5, 6], [7, 8, 9]]"
      ]
     },
     "execution_count": 6,
     "metadata": {},
     "output_type": "execute_result"
    }
   ],
   "source": [
    "m_list"
   ]
  },
  {
   "cell_type": "code",
   "execution_count": 7,
   "metadata": {},
   "outputs": [
    {
     "data": {
      "text/plain": [
       "array([[1, 2, 3],\n",
       "       [4, 5, 6],\n",
       "       [7, 8, 9]])"
      ]
     },
     "execution_count": 7,
     "metadata": {},
     "output_type": "execute_result"
    }
   ],
   "source": [
    "np.array(m_list)"
   ]
  },
  {
   "cell_type": "markdown",
   "metadata": {},
   "source": [
    "To generate random matrices,"
   ]
  },
  {
   "cell_type": "code",
   "execution_count": 22,
   "metadata": {},
   "outputs": [
    {
     "data": {
      "text/plain": [
       "array([19,  2, 13, 13,  2])"
      ]
     },
     "execution_count": 22,
     "metadata": {},
     "output_type": "execute_result"
    }
   ],
   "source": [
    "np.random.randint(2,20,5) #np.random.randint(minimum,maximun,how many) "
   ]
  },
  {
   "cell_type": "code",
   "execution_count": 23,
   "metadata": {},
   "outputs": [
    {
     "data": {
      "text/plain": [
       "array([[ 9, 12,  3, 19],\n",
       "       [ 9,  8, 18,  2]])"
      ]
     },
     "execution_count": 23,
     "metadata": {},
     "output_type": "execute_result"
    }
   ],
   "source": [
    "np.random.randint(2,20,size=(2,4)) #np.random.randint(minimum,maximun,size=()) "
   ]
  },
  {
   "cell_type": "markdown",
   "metadata": {},
   "source": [
    "### 1.012 Slicing & indexes <a class=\"sli\" id=\"sli\"></a>\n",
    "To get the size of an array, you have to add .size after the arrays name. For example,"
   ]
  },
  {
   "cell_type": "code",
   "execution_count": 15,
   "metadata": {},
   "outputs": [
    {
     "name": "stdout",
     "output_type": "stream",
     "text": [
      "6 9\n"
     ]
    }
   ],
   "source": [
    "array1=np.ones((2,3))\n",
    "array2=np.array(m_list)\n",
    "\n",
    "print(array1.size, array2.size)"
   ]
  },
  {
   "cell_type": "markdown",
   "metadata": {},
   "source": [
    "Yo can also **get the data type** for the array."
   ]
  },
  {
   "cell_type": "code",
   "execution_count": 16,
   "metadata": {},
   "outputs": [
    {
     "data": {
      "text/plain": [
       "dtype('float64')"
      ]
     },
     "execution_count": 16,
     "metadata": {},
     "output_type": "execute_result"
    }
   ],
   "source": [
    "array1.dtype"
   ]
  },
  {
   "cell_type": "markdown",
   "metadata": {},
   "source": [
    "To **change values of specfific indexes**:"
   ]
  },
  {
   "cell_type": "code",
   "execution_count": 26,
   "metadata": {},
   "outputs": [],
   "source": [
    "array2[0,0]=2 # Change the upper left hand corner value to 2"
   ]
  },
  {
   "cell_type": "code",
   "execution_count": 27,
   "metadata": {},
   "outputs": [],
   "source": [
    "array2.itemset((0,1),1)"
   ]
  },
  {
   "cell_type": "code",
   "execution_count": 28,
   "metadata": {},
   "outputs": [
    {
     "data": {
      "text/plain": [
       "array([[2, 1, 3],\n",
       "       [4, 5, 6],\n",
       "       [7, 8, 9]])"
      ]
     },
     "execution_count": 28,
     "metadata": {},
     "output_type": "execute_result"
    }
   ],
   "source": [
    "array2"
   ]
  },
  {
   "cell_type": "markdown",
   "metadata": {},
   "source": [
    "To get the **shape** of arrays:"
   ]
  },
  {
   "cell_type": "code",
   "execution_count": 29,
   "metadata": {},
   "outputs": [
    {
     "data": {
      "text/plain": [
       "(3, 3)"
      ]
     },
     "execution_count": 29,
     "metadata": {},
     "output_type": "execute_result"
    }
   ],
   "source": [
    "array2.shape"
   ]
  },
  {
   "cell_type": "markdown",
   "metadata": {},
   "source": [
    "You can also get specifics values:"
   ]
  },
  {
   "cell_type": "code",
   "execution_count": 35,
   "metadata": {},
   "outputs": [
    {
     "data": {
      "text/plain": [
       "7"
      ]
     },
     "execution_count": 35,
     "metadata": {},
     "output_type": "execute_result"
    }
   ],
   "source": [
    "array2[2,0] #array[row, column]"
   ]
  },
  {
   "cell_type": "markdown",
   "metadata": {},
   "source": [
    "or this way"
   ]
  },
  {
   "cell_type": "code",
   "execution_count": 36,
   "metadata": {},
   "outputs": [
    {
     "data": {
      "text/plain": [
       "7"
      ]
     },
     "execution_count": 36,
     "metadata": {},
     "output_type": "execute_result"
    }
   ],
   "source": [
    "array2.item(2,0)"
   ]
  },
  {
   "cell_type": "code",
   "execution_count": null,
   "metadata": {},
   "outputs": [],
   "source": [
    "Yo can get the second value from each row,"
   ]
  },
  {
   "cell_type": "code",
   "execution_count": 37,
   "metadata": {},
   "outputs": [
    {
     "data": {
      "text/plain": [
       "array([1, 5, 8])"
      ]
     },
     "execution_count": 37,
     "metadata": {},
     "output_type": "execute_result"
    }
   ],
   "source": [
    "array2[:,1]"
   ]
  },
  {
   "cell_type": "markdown",
   "metadata": {},
   "source": [
    "Or the first value from each row,"
   ]
  },
  {
   "cell_type": "code",
   "execution_count": 39,
   "metadata": {},
   "outputs": [
    {
     "data": {
      "text/plain": [
       "array([2, 4, 7])"
      ]
     },
     "execution_count": 39,
     "metadata": {},
     "output_type": "execute_result"
    }
   ],
   "source": [
    "array2[:,0]"
   ]
  },
  {
   "cell_type": "markdown",
   "metadata": {},
   "source": [
    "You can also flip a raise,"
   ]
  },
  {
   "cell_type": "code",
   "execution_count": 40,
   "metadata": {},
   "outputs": [
    {
     "data": {
      "text/plain": [
       "array([[7, 8, 9],\n",
       "       [4, 5, 6],\n",
       "       [2, 1, 3]])"
      ]
     },
     "execution_count": 40,
     "metadata": {},
     "output_type": "execute_result"
    }
   ],
   "source": [
    "array2[::-1]"
   ]
  },
  {
   "cell_type": "markdown",
   "metadata": {},
   "source": [
    "To get **even values**:"
   ]
  },
  {
   "cell_type": "code",
   "execution_count": 42,
   "metadata": {},
   "outputs": [],
   "source": [
    "evens = array2[array2%2==0]"
   ]
  },
  {
   "cell_type": "code",
   "execution_count": 43,
   "metadata": {},
   "outputs": [
    {
     "data": {
      "text/plain": [
       "array([2, 4, 6, 8])"
      ]
     },
     "execution_count": 43,
     "metadata": {},
     "output_type": "execute_result"
    }
   ],
   "source": [
    "evens"
   ]
  },
  {
   "cell_type": "markdown",
   "metadata": {},
   "source": [
    "If you want to get values that are greater than five,"
   ]
  },
  {
   "cell_type": "code",
   "execution_count": 44,
   "metadata": {},
   "outputs": [
    {
     "data": {
      "text/plain": [
       "array([6, 7, 8, 9])"
      ]
     },
     "execution_count": 44,
     "metadata": {},
     "output_type": "execute_result"
    }
   ],
   "source": [
    "array2[array2 > 5]"
   ]
  },
  {
   "cell_type": "markdown",
   "metadata": {},
   "source": [
    "If you want to get values that are greater than five and smaller than 10"
   ]
  },
  {
   "cell_type": "code",
   "execution_count": 45,
   "metadata": {},
   "outputs": [
    {
     "data": {
      "text/plain": [
       "array([6, 7, 8, 9])"
      ]
     },
     "execution_count": 45,
     "metadata": {},
     "output_type": "execute_result"
    }
   ],
   "source": [
    "array2[(array2 > 5) & (array2 < 10)]"
   ]
  },
  {
   "cell_type": "markdown",
   "metadata": {},
   "source": [
    "You can also get the unique values of an array with **np.unique()**"
   ]
  },
  {
   "cell_type": "code",
   "execution_count": 47,
   "metadata": {},
   "outputs": [
    {
     "data": {
      "text/plain": [
       "array([1, 2, 3, 4, 5, 6, 7, 8, 9])"
      ]
     },
     "execution_count": 47,
     "metadata": {},
     "output_type": "execute_result"
    }
   ],
   "source": [
    "np.unique(array2)"
   ]
  },
  {
   "cell_type": "markdown",
   "metadata": {},
   "source": [
    "### 1.013 Reshaping Arrays <a class=\"resha\" id=\"resha\"></a>\n",
    "If you have a multi-dimensional array an you want to reshape it into a nine-item single axis array:"
   ]
  },
  {
   "cell_type": "code",
   "execution_count": 48,
   "metadata": {},
   "outputs": [
    {
     "data": {
      "text/plain": [
       "array([[2, 1, 3, 4, 5, 6, 7, 8, 9]])"
      ]
     },
     "execution_count": 48,
     "metadata": {},
     "output_type": "execute_result"
    }
   ],
   "source": [
    "array2.reshape((1,9))"
   ]
  },
  {
   "cell_type": "code",
   "execution_count": null,
   "metadata": {},
   "outputs": [],
   "source": [
    "You can also resize it"
   ]
  },
  {
   "cell_type": "code",
   "execution_count": 50,
   "metadata": {},
   "outputs": [
    {
     "data": {
      "text/plain": [
       "array([[2, 1, 3, 4, 5],\n",
       "       [6, 7, 8, 9, 2]])"
      ]
     },
     "execution_count": 50,
     "metadata": {},
     "output_type": "execute_result"
    }
   ],
   "source": [
    "np.resize(array2, (2,5))"
   ]
  },
  {
   "cell_type": "markdown",
   "metadata": {},
   "source": [
    "Note that because elements were missing to complete the matrix in which it was resized, the elements are repeated to fill the empty spaces.\n",
    "\n",
    "To **tranpose the axis**:"
   ]
  },
  {
   "cell_type": "code",
   "execution_count": 52,
   "metadata": {},
   "outputs": [
    {
     "data": {
      "text/plain": [
       "array([[2, 4, 7],\n",
       "       [1, 5, 8],\n",
       "       [3, 6, 9]])"
      ]
     },
     "execution_count": 52,
     "metadata": {},
     "output_type": "execute_result"
    }
   ],
   "source": [
    "array2.transpose()"
   ]
  },
  {
   "cell_type": "markdown",
   "metadata": {},
   "source": [
    "To **swap axis**:"
   ]
  },
  {
   "cell_type": "code",
   "execution_count": 58,
   "metadata": {},
   "outputs": [
    {
     "data": {
      "text/plain": [
       "array([[2, 4, 7],\n",
       "       [1, 5, 8],\n",
       "       [3, 6, 9]])"
      ]
     },
     "execution_count": 58,
     "metadata": {},
     "output_type": "execute_result"
    }
   ],
   "source": [
    "array2.swapaxes(0,1)"
   ]
  },
  {
   "cell_type": "markdown",
   "metadata": {},
   "source": [
    "To **flatten the array**:"
   ]
  },
  {
   "cell_type": "code",
   "execution_count": 59,
   "metadata": {},
   "outputs": [
    {
     "data": {
      "text/plain": [
       "array([2, 1, 3, 4, 5, 6, 7, 8, 9])"
      ]
     },
     "execution_count": 59,
     "metadata": {},
     "output_type": "execute_result"
    }
   ],
   "source": [
    "array2.flatten()"
   ]
  },
  {
   "cell_type": "markdown",
   "metadata": {},
   "source": [
    "To flatten **in column order**:"
   ]
  },
  {
   "cell_type": "code",
   "execution_count": 61,
   "metadata": {},
   "outputs": [
    {
     "data": {
      "text/plain": [
       "array([2, 4, 7, 1, 5, 8, 3, 6, 9])"
      ]
     },
     "execution_count": 61,
     "metadata": {},
     "output_type": "execute_result"
    }
   ],
   "source": [
    "array2.flatten('F')"
   ]
  },
  {
   "cell_type": "markdown",
   "metadata": {},
   "source": [
    "To **sort the rows**:"
   ]
  },
  {
   "cell_type": "code",
   "execution_count": 63,
   "metadata": {},
   "outputs": [],
   "source": [
    "array2.sort(axis=1)"
   ]
  },
  {
   "cell_type": "code",
   "execution_count": 64,
   "metadata": {},
   "outputs": [
    {
     "data": {
      "text/plain": [
       "array([[1, 2, 3],\n",
       "       [4, 5, 6],\n",
       "       [7, 8, 9]])"
      ]
     },
     "execution_count": 64,
     "metadata": {},
     "output_type": "execute_result"
    }
   ],
   "source": [
    "array2"
   ]
  },
  {
   "cell_type": "code",
   "execution_count": null,
   "metadata": {},
   "outputs": [],
   "source": []
  },
  {
   "cell_type": "code",
   "execution_count": null,
   "metadata": {},
   "outputs": [],
   "source": []
  },
  {
   "cell_type": "markdown",
   "metadata": {},
   "source": [
    "*For more NumPy commands to create arrays*\n",
    "\n",
    "https://numpy.org/doc/stable/reference/routines.array-creation.html#routines-array-creation\n",
    "## 1.02 Mathematical operations <a class=\"mat\" id=\"mat\"></a>\n",
    "### Arithmetic operations <a class=\"arit\" id=\"arit\"></a>\n",
    "***np.add()*** \n",
    "\n",
    "For example: $$3+5=$$"
   ]
  },
  {
   "cell_type": "code",
   "execution_count": 3,
   "metadata": {},
   "outputs": [
    {
     "data": {
      "text/plain": [
       "8"
      ]
     },
     "execution_count": 3,
     "metadata": {},
     "output_type": "execute_result"
    }
   ],
   "source": [
    "np.add(3,5)"
   ]
  },
  {
   "cell_type": "markdown",
   "metadata": {},
   "source": [
    "***np.subtract()*** \n",
    "\n",
    "For example: $$5-3=$$"
   ]
  },
  {
   "cell_type": "code",
   "execution_count": 3,
   "metadata": {},
   "outputs": [
    {
     "data": {
      "text/plain": [
       "2"
      ]
     },
     "execution_count": 3,
     "metadata": {},
     "output_type": "execute_result"
    }
   ],
   "source": [
    "np.subtract(5,3)"
   ]
  },
  {
   "cell_type": "markdown",
   "metadata": {},
   "source": [
    "***np.multiply()***\n",
    "\n",
    "For example: $$5*3=$$"
   ]
  },
  {
   "cell_type": "code",
   "execution_count": 4,
   "metadata": {},
   "outputs": [
    {
     "data": {
      "text/plain": [
       "15"
      ]
     },
     "execution_count": 4,
     "metadata": {},
     "output_type": "execute_result"
    }
   ],
   "source": [
    "np.multiply(5,3)"
   ]
  },
  {
   "cell_type": "markdown",
   "metadata": {},
   "source": [
    "***np.divide()***\n",
    "\n",
    "For example: $$\\frac{6}{3}=$$"
   ]
  },
  {
   "cell_type": "code",
   "execution_count": 6,
   "metadata": {},
   "outputs": [
    {
     "data": {
      "text/plain": [
       "2.0"
      ]
     },
     "execution_count": 6,
     "metadata": {},
     "output_type": "execute_result"
    }
   ],
   "source": [
    "np.divide(6,3)"
   ]
  },
  {
   "cell_type": "markdown",
   "metadata": {},
   "source": [
    "***np.prod(a)***: Return the product of array elements over a given axis."
   ]
  },
  {
   "cell_type": "code",
   "execution_count": 21,
   "metadata": {},
   "outputs": [
    {
     "data": {
      "text/plain": [
       "6"
      ]
     },
     "execution_count": 21,
     "metadata": {},
     "output_type": "execute_result"
    }
   ],
   "source": [
    "np.prod([2,3])"
   ]
  },
  {
   "cell_type": "markdown",
   "metadata": {},
   "source": [
    "***np.reciprocal()*** returns the reciprocal of argument, element-wise."
   ]
  },
  {
   "cell_type": "code",
   "execution_count": 87,
   "metadata": {},
   "outputs": [],
   "source": [
    "?"
   ]
  },
  {
   "cell_type": "markdown",
   "metadata": {},
   "source": [
    "***np.power(a,b)*** treats elements in the first input array as base and returns it raised to the power of the corresponding element in the second input array.\n",
    "$$a^b$$\n"
   ]
  },
  {
   "cell_type": "code",
   "execution_count": 78,
   "metadata": {},
   "outputs": [
    {
     "data": {
      "text/plain": [
       "9"
      ]
     },
     "execution_count": 78,
     "metadata": {},
     "output_type": "execute_result"
    }
   ],
   "source": [
    "np.power(3,2)"
   ]
  },
  {
   "cell_type": "markdown",
   "metadata": {},
   "source": [
    "***np.mod()*** returns the remainder of division of the corresponding elements in the input array. "
   ]
  },
  {
   "cell_type": "code",
   "execution_count": 8,
   "metadata": {},
   "outputs": [
    {
     "data": {
      "text/plain": [
       "2"
      ]
     },
     "execution_count": 8,
     "metadata": {},
     "output_type": "execute_result"
    }
   ],
   "source": [
    "np.mod(5,3)"
   ]
  },
  {
   "cell_type": "markdown",
   "metadata": {},
   "source": [
    "#### Let's make an exercise, if we list all the natural numbers below 10 that are multiples of 3 or 5, we get 3, 5, 6 and 9. The sum of these multiples is 23.\n",
    "#### Find the sum of all the multiples of 3 or 5 below 1000."
   ]
  },
  {
   "cell_type": "code",
   "execution_count": 88,
   "metadata": {},
   "outputs": [],
   "source": [
    "def Ex1(x):\n",
    "    a=0\n",
    "    for n in range(x):\n",
    "        if (np.mod(n,3)==0 or np.mod(n,5)==0):\n",
    "            a = np.add(n,a)\n",
    "    return a"
   ]
  },
  {
   "cell_type": "code",
   "execution_count": 90,
   "metadata": {},
   "outputs": [
    {
     "data": {
      "text/plain": [
       "23"
      ]
     },
     "execution_count": 90,
     "metadata": {},
     "output_type": "execute_result"
    }
   ],
   "source": [
    "Ex1(10)"
   ]
  },
  {
   "cell_type": "code",
   "execution_count": 89,
   "metadata": {},
   "outputs": [
    {
     "data": {
      "text/plain": [
       "233168"
      ]
     },
     "execution_count": 89,
     "metadata": {},
     "output_type": "execute_result"
    }
   ],
   "source": [
    "Ex1(1000) #This is the answer"
   ]
  },
  {
   "cell_type": "markdown",
   "metadata": {},
   "source": [
    "***np.real()*** returns the real part of the complex data type argument."
   ]
  },
  {
   "cell_type": "code",
   "execution_count": 14,
   "metadata": {},
   "outputs": [
    {
     "data": {
      "text/plain": [
       "5.0"
      ]
     },
     "execution_count": 14,
     "metadata": {},
     "output_type": "execute_result"
    }
   ],
   "source": [
    "np.real(5+3j)"
   ]
  },
  {
   "cell_type": "markdown",
   "metadata": {},
   "source": [
    "***np.imag()*** returns the imaginary part of the complex data type argument."
   ]
  },
  {
   "cell_type": "code",
   "execution_count": 15,
   "metadata": {},
   "outputs": [
    {
     "data": {
      "text/plain": [
       "3.0"
      ]
     },
     "execution_count": 15,
     "metadata": {},
     "output_type": "execute_result"
    }
   ],
   "source": [
    "np.imag(5+3j)"
   ]
  },
  {
   "cell_type": "markdown",
   "metadata": {},
   "source": [
    "***np.conj()*** returns the complex conjugate, which is obtained by changing the sign of the imaginary part."
   ]
  },
  {
   "cell_type": "code",
   "execution_count": 16,
   "metadata": {},
   "outputs": [
    {
     "data": {
      "text/plain": [
       "(5-4j)"
      ]
     },
     "execution_count": 16,
     "metadata": {},
     "output_type": "execute_result"
    }
   ],
   "source": [
    "np.conj(5+4j)"
   ]
  },
  {
   "cell_type": "markdown",
   "metadata": {},
   "source": [
    "***np.angle()*** returns the angle of the complex argument. The function has degree parameter. If true, the angle in the degree is returned, otherwise the angle is in radians."
   ]
  },
  {
   "cell_type": "code",
   "execution_count": 18,
   "metadata": {},
   "outputs": [
    {
     "data": {
      "text/plain": [
       "0.6747409422235526"
      ]
     },
     "execution_count": 18,
     "metadata": {},
     "output_type": "execute_result"
    }
   ],
   "source": [
    "np.angle(5+4j)"
   ]
  },
  {
   "cell_type": "markdown",
   "metadata": {},
   "source": [
    "### Trigonometric functions <a class=\"tri\" id=\"tri\"></a>\n",
    "\n",
    "- ***np.sin(x)***: Trigonometric sine, element-wise.\n",
    "\n",
    "- ***np.cos(x)***: Cosine element-wise.\n",
    "\n",
    "- ***np.tan(x)***: Compute tangent element-wise.\n",
    "\n",
    "- ***np.arcsin(x)***: Inverse sine, element-wise.\n",
    "\n",
    "- ***np.arccos(x)***: Trigonometric inverse cosine, element-wise.\n",
    "\n",
    "- ***np.arctan(x)***: Trigonometric inverse tangent, element-wise.\n",
    "\n",
    "- ***np.hypot(x1, x2)***: Given the “legs” of a right triangle, return its hypotenuse.\n",
    "\n",
    "- ***np.arctan2(x1, x2)***: Element-wise arc tangent of x1/x2 choosing the quadrant correctly.\n",
    "\n",
    "- ***np.degrees(x)***: Convert angles from radians to degrees.\n",
    "\n",
    "- ***np.radians(x)***: Convert angles from degrees to radians.\n",
    "\n",
    "Now we will create a function that given an in x, it give an out $$sin ^ 2 (x) + cos ^ 2 (x)$$"
   ]
  },
  {
   "cell_type": "code",
   "execution_count": 22,
   "metadata": {},
   "outputs": [],
   "source": [
    "def sin2cos2(x):\n",
    "    return (np.sin(x)**2)+(np.cos(x)**2)"
   ]
  },
  {
   "cell_type": "markdown",
   "metadata": {},
   "source": [
    "We know that $$sin ^ 2 (x) + cos ^ 2 (x) = 1 $$ $ \\forall x $ So let's check it"
   ]
  },
  {
   "cell_type": "code",
   "execution_count": 23,
   "metadata": {},
   "outputs": [
    {
     "name": "stdout",
     "output_type": "stream",
     "text": [
      "1.0\n",
      "1.0\n",
      "1.0\n",
      "0.9999999999999999\n",
      "1.0\n",
      "0.9999999999999999\n"
     ]
    }
   ],
   "source": [
    "for i in range(6):\n",
    "    print(sin2cos2(i))"
   ]
  },
  {
   "cell_type": "markdown",
   "metadata": {},
   "source": [
    "### 1.03 Statistical operations <a class=\"stat\" id=\"stat\"></a>\n",
    "\n",
    "- ***np.amin()***: This function determines the minimum value of the element along a specified axis.\n",
    "- ***np.amax()***: This function determines the maximum value of the element along a specified axis.\n",
    "- ***np.mean()***: It determines the mean value of the data set.\n",
    "- ***np.median()***: It determines the median value of the data set.\n",
    "- ***np.std()***: It determines the standard deviation\n",
    "- ***np.var()***: It determines the variance.\n",
    "- ***np.cov()***: Estimate a covariance matrix, given data and weights.\n",
    "- ***np.ptp()***: It returns a range of values along an axis.\n",
    "- ***np.average()***: It determines the weighted average\n",
    "- ***np.percentile()***: It determines the nth percentile of data along the specified axis.\n",
    "- ***np.histogram(a[, bins, range, normed, weights, …])***: Compute the histogram of a dataset.\n",
    "\n",
    "*For more NumPy commands for statistics functions*\n",
    "\n",
    "https://numpy.org/doc/stable/reference/routines.statistics.html\n"
   ]
  },
  {
   "cell_type": "markdown",
   "metadata": {},
   "source": [
    "### Hyperbolic functions <a class=\"hyp\" id=\"hyp\"></a>\n",
    "\n",
    "- ***np.sinh(x)***: Hyperbolic sine, element-wise.\n",
    "\n",
    "- ***np.cosh(x)***: Hyperbolic cosine, element-wise.\n",
    "\n",
    "- ***np.tanh(x)***: Compute hyperbolic tangent element-wise.\n",
    "\n",
    "- ***np.arcsinh(x)***: Inverse hyperbolic sine element-wise.\n",
    "\n",
    "- ***np.arccosh(x)***:  Inverse hyperbolic cosine, element-wise.\n",
    "\n",
    "- ***np.arctanh(x)***: Inverse hyperbolic tangent element-wise.\n",
    "\n",
    "### Other functions <a class=\"other\" id=\"other\"></a>\n",
    "- ***np.exp(x)***: Calculate the exponential of all elements in the input array.\n",
    "\n",
    "- ***np.log(x)***: Natural logarithm, element-wise.\n",
    "\n",
    "- ***np.log10(x)***: Return the base 10 logarithm of the input array, element-wise.\n",
    "\n",
    "- ***np.sqrt(x)***: Return the non-negative square-root of an array, element-wise.\n",
    "\n",
    "- ***np.square(x)***: Return the element-wise square of the input.\n",
    "\n",
    "- ***np.absolute(x)***: Calculate the absolute value element-wise.\n",
    "\n",
    "- ***np.maximum(x1, x2)***: Element-wise maximum of array elements.\n",
    "\n",
    "- ***np.minimum(x1, x2)***: Element-wise minimum of array elements.\n",
    "- ***np.diff(a)***: Calculate the n-th discrete difference along the given axis.\n",
    "- ***np.gradient(f)***: Return the gradient of an N-dimensional array.\n",
    "\n",
    "*For more NumPy commands for mathematical functions*\n",
    "\n",
    "https://numpy.org/doc/stable/reference/routines.math.html"
   ]
  },
  {
   "cell_type": "code",
   "execution_count": 85,
   "metadata": {},
   "outputs": [],
   "source": []
  },
  {
   "cell_type": "code",
   "execution_count": null,
   "metadata": {},
   "outputs": [],
   "source": []
  },
  {
   "cell_type": "code",
   "execution_count": null,
   "metadata": {},
   "outputs": [],
   "source": []
  },
  {
   "cell_type": "code",
   "execution_count": 78,
   "metadata": {},
   "outputs": [],
   "source": []
  },
  {
   "cell_type": "code",
   "execution_count": null,
   "metadata": {},
   "outputs": [],
   "source": []
  },
  {
   "cell_type": "markdown",
   "metadata": {},
   "source": [
    "## 1.04 Bitwise operators <a class=\"bit\" id=\"bit\"></a>\n",
    "In computer programming, a bitwise operation operates on a bit string, a bit array or a binary numeral (considered as a bit string) at the level of its individual bits. \n",
    "You can use bitwise operators to implement algorithms such as compression, encryption, error detection, and to perform Boolean logic on individual bits. \n",
    "<img src=https://miro.medium.com/max/540/1*lwKj-TpvToBxuq98LXII1A.png>\n",
    "### Bitwise AND\n",
    "It performs logical conjunction on the corresponding bits of its operands. For each pair of bits occupying the same position in the two numbers, it returns a one only when both bits are switched on. In all other places, at least one of the inputs has a zero bit. The resulting bit pattern is an intersection of the operator’s arguments.\n",
    "<img src=https://files.realpython.com/media/and.ef7704d02d6f.gif>\n",
    "\n",
    "### Bitwise OR\n",
    "It performs logical disjunction. For each corresponding pair of bits, it returns a one if at least one of them is switched on. \n",
    "The resulting bit pattern is a union of the operator’s arguments. Only a combination of two zeros gives a zero in the final output.\n",
    "<img src=https://files.realpython.com/media/or.7f09664e2d15.gif>\n",
    "\n",
    "### Bitwise XOR\n",
    "It evaluates two mutually exclusive conditions and tells you whether exactly one of them is met. The choice is mandatory.\n",
    "It performs exclusive disjunction on the bit pairs, in other words, every bit pair must contain opposing bit values to produce a one.\n",
    "\n",
    "<img src=https://files.realpython.com/media/xor.8c17776dd501.gif>\n",
    "\n",
    "The bits switched on in the result where both numbers have different bit values. Bits in the remaining positions cancel out because they’re the same.\n",
    "\n",
    "### Bitwise NOT\n",
    "It expects just one argument, making it the only unary bitwise operator. It performs logical negation on a given number by flipping all of its bits.\n",
    "The inverted bits are a complement to one, which turns zeros into ones and ones into zeros.\n",
    "\n",
    "<img src=https://files.realpython.com/media/not.7edac5691829.gif>\n",
    "\n",
    "### Left Shift\n",
    "It moves the bits of its first operand to the left by the number of places specified in its second operand. It also insert enough zero bits to fill the gap that arises on the right edge of the new bit pattern.\n",
    "\n",
    "<img src=https://files.realpython.com/media/lshift.e06f1509d89f.gif>\n",
    "\n",
    "### Right Shift\n",
    "It moves bits to the right by the specified number of places. The rightmost bits always get dropped.\n",
    "<img src=https://files.realpython.com/media/rshift.9d585c1c838e.gif>\n",
    "\n",
    "### Commands\n",
    "\n",
    "- ***np.bitwise_and(x1, x2)***: Compute the bit-wise AND of two arrays element-wise.\n",
    "\n",
    "- ***np.bitwise_or(x1, x2)***: Compute the bit-wise OR of two arrays element-wise.\n",
    "\n",
    "- ***np.bitwise_xor(x1, x2)***: Compute the bit-wise XOR of two arrays element-wise.\n",
    "\n",
    "- ***np.invert(x)***: Compute bit-wise inversion, or bit-wise NOT, element-wise.\n",
    "\n",
    "- ***np.left_shift(x1, x2)***: Shift the bits of an integer to the left.\n",
    "\n",
    "- ***np.right_shift(x1, x2)***: Shift the bits of an integer to the right.\n",
    "\n",
    "*For more information go to:*\n",
    "\n",
    "https://realpython.com/python-bitwise-operators/\n",
    "\n",
    "https://numpy.org/doc/stable/reference/routines.bitwise.html"
   ]
  },
  {
   "cell_type": "code",
   "execution_count": null,
   "metadata": {},
   "outputs": [],
   "source": []
  },
  {
   "cell_type": "markdown",
   "metadata": {},
   "source": [
    "## 1.05 Copying & viewing arrays <a class=\"copy\" id=\"copy\"></a>\n",
    "The copy owns the data and any changes made to the copy will not affect original array, and any changes made to the original array will not affect the copy. Making a copy takes more time.\n",
    "\n",
    "The view does not own the data and any changes made to the view will affect the original array, and any changes made to the original array will affect the view."
   ]
  },
  {
   "cell_type": "code",
   "execution_count": 4,
   "metadata": {},
   "outputs": [
    {
     "name": "stdout",
     "output_type": "stream",
     "text": [
      "[1 2 3 4 5]\n",
      "[1 2 3 4 5]\n",
      "[1 2 3 4 5]\n"
     ]
    }
   ],
   "source": [
    "arr = np.array([1, 2, 3, 4, 5])\n",
    "\n",
    "x = arr.copy()\n",
    "y = arr.view()\n",
    "\n",
    "print(arr)\n",
    "print(x)\n",
    "print(y)"
   ]
  },
  {
   "cell_type": "markdown",
   "metadata": {},
   "source": [
    "## 1.06 Stacking <a class=\"stack\" id=\"stack\"></a>\n",
    "Stacking is the concept of joining arrays in NumPy. Arrays having the same dimensions can be stacked. The stacking is done along a new axis.\n",
    "\n",
    "- ***vstack()***: it performs vertical stacking along the rows.\n",
    "- ***hstack()***: it performs horizontal stacking along with the columns.\n",
    "- ***dstack()***: it performs in-depth stacking along a new third axis.\n",
    "- ***np.stack(array,axis)***\n",
    "- ***np.column_stack()***:\n",
    "- ***np.row_stack()***:"
   ]
  },
  {
   "cell_type": "code",
   "execution_count": 70,
   "metadata": {},
   "outputs": [
    {
     "data": {
      "text/plain": [
       "array([[1, 2, 3],\n",
       "       [4, 5, 6]])"
      ]
     },
     "execution_count": 70,
     "metadata": {},
     "output_type": "execute_result"
    }
   ],
   "source": [
    "a = np.array([1, 2, 3])\n",
    "b = np.array([4,5,6])\n",
    "np.vstack((a,b)) # np.vstack((top,bottom))"
   ]
  },
  {
   "cell_type": "markdown",
   "metadata": {},
   "source": [
    "You can also stack horizontally"
   ]
  },
  {
   "cell_type": "code",
   "execution_count": 67,
   "metadata": {},
   "outputs": [
    {
     "data": {
      "text/plain": [
       "array([1, 2, 3, 4, 5, 6])"
      ]
     },
     "execution_count": 67,
     "metadata": {},
     "output_type": "execute_result"
    }
   ],
   "source": [
    "np.hstack((a,b))"
   ]
  },
  {
   "cell_type": "code",
   "execution_count": 68,
   "metadata": {},
   "outputs": [
    {
     "data": {
      "text/plain": [
       "array([[[1, 4],\n",
       "        [2, 5],\n",
       "        [3, 6]]])"
      ]
     },
     "execution_count": 68,
     "metadata": {},
     "output_type": "execute_result"
    }
   ],
   "source": [
    "np.dstack((a,b))"
   ]
  },
  {
   "cell_type": "markdown",
   "metadata": {},
   "source": [
    "If you want delete the second row on each of your different arrays,"
   ]
  },
  {
   "cell_type": "code",
   "execution_count": 72,
   "metadata": {},
   "outputs": [
    {
     "data": {
      "text/plain": [
       "array([[1, 3],\n",
       "       [4, 6]])"
      ]
     },
     "execution_count": 72,
     "metadata": {},
     "output_type": "execute_result"
    }
   ],
   "source": [
    "c = np.delete(a,1,0)\n",
    "d = np.delete(b,1,0)\n",
    "np.vstack((c,d))"
   ]
  },
  {
   "cell_type": "markdown",
   "metadata": {},
   "source": [
    "To combine the arrays i'm going to call column stack"
   ]
  },
  {
   "cell_type": "code",
   "execution_count": 73,
   "metadata": {},
   "outputs": [
    {
     "data": {
      "text/plain": [
       "array([[1, 1],\n",
       "       [3, 3]])"
      ]
     },
     "execution_count": 73,
     "metadata": {},
     "output_type": "execute_result"
    }
   ],
   "source": [
    "np.column_stack((c,c))"
   ]
  },
  {
   "cell_type": "markdown",
   "metadata": {},
   "source": [
    "To change rows instead of columns"
   ]
  },
  {
   "cell_type": "code",
   "execution_count": 74,
   "metadata": {},
   "outputs": [
    {
     "data": {
      "text/plain": [
       "array([[1, 3],\n",
       "       [1, 3]])"
      ]
     },
     "execution_count": 74,
     "metadata": {},
     "output_type": "execute_result"
    }
   ],
   "source": [
    "np.row_stack((c,c))"
   ]
  },
  {
   "cell_type": "markdown",
   "metadata": {},
   "source": [
    "We use joining functions to append and concatenate elements and arrays.\n",
    "- ***np.concatenate()***: join a sequence of arrays along an existing axis.\n",
    "- ***np.append(arr, values, axis=None)***: it creates a new array along a specified axis, it creates a copy of the original array."
   ]
  },
  {
   "cell_type": "code",
   "execution_count": 6,
   "metadata": {},
   "outputs": [
    {
     "name": "stdout",
     "output_type": "stream",
     "text": [
      "[[1 2]\n",
      " [3 4]\n",
      " [5 6]\n",
      " [7 8]]\n"
     ]
    }
   ],
   "source": [
    "arr1 = np.array([[1, 2], [3, 4]])\n",
    "arr2 = np.array([[5, 6], [7,8]])\n",
    "a = np.concatenate((arr1, arr2))\n",
    "print(a)"
   ]
  },
  {
   "cell_type": "code",
   "execution_count": 7,
   "metadata": {},
   "outputs": [
    {
     "name": "stdout",
     "output_type": "stream",
     "text": [
      "[[1 2 5 6]\n",
      " [3 4 7 8]]\n"
     ]
    }
   ],
   "source": [
    "b = np.append(arr1,arr2, axis=1)\n",
    "print(b)"
   ]
  },
  {
   "cell_type": "markdown",
   "metadata": {},
   "source": [
    "## 1.07 Matrix Operations <a class=\"matrix\" id=\"matrix\"></a>\n",
    "We can apply the commands that we already know to matrices.\n",
    "- ***np.add()***: add elements of two matrices.\n",
    "- ***np.subtract()***: subtract elements of two matrices.\n",
    "- ***np.divide()***: divide elements of two matrices.\n",
    "- ***np.multiply()***: multiply elements of two matrices.\n",
    "- ***np.sqrt()***: square root of each element of matrix.\n",
    "\n",
    "We also have specific commands for matrices\n",
    "- ***np.inner(a,b)***: Inner product of two arrays.\n",
    "- ***np.vdot(a, b)***: Return the dot product of two vectors.\n",
    "- ***matmul(x1, x2)***: Matrix product of two arrays.\n",
    "- ***tensordot(a, b)***: Compute tensor dot product along specified axes.\n",
    "- ***np.sum(x,axis)***: add to all the elements in matrix. Second argument is optional, it is used when we want to compute the column sum if axis is 0 and row sum if axis is 1.\n",
    "- ***np.transpose()***=***ndarray.T***: It performs transpose of the specified matrix.\n",
    "- ***ndarray.trace()***: is the sum of diagonal elements in a square matrix.\n",
    "- ***np.linalg.matrix_rank()***: is the dimensions of the vector space spanned (generated) by its columns or rows.\n",
    "- ***np.linalg.det()***: it calculates the determinant of a square matrix.\n",
    "- ***np.linalg.inv()***: It calculates the true inverse of a square matrix. If the determinant of a square matrix is not 0, it has a true inverse.\n",
    "- ***ndarray.flatten***: is a simple method to transform a matrix into a one-dimensional numpy array.\n",
    "### Eigenvalues and eigenvectors\n",
    "Let A be an n x n matrix. A scalar λ is called an eigenvalue of A if there is a non-zero vector x satisfying the following equation.\n",
    "$$A\\bar{v}=\\lambda \\bar{v}$$\n",
    "Where the vector $\\bar{v}$ is called the eigenvector of A corresponding to $\\lambda$.\n",
    "\n",
    "- ***eigenvalues, eigenvectors = np.linalg.eig(array)***\n",
    "\n",
    "*For more example about matrix operations:*\n",
    "\n",
    "https://towardsdatascience.com/top-10-matrix-operations-in-numpy-with-examples-d761448cb7a8"
   ]
  },
  {
   "cell_type": "code",
   "execution_count": null,
   "metadata": {},
   "outputs": [],
   "source": []
  },
  {
   "cell_type": "markdown",
   "metadata": {},
   "source": [
    "## 1.08 Linear algebra <a class=\"linear\" id=\"linear\"></a>\n",
    "- ***np.linalg.solve(a, b)***: Solve a linear matrix equation, or system of linear scalar equations.\n",
    "- ***np.linalg.tensorsolve(a, b)***: Solve the tensor equation a x = b for x.\n",
    "- ***np.linalg.lstsq(a, b)***: Return the least-squares solution to a linear matrix equation.\n",
    "- ***np.linalg.inv(a)***: Compute the (multiplicative) inverse of a matrix.\n",
    "- ***np.linalg.pinv(a)***: Compute the (Moore-Penrose) pseudo-inverse of a matrix.\n",
    "- ***np.linalg.tensorinv(a)***: Compute the ‘inverse’ of an N-dimensional array.\n",
    "\n",
    "*For more information*\n",
    "\n",
    "https://numpy.org/doc/stable/reference/routines.linalg.html#solving-equations-and-inverting-matrices"
   ]
  },
  {
   "cell_type": "code",
   "execution_count": 111,
   "metadata": {},
   "outputs": [],
   "source": [
    "from numpy import linalg as LA"
   ]
  },
  {
   "cell_type": "markdown",
   "metadata": {},
   "source": [
    "We are going to use this arrays"
   ]
  },
  {
   "cell_type": "code",
   "execution_count": 97,
   "metadata": {},
   "outputs": [
    {
     "name": "stdout",
     "output_type": "stream",
     "text": [
      "arrA\n",
      " [[1 2]\n",
      " [3 4]]\n",
      "arrB\n",
      " [[2 4]\n",
      " [6 9]]\n",
      "arrC\n",
      " [[5 6]\n",
      " [7 8]]\n"
     ]
    }
   ],
   "source": [
    "arrA = np.array([[1,2], [3,4]])#5\n",
    "arrB = np.array([[2,4], [6,9]])#6\n",
    "arrC = np.array([[5,6], [7,8]])#8\n",
    "print(\"arrA\\n\", arrA)\n",
    "print(\"arrB\\n\", arrB)\n",
    "print(\"arrC\\n\", arrC)"
   ]
  },
  {
   "cell_type": "markdown",
   "metadata": {},
   "source": [
    "### Matrix multiplicaction with Dot product\n",
    "\n",
    "<img src=https://hadrienj.github.io/assets/images/2.2/dot-product.png>"
   ]
  },
  {
   "cell_type": "code",
   "execution_count": 95,
   "metadata": {},
   "outputs": [
    {
     "data": {
      "text/plain": [
       "array([[14, 22],\n",
       "       [30, 48]])"
      ]
     },
     "execution_count": 95,
     "metadata": {},
     "output_type": "execute_result"
    }
   ],
   "source": [
    "np.dot(arrA, arrB)"
   ]
  },
  {
   "cell_type": "markdown",
   "metadata": {},
   "source": [
    "You can perform the dot product using more than two arrays."
   ]
  },
  {
   "cell_type": "code",
   "execution_count": 98,
   "metadata": {},
   "outputs": [
    {
     "data": {
      "text/plain": [
       "array([[224, 260],\n",
       "       [486, 564]])"
      ]
     },
     "execution_count": 98,
     "metadata": {},
     "output_type": "execute_result"
    }
   ],
   "source": [
    "LA.multi_dot([arrA, arrB, arrC])"
   ]
  },
  {
   "cell_type": "markdown",
   "metadata": {},
   "source": [
    "### Inner product"
   ]
  },
  {
   "cell_type": "code",
   "execution_count": 99,
   "metadata": {},
   "outputs": [
    {
     "data": {
      "text/plain": [
       "array([[10, 24],\n",
       "       [22, 54]])"
      ]
     },
     "execution_count": 99,
     "metadata": {},
     "output_type": "execute_result"
    }
   ],
   "source": [
    "np.inner(arrA,arrB)"
   ]
  },
  {
   "cell_type": "code",
   "execution_count": null,
   "metadata": {},
   "outputs": [],
   "source": [
    "### Einstein summation\n",
    "\n",
    "<img src=>"
   ]
  },
  {
   "cell_type": "code",
   "execution_count": 123,
   "metadata": {},
   "outputs": [
    {
     "name": "stdout",
     "output_type": "stream",
     "text": [
      "arrD\n",
      " [0 1]\n",
      "arrE\n",
      " [[0 1 2 3]\n",
      " [4 5 6 7]]\n"
     ]
    }
   ],
   "source": [
    "arrD = np.array([0,1])\n",
    "arrE = np.array([[0,1,2,3],[4,5,6,7]])\n",
    "print(\"arrD\\n\",arrD)\n",
    "print(\"arrE\\n\", arrE)"
   ]
  },
  {
   "cell_type": "markdown",
   "metadata": {},
   "source": [
    "*i,ij*, says that we are going to be using one axis for arrD and two axis for arrE.\n",
    "\n",
    "*->i*, we want a one dimesonal array\n",
    "\n",
    "*j* It means that we want to multiply arrD and its individual single items by each column of array 12 and then you're going to sum those values"
   ]
  },
  {
   "cell_type": "code",
   "execution_count": 122,
   "metadata": {},
   "outputs": [
    {
     "data": {
      "text/plain": [
       "array([ 0, 22])"
      ]
     },
     "execution_count": 122,
     "metadata": {},
     "output_type": "execute_result"
    }
   ],
   "source": [
    "np.einsum('i,ij->i', arrD, arrE)"
   ]
  },
  {
   "cell_type": "markdown",
   "metadata": {},
   "source": [
    "### Raise matrix to the power of n\n",
    "$$\\Rightarrow A^2=A\\cdot A =\\begin{pmatrix}\n",
    "1 & 1 \\\\ \n",
    "1 & 1\n",
    "\\end{pmatrix}\\cdot \\begin{pmatrix}\n",
    "1 & 1 \\\\ \n",
    "1 & 1\n",
    "\\end{pmatrix}=\\begin{pmatrix}\n",
    "2 & 2 \\\\ \n",
    "2 & 2\n",
    "\\end{pmatrix}$$\n",
    "\n",
    "$$\\Rightarrow A^3=A^2 \\cdot A =\\begin{pmatrix}\n",
    "2 & 2 \\\\ \n",
    "2 & 2\n",
    "\\end{pmatrix}\\cdot \\begin{pmatrix}\n",
    "1 & 1 \\\\ \n",
    "1 & 1\n",
    "\\end{pmatrix}=\\begin{pmatrix}\n",
    "4 & 4 \\\\ \n",
    "4 & 4\n",
    "\\end{pmatrix}$$\n",
    "\n",
    "$$\\Rightarrow A^4=A^3\\cdot A =\\begin{pmatrix}\n",
    "4 & 4 \\\\ \n",
    "4 & 4\n",
    "\\end{pmatrix}\\cdot \\begin{pmatrix}\n",
    "1 & 1 \\\\ \n",
    "1 & 1\n",
    "\\end{pmatrix}=\\begin{pmatrix}\n",
    "8 & 8 \\\\ \n",
    "8 & 8\n",
    "\\end{pmatrix}$$\n",
    "$$\\Rightarrow A^5=A^4\\cdot A =\\begin{pmatrix}\n",
    "8 & 8 \\\\ \n",
    "8 & 8\n",
    "\\end{pmatrix}\\cdot \\begin{pmatrix}\n",
    "1 & 1 \\\\ \n",
    "1 & 1\n",
    "\\end{pmatrix}=\\begin{pmatrix}\n",
    "16 & 16 \\\\ \n",
    "16 & 16\n",
    "\\end{pmatrix}$$"
   ]
  },
  {
   "cell_type": "code",
   "execution_count": 141,
   "metadata": {},
   "outputs": [
    {
     "name": "stdout",
     "output_type": "stream",
     "text": [
      "A^2=\n",
      " [[2 2]\n",
      " [2 2]]\n",
      "A^3=\n",
      " [[4 4]\n",
      " [4 4]]\n",
      "A^4=\n",
      " [[8 8]\n",
      " [8 8]]\n",
      "A^5=\n",
      " [[16 16]\n",
      " [16 16]]\n"
     ]
    }
   ],
   "source": [
    "arrF = np.array([[1,1],[1,1]])\n",
    "print('A^2=\\n',LA.matrix_power(arrF,2))\n",
    "print('A^3=\\n',LA.matrix_power(arrF,3))\n",
    "print('A^4=\\n',LA.matrix_power(arrF,4))\n",
    "print('A^5=\\n',LA.matrix_power(arrF,5))"
   ]
  },
  {
   "cell_type": "markdown",
   "metadata": {},
   "source": [
    "### Kronecker product of 2 arrays\n",
    "$${\\begin{bmatrix}1&2\\\\3&4\\\\\\end{bmatrix}}\\otimes {\\begin{bmatrix}0&5\\\\6&7\\\\\\end{bmatrix}}={\\begin{bmatrix}1{\\begin{bmatrix}0&5\\\\6&7\\\\\\end{bmatrix}}&2{\\begin{bmatrix}0&5\\\\6&7\\\\\\end{bmatrix}}\\\\3{\\begin{bmatrix}0&5\\\\6&7\\\\\\end{bmatrix}}&4{\\begin{bmatrix}0&5\\\\6&7\\\\\\end{bmatrix}}\\\\\\end{bmatrix}}={\\begin{bmatrix}1\\times 0&1\\times 5&2\\times 0&2\\times 5\\\\1\\times 6&1\\times 7&2\\times 6&2\\times 7\\\\3\\times 0&3\\times 5&4\\times 0&4\\times 5\\\\3\\times 6&3\\times 7&4\\times 6&4\\times 7\\\\\\end{bmatrix}}={\\begin{bmatrix}0&5&0&10\\\\6&7&12&14\\\\0&15&0&20\\\\18&21&24&28\\end{bmatrix}}$$"
   ]
  },
  {
   "cell_type": "code",
   "execution_count": 145,
   "metadata": {},
   "outputs": [
    {
     "data": {
      "text/plain": [
       "array([[ 0,  5,  0, 10],\n",
       "       [ 6,  7, 12, 14],\n",
       "       [ 0, 15,  0, 20],\n",
       "       [18, 21, 24, 28]])"
      ]
     },
     "execution_count": 145,
     "metadata": {},
     "output_type": "execute_result"
    }
   ],
   "source": [
    "arrG = np.array([[1,2],[3,4]])\n",
    "arrH = np.array([[0,5],[6,7]])\n",
    "np.kron(arrG, arrH)"
   ]
  },
  {
   "cell_type": "markdown",
   "metadata": {},
   "source": [
    "### Compute eigenvalues"
   ]
  },
  {
   "cell_type": "code",
   "execution_count": 133,
   "metadata": {},
   "outputs": [
    {
     "data": {
      "text/plain": [
       "(array([-0.37228132,  5.37228132]),\n",
       " array([[-0.82456484, -0.41597356],\n",
       "        [ 0.56576746, -0.90937671]]))"
      ]
     },
     "execution_count": 133,
     "metadata": {},
     "output_type": "execute_result"
    }
   ],
   "source": [
    "LA.eig(arrA) #It returns eigenvectors "
   ]
  },
  {
   "cell_type": "code",
   "execution_count": 136,
   "metadata": {},
   "outputs": [
    {
     "data": {
      "text/plain": [
       "array([-0.37228132,  5.37228132])"
      ]
     },
     "execution_count": 136,
     "metadata": {},
     "output_type": "execute_result"
    }
   ],
   "source": [
    "LA.eigvals(arrA) #It returns eigenvalues"
   ]
  },
  {
   "cell_type": "markdown",
   "metadata": {},
   "source": [
    "### Get vector norm \n",
    "$$\\sqrt{\\sum_i x_i^2}$$"
   ]
  },
  {
   "cell_type": "code",
   "execution_count": 138,
   "metadata": {},
   "outputs": [
    {
     "data": {
      "text/plain": [
       "5.477225575051661"
      ]
     },
     "execution_count": 138,
     "metadata": {},
     "output_type": "execute_result"
    }
   ],
   "source": [
    "LA.norm(arrA)"
   ]
  },
  {
   "cell_type": "markdown",
   "metadata": {},
   "source": [
    "### Get multiplicative inverse of a matrix\n",
    "$$A\\times A^{-1}=1$$"
   ]
  },
  {
   "cell_type": "code",
   "execution_count": 139,
   "metadata": {},
   "outputs": [
    {
     "data": {
      "text/plain": [
       "array([[-2. ,  1. ],\n",
       "       [ 1.5, -0.5]])"
      ]
     },
     "execution_count": 139,
     "metadata": {},
     "output_type": "execute_result"
    }
   ],
   "source": [
    "LA.inv(arrA)"
   ]
  },
  {
   "cell_type": "markdown",
   "metadata": {},
   "source": [
    "### Get condition number of matrix"
   ]
  },
  {
   "cell_type": "code",
   "execution_count": 140,
   "metadata": {},
   "outputs": [
    {
     "data": {
      "text/plain": [
       "14.933034373659265"
      ]
     },
     "execution_count": 140,
     "metadata": {},
     "output_type": "execute_result"
    }
   ],
   "source": [
    "LA.cond(arrA)"
   ]
  },
  {
   "cell_type": "markdown",
   "metadata": {},
   "source": [
    "### Determinant\n",
    "$$ |A|={\\begin{vmatrix}a_{11}&a_{12}\\\\a_{21}&a_{22}\\end{vmatrix}}=a_{11}a_{22}-a_{12}a_{21}$$"
   ]
  },
  {
   "cell_type": "code",
   "execution_count": 154,
   "metadata": {},
   "outputs": [
    {
     "data": {
      "text/plain": [
       "-2.0000000000000004"
      ]
     },
     "execution_count": 154,
     "metadata": {},
     "output_type": "execute_result"
    }
   ],
   "source": [
    "LA.det(arrA)"
   ]
  },
  {
   "cell_type": "markdown",
   "metadata": {},
   "source": [
    "### Solving system of linear equations\n",
    "$$x+4y=10\\\\ 6x+18y=42$$\n",
    "$$\\Rightarrow x=-1, y=3$$"
   ]
  },
  {
   "cell_type": "code",
   "execution_count": 155,
   "metadata": {},
   "outputs": [
    {
     "data": {
      "text/plain": [
       "array([-2.,  3.])"
      ]
     },
     "execution_count": 155,
     "metadata": {},
     "output_type": "execute_result"
    }
   ],
   "source": [
    "arrI = np.array([[1,4],[6,18]])\n",
    "arrJ = np.array([10,42])\n",
    "LA.solve(arrI,arrJ)"
   ]
  },
  {
   "cell_type": "markdown",
   "metadata": {},
   "source": []
  },
  {
   "cell_type": "markdown",
   "metadata": {},
   "source": [
    "## 1.11 Getting data in/out <a class=\"get\" id=\"get\"></a>\n",
    "### CSV"
   ]
  },
  {
   "cell_type": "code",
   "execution_count": 90,
   "metadata": {},
   "outputs": [],
   "source": [
    "from numpy import genfromtxt"
   ]
  },
  {
   "cell_type": "code",
   "execution_count": 92,
   "metadata": {},
   "outputs": [
    {
     "data": {
      "text/plain": [
       "[array([], dtype=float64),\n",
       " array([  0.        ,  -2.        , -10.56183478]),\n",
       " array([ 1.        , -1.93939394, -8.23185349]),\n",
       " array([ 2.        , -1.87878788, -9.53495274]),\n",
       " array([ 3.        , -1.81818182, -9.24133556]),\n",
       " array([  4.        ,  -1.75757576, -10.31981521]),\n",
       " array([ 5.        , -1.6969697 , -9.60997769]),\n",
       " array([  6.        ,  -1.63636364, -10.48117612]),\n",
       " array([ 7.        , -1.57575758, -9.42026318]),\n",
       " array([  8.        ,  -1.51515152, -12.78932796]),\n",
       " array([  9.        ,  -1.45454545, -10.77253635]),\n",
       " array([10.        , -1.39393939, -9.24333319]),\n",
       " array([11.        , -1.33333333, -9.93887381]),\n",
       " array([12.        , -1.27272727, -8.89555105]),\n",
       " array([13.        , -1.21212121, -9.56581476]),\n",
       " array([ 14.        ,  -1.15151515, -10.34616499]),\n",
       " array([15.        , -1.09090909, -9.19895736]),\n",
       " array([16.        , -1.03030303, -8.50204924]),\n",
       " array([17.        , -0.96969697, -7.55144059]),\n",
       " array([18.        , -0.90909091, -7.01061417]),\n",
       " array([ 19.        ,  -0.84848485, -11.03251431]),\n",
       " array([ 20.        ,  -0.78787879, -10.34551442]),\n",
       " array([21.        , -0.72727273, -9.40828733]),\n",
       " array([22.        , -0.66666667, -9.23646806]),\n",
       " array([23.        , -0.60606061, -9.24113504]),\n",
       " array([ 24.        ,  -0.54545455, -10.57317206]),\n",
       " array([25.        , -0.48484848, -9.90677721]),\n",
       " array([26.        , -0.42424242, -8.52227018]),\n",
       " array([27.        , -0.36363636, -7.63547988]),\n",
       " array([28.        , -0.3030303 , -9.76915857]),\n",
       " array([ 29.        ,  -0.24242424, -10.52668995]),\n",
       " array([30.        , -0.18181818, -8.39976788]),\n",
       " array([31.        , -0.12121212, -7.25073733]),\n",
       " array([32.        , -0.06060606, -7.99434089]),\n",
       " array([33.        ,  0.        , -7.57081459]),\n",
       " array([ 34.        ,   0.06060606, -10.52876436]),\n",
       " array([35.        ,  0.12121212, -8.75913474]),\n",
       " array([36.        ,  0.18181818, -9.61095671]),\n",
       " array([37.        ,  0.24242424, -8.96650797]),\n",
       " array([38.        ,  0.3030303 , -8.37256378]),\n",
       " array([39.        ,  0.36363636, -7.57728189]),\n",
       " array([40.        ,  0.42424242, -8.07861235]),\n",
       " array([41.        ,  0.48484848, -9.59402369]),\n",
       " array([ 42.        ,   0.54545455, -10.30067162]),\n",
       " array([43.        ,  0.60606061, -8.79933631]),\n",
       " array([44.        ,  0.66666667, -7.0455507 ]),\n",
       " array([45.        ,  0.72727273, -9.18795263]),\n",
       " array([46.        ,  0.78787879, -5.92259284]),\n",
       " array([47.        ,  0.84848485, -6.70573168]),\n",
       " array([48.        ,  0.90909091, -5.73473297]),\n",
       " array([49.        ,  0.96969697, -7.37529921]),\n",
       " array([50.        ,  1.03030303, -5.86329019]),\n",
       " array([51.        ,  1.09090909, -7.12998918]),\n",
       " array([52.        ,  1.15151515, -4.78396179]),\n",
       " array([53.        ,  1.21212121, -5.97443572]),\n",
       " array([54.        ,  1.27272727, -7.0740084 ]),\n",
       " array([55.        ,  1.33333333, -6.78276503]),\n",
       " array([56.        ,  1.39393939, -5.939182  ]),\n",
       " array([57.        ,  1.45454545, -4.2770758 ]),\n",
       " array([58.        ,  1.51515152, -5.72936105]),\n",
       " array([59.        ,  1.57575758, -6.16484632]),\n",
       " array([60.        ,  1.63636364, -5.6028425 ]),\n",
       " array([61.       ,  1.6969697, -5.1248621]),\n",
       " array([62.        ,  1.75757576, -4.89639999]),\n",
       " array([63.        ,  1.81818182, -2.08828742]),\n",
       " array([64.        ,  1.87878788, -4.26055053]),\n",
       " array([65.        ,  1.93939394, -1.83514608]),\n",
       " array([66.        ,  2.        , -4.07230683]),\n",
       " array([67.        ,  2.06060606, -1.67730906]),\n",
       " array([68.        ,  2.12121212, -0.8953282 ]),\n",
       " array([69.        ,  2.18181818, -1.45156073]),\n",
       " array([70.        ,  2.24242424, -2.11057547]),\n",
       " array([71.        ,  2.3030303 ,  0.11296284]),\n",
       " array([72.        ,  2.36363636,  1.07439504]),\n",
       " array([73.        ,  2.42424242,  1.79146259]),\n",
       " array([74.        ,  2.48484848,  3.46975438]),\n",
       " array([75.        ,  2.54545455,  3.06444803]),\n",
       " array([76.        ,  2.60606061,  2.29256789]),\n",
       " array([77.        ,  2.66666667,  6.4840826 ]),\n",
       " array([78.        ,  2.72727273,  5.00598285]),\n",
       " array([79.        ,  2.78787879,  6.22455911]),\n",
       " array([80.        ,  2.84848485,  7.56342475]),\n",
       " array([81.        ,  2.90909091,  7.75040951]),\n",
       " array([82.        ,  2.96969697,  9.67454643]),\n",
       " array([83.        ,  3.03030303, 10.81676148]),\n",
       " array([84.        ,  3.09090909, 12.7177695 ]),\n",
       " array([85.        ,  3.15151515, 12.91911746]),\n",
       " array([86.        ,  3.21212121, 15.30992084]),\n",
       " array([87.        ,  3.27272727, 15.84295121]),\n",
       " array([88.        ,  3.33333333, 17.62438807]),\n",
       " array([89.        ,  3.39393939, 20.30877007]),\n",
       " array([90.        ,  3.45454545, 20.69818459]),\n",
       " array([91.        ,  3.51515152, 21.89418625]),\n",
       " array([92.        ,  3.57575758, 25.87932361]),\n",
       " array([93.        ,  3.63636364, 28.60186874]),\n",
       " array([94.        ,  3.6969697 , 31.76563274]),\n",
       " array([95.        ,  3.75757576, 35.02069772]),\n",
       " array([96.        ,  3.81818182, 34.63011775]),\n",
       " array([97.        ,  3.87878788, 37.78187173]),\n",
       " array([98.        ,  3.93939394, 41.86947682]),\n",
       " array([99.        ,  4.        , 44.05086347])]"
      ]
     },
     "execution_count": 92,
     "metadata": {},
     "output_type": "execute_result"
    }
   ],
   "source": [
    "filef =  genfromtxt('file_f.csv', delimiter=',')\n",
    "filef = [row[~np.isnan(row)] for row in filef]\n",
    "filef"
   ]
  },
  {
   "cell_type": "code",
   "execution_count": null,
   "metadata": {},
   "outputs": [],
   "source": []
  },
  {
   "cell_type": "markdown",
   "metadata": {},
   "source": [
    "### Homework\n",
    "- Create a function that given an in x, it give an out $sec^2(x)-tan^2(x)$ and check that for different values it gives 1."
   ]
  },
  {
   "cell_type": "code",
   "execution_count": null,
   "metadata": {},
   "outputs": [],
   "source": []
  },
  {
   "cell_type": "markdown",
   "metadata": {},
   "source": []
  }
 ],
 "metadata": {
  "kernelspec": {
   "display_name": "Python 3",
   "language": "python",
   "name": "python3"
  },
  "language_info": {
   "codemirror_mode": {
    "name": "ipython",
    "version": 3
   },
   "file_extension": ".py",
   "mimetype": "text/x-python",
   "name": "python",
   "nbconvert_exporter": "python",
   "pygments_lexer": "ipython3",
   "version": "3.8.5"
  }
 },
 "nbformat": 4,
 "nbformat_minor": 4
}
